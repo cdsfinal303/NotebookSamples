{
 "cells": [
  {
   "cell_type": "markdown",
   "metadata": {},
   "source": [
    "### Load packages"
   ]
  },
  {
   "cell_type": "code",
   "execution_count": 60,
   "metadata": {},
   "outputs": [],
   "source": [
    "import pandas as pd\n",
    "import numpy as np\n",
    "import seaborn as sns\n",
    "import matplotlib.pyplot as plt\n",
    "import plotly.express as px\n",
    "import plotly.graph_objects as go\n",
    "from plotly.subplots import make_subplots\n",
    "from matplotlib_venn import venn2\n",
    "from sklearn.preprocessing import StandardScaler\n",
    "np.set_printoptions(suppress=True)"
   ]
  },
  {
   "cell_type": "markdown",
   "metadata": {},
   "source": [
    "### Loading datasets"
   ]
  },
  {
   "cell_type": "code",
   "execution_count": 61,
   "metadata": {},
   "outputs": [],
   "source": [
    "# Read the directory paths from the text file\n",
    "with open(\"Ldirectory.txt\", \"r\") as file:\n",
    "    lines = file.readlines()\n",
    "    dailyprice_directory = lines[0].strip().split(\":\")[1].strip()\n",
    "    sentiment_directory = lines[1].strip().split(\":\")[1].strip()\n",
    "\n",
    "# Open dailyprice and sentiment files using the directory paths\n",
    "price_data = pd.read_csv(dailyprice_directory)\n",
    "sentiment_data = pd.read_excel(sentiment_directory, sheet_name=1)"
   ]
  },
  {
   "cell_type": "markdown",
   "metadata": {},
   "source": [
    "Let's take a preliminary look at the datasets to gain an initial understanding of their contents and structure."
   ]
  },
  {
   "cell_type": "code",
   "execution_count": 62,
   "metadata": {},
   "outputs": [
    {
     "data": {
      "text/html": [
       "<div>\n",
       "<style scoped>\n",
       "    .dataframe tbody tr th:only-of-type {\n",
       "        vertical-align: middle;\n",
       "    }\n",
       "\n",
       "    .dataframe tbody tr th {\n",
       "        vertical-align: top;\n",
       "    }\n",
       "\n",
       "    .dataframe thead th {\n",
       "        text-align: right;\n",
       "    }\n",
       "</style>\n",
       "<table border=\"1\" class=\"dataframe\">\n",
       "  <thead>\n",
       "    <tr style=\"text-align: right;\">\n",
       "      <th></th>\n",
       "      <th>date</th>\n",
       "      <th>1. open</th>\n",
       "      <th>2. high</th>\n",
       "      <th>3. low</th>\n",
       "      <th>4. close</th>\n",
       "      <th>5. volume</th>\n",
       "      <th>TickerName</th>\n",
       "    </tr>\n",
       "  </thead>\n",
       "  <tbody>\n",
       "    <tr>\n",
       "      <th>783</th>\n",
       "      <td>2023-02-22</td>\n",
       "      <td>5.0500</td>\n",
       "      <td>5.1900</td>\n",
       "      <td>5.0500</td>\n",
       "      <td>5.160</td>\n",
       "      <td>56167</td>\n",
       "      <td>GCT</td>\n",
       "    </tr>\n",
       "    <tr>\n",
       "      <th>1438</th>\n",
       "      <td>2022-08-26</td>\n",
       "      <td>2.6618</td>\n",
       "      <td>2.6618</td>\n",
       "      <td>2.3300</td>\n",
       "      <td>2.470</td>\n",
       "      <td>343256</td>\n",
       "      <td>MGAM</td>\n",
       "    </tr>\n",
       "    <tr>\n",
       "      <th>1056</th>\n",
       "      <td>2023-03-27</td>\n",
       "      <td>1.4517</td>\n",
       "      <td>1.4800</td>\n",
       "      <td>1.3900</td>\n",
       "      <td>1.430</td>\n",
       "      <td>14785</td>\n",
       "      <td>SNAL</td>\n",
       "    </tr>\n",
       "    <tr>\n",
       "      <th>1022</th>\n",
       "      <td>2023-05-15</td>\n",
       "      <td>1.4400</td>\n",
       "      <td>1.5300</td>\n",
       "      <td>1.4400</td>\n",
       "      <td>1.465</td>\n",
       "      <td>4021</td>\n",
       "      <td>SNAL</td>\n",
       "    </tr>\n",
       "    <tr>\n",
       "      <th>748</th>\n",
       "      <td>2023-04-13</td>\n",
       "      <td>5.8500</td>\n",
       "      <td>6.0500</td>\n",
       "      <td>5.8500</td>\n",
       "      <td>5.900</td>\n",
       "      <td>39809</td>\n",
       "      <td>GCT</td>\n",
       "    </tr>\n",
       "    <tr>\n",
       "      <th>1354</th>\n",
       "      <td>2022-12-27</td>\n",
       "      <td>1.2100</td>\n",
       "      <td>1.2700</td>\n",
       "      <td>1.0400</td>\n",
       "      <td>1.120</td>\n",
       "      <td>573616</td>\n",
       "      <td>MGAM</td>\n",
       "    </tr>\n",
       "    <tr>\n",
       "      <th>557</th>\n",
       "      <td>2023-04-28</td>\n",
       "      <td>0.9000</td>\n",
       "      <td>0.9300</td>\n",
       "      <td>0.8215</td>\n",
       "      <td>0.890</td>\n",
       "      <td>78764</td>\n",
       "      <td>ASST</td>\n",
       "    </tr>\n",
       "  </tbody>\n",
       "</table>\n",
       "</div>"
      ],
      "text/plain": [
       "            date  1. open  2. high  3. low  4. close  5. volume TickerName\n",
       "783   2023-02-22   5.0500   5.1900  5.0500     5.160      56167        GCT\n",
       "1438  2022-08-26   2.6618   2.6618  2.3300     2.470     343256       MGAM\n",
       "1056  2023-03-27   1.4517   1.4800  1.3900     1.430      14785       SNAL\n",
       "1022  2023-05-15   1.4400   1.5300  1.4400     1.465       4021       SNAL\n",
       "748   2023-04-13   5.8500   6.0500  5.8500     5.900      39809        GCT\n",
       "1354  2022-12-27   1.2100   1.2700  1.0400     1.120     573616       MGAM\n",
       "557   2023-04-28   0.9000   0.9300  0.8215     0.890      78764       ASST"
      ]
     },
     "execution_count": 62,
     "metadata": {},
     "output_type": "execute_result"
    }
   ],
   "source": [
    "price_data.sample(7)"
   ]
  },
  {
   "cell_type": "code",
   "execution_count": 63,
   "metadata": {},
   "outputs": [
    {
     "data": {
      "text/html": [
       "<div>\n",
       "<style scoped>\n",
       "    .dataframe tbody tr th:only-of-type {\n",
       "        vertical-align: middle;\n",
       "    }\n",
       "\n",
       "    .dataframe tbody tr th {\n",
       "        vertical-align: top;\n",
       "    }\n",
       "\n",
       "    .dataframe thead th {\n",
       "        text-align: right;\n",
       "    }\n",
       "</style>\n",
       "<table border=\"1\" class=\"dataframe\">\n",
       "  <thead>\n",
       "    <tr style=\"text-align: right;\">\n",
       "      <th></th>\n",
       "      <th>date</th>\n",
       "      <th>News Sentiment</th>\n",
       "    </tr>\n",
       "  </thead>\n",
       "  <tbody>\n",
       "    <tr>\n",
       "      <th>11584</th>\n",
       "      <td>2011-10-08</td>\n",
       "      <td>-0.270918</td>\n",
       "    </tr>\n",
       "    <tr>\n",
       "      <th>8739</th>\n",
       "      <td>2003-12-24</td>\n",
       "      <td>0.284860</td>\n",
       "    </tr>\n",
       "    <tr>\n",
       "      <th>11616</th>\n",
       "      <td>2011-11-09</td>\n",
       "      <td>-0.164991</td>\n",
       "    </tr>\n",
       "    <tr>\n",
       "      <th>2164</th>\n",
       "      <td>1985-12-23</td>\n",
       "      <td>-0.040419</td>\n",
       "    </tr>\n",
       "    <tr>\n",
       "      <th>7397</th>\n",
       "      <td>2000-04-21</td>\n",
       "      <td>0.210809</td>\n",
       "    </tr>\n",
       "    <tr>\n",
       "      <th>1683</th>\n",
       "      <td>1984-08-29</td>\n",
       "      <td>0.105096</td>\n",
       "    </tr>\n",
       "    <tr>\n",
       "      <th>4628</th>\n",
       "      <td>1992-09-21</td>\n",
       "      <td>-0.061812</td>\n",
       "    </tr>\n",
       "  </tbody>\n",
       "</table>\n",
       "</div>"
      ],
      "text/plain": [
       "            date  News Sentiment\n",
       "11584 2011-10-08       -0.270918\n",
       "8739  2003-12-24        0.284860\n",
       "11616 2011-11-09       -0.164991\n",
       "2164  1985-12-23       -0.040419\n",
       "7397  2000-04-21        0.210809\n",
       "1683  1984-08-29        0.105096\n",
       "4628  1992-09-21       -0.061812"
      ]
     },
     "execution_count": 63,
     "metadata": {},
     "output_type": "execute_result"
    }
   ],
   "source": [
    "sentiment_data.sample(7)"
   ]
  },
  {
   "cell_type": "markdown",
   "metadata": {},
   "source": [
    "# Data Preparation"
   ]
  },
  {
   "cell_type": "markdown",
   "metadata": {},
   "source": [
    "The data preparation phase that we are applying in this project as a part of CRISP-DM process involves several key steps. Initially, **data cleaning** is performed to address issues like missing values, outliers, and inconsistencies, ensuring the dataset is accurate and reliable. Next, **Feature engineering** tasks such as scaling and normalization to modify and restructure the data for better analysis. Finally, the dataset is split into training and testing **(train-test split)**, allowing for unbiased model evaluation and avoiding overfitting. These steps collectively ensure that the data is of high quality, suitable for analysis, and well-prepared for subsequent modeling and evaluation stages."
   ]
  },
  {
   "cell_type": "markdown",
   "metadata": {},
   "source": [
    "- Data Cleaning (pre-processing)\n",
    "- Feature engineering\n",
    "- Train/Test split"
   ]
  },
  {
   "cell_type": "markdown",
   "metadata": {},
   "source": [
    "## Data Cleaning (Pre-processing)"
   ]
  },
  {
   "cell_type": "markdown",
   "metadata": {},
   "source": [
    "- Formatting and type conversion\n",
    "- Column concatination\n",
    "- Column selection and dropping\n",
    "- Missing value analysis\n",
    "- Rename columns\n",
    "- Outlier detection\n",
    "- Duplicate detection\n"
   ]
  },
  {
   "cell_type": "markdown",
   "metadata": {},
   "source": [
    "#### Formatting and type conversion"
   ]
  },
  {
   "cell_type": "code",
   "execution_count": 64,
   "metadata": {},
   "outputs": [],
   "source": [
    "# changing date column to datetime\n",
    "price_data['date']= pd.to_datetime(price_data['date'])"
   ]
  },
  {
   "cell_type": "markdown",
   "metadata": {},
   "source": [
    "#### Column concatination"
   ]
  },
  {
   "cell_type": "markdown",
   "metadata": {},
   "source": [
    "Before starting the data preparation process, let's merge the two datasets based on the 'date' column"
   ]
  },
  {
   "cell_type": "code",
   "execution_count": 65,
   "metadata": {},
   "outputs": [],
   "source": [
    "joined_df = sentiment_data.set_index('date').join(price_data.set_index('date'), how='inner').reset_index()"
   ]
  },
  {
   "cell_type": "markdown",
   "metadata": {},
   "source": [
    "#### Column selection and dropping"
   ]
  },
  {
   "cell_type": "markdown",
   "metadata": {},
   "source": [
    "In this part we are identifying and selecting the columns that are relevant or necessary for our future analysis and modeling."
   ]
  },
  {
   "cell_type": "code",
   "execution_count": 66,
   "metadata": {},
   "outputs": [
    {
     "data": {
      "text/html": [
       "<div>\n",
       "<style scoped>\n",
       "    .dataframe tbody tr th:only-of-type {\n",
       "        vertical-align: middle;\n",
       "    }\n",
       "\n",
       "    .dataframe tbody tr th {\n",
       "        vertical-align: top;\n",
       "    }\n",
       "\n",
       "    .dataframe thead th {\n",
       "        text-align: right;\n",
       "    }\n",
       "</style>\n",
       "<table border=\"1\" class=\"dataframe\">\n",
       "  <thead>\n",
       "    <tr style=\"text-align: right;\">\n",
       "      <th></th>\n",
       "      <th>date</th>\n",
       "      <th>News Sentiment</th>\n",
       "      <th>4. close</th>\n",
       "      <th>5. volume</th>\n",
       "      <th>TickerName</th>\n",
       "    </tr>\n",
       "  </thead>\n",
       "  <tbody>\n",
       "    <tr>\n",
       "      <th>0</th>\n",
       "      <td>2022-01-27</td>\n",
       "      <td>-0.048525</td>\n",
       "      <td>5.9100</td>\n",
       "      <td>1608576</td>\n",
       "      <td>KSCP</td>\n",
       "    </tr>\n",
       "    <tr>\n",
       "      <th>1</th>\n",
       "      <td>2022-01-28</td>\n",
       "      <td>-0.058983</td>\n",
       "      <td>16.2900</td>\n",
       "      <td>26574308</td>\n",
       "      <td>KSCP</td>\n",
       "    </tr>\n",
       "    <tr>\n",
       "      <th>2</th>\n",
       "      <td>2022-01-31</td>\n",
       "      <td>-0.067368</td>\n",
       "      <td>21.4000</td>\n",
       "      <td>42899912</td>\n",
       "      <td>KSCP</td>\n",
       "    </tr>\n",
       "    <tr>\n",
       "      <th>3</th>\n",
       "      <td>2022-02-01</td>\n",
       "      <td>-0.070566</td>\n",
       "      <td>12.4400</td>\n",
       "      <td>18493106</td>\n",
       "      <td>KSCP</td>\n",
       "    </tr>\n",
       "    <tr>\n",
       "      <th>4</th>\n",
       "      <td>2022-02-02</td>\n",
       "      <td>-0.061209</td>\n",
       "      <td>9.5500</td>\n",
       "      <td>12613046</td>\n",
       "      <td>KSCP</td>\n",
       "    </tr>\n",
       "    <tr>\n",
       "      <th>...</th>\n",
       "      <td>...</td>\n",
       "      <td>...</td>\n",
       "      <td>...</td>\n",
       "      <td>...</td>\n",
       "      <td>...</td>\n",
       "    </tr>\n",
       "    <tr>\n",
       "      <th>1429</th>\n",
       "      <td>2023-10-13</td>\n",
       "      <td>-0.073652</td>\n",
       "      <td>0.8716</td>\n",
       "      <td>598178</td>\n",
       "      <td>KSCP</td>\n",
       "    </tr>\n",
       "    <tr>\n",
       "      <th>1430</th>\n",
       "      <td>2023-10-13</td>\n",
       "      <td>-0.073652</td>\n",
       "      <td>0.5361</td>\n",
       "      <td>502908</td>\n",
       "      <td>ASST</td>\n",
       "    </tr>\n",
       "    <tr>\n",
       "      <th>1431</th>\n",
       "      <td>2023-10-13</td>\n",
       "      <td>-0.073652</td>\n",
       "      <td>8.6900</td>\n",
       "      <td>476329</td>\n",
       "      <td>GCT</td>\n",
       "    </tr>\n",
       "    <tr>\n",
       "      <th>1432</th>\n",
       "      <td>2023-10-13</td>\n",
       "      <td>-0.073652</td>\n",
       "      <td>1.4000</td>\n",
       "      <td>4298</td>\n",
       "      <td>SNAL</td>\n",
       "    </tr>\n",
       "    <tr>\n",
       "      <th>1433</th>\n",
       "      <td>2023-10-13</td>\n",
       "      <td>-0.073652</td>\n",
       "      <td>0.4295</td>\n",
       "      <td>63047</td>\n",
       "      <td>MGAM</td>\n",
       "    </tr>\n",
       "  </tbody>\n",
       "</table>\n",
       "<p>1434 rows × 5 columns</p>\n",
       "</div>"
      ],
      "text/plain": [
       "           date  News Sentiment  4. close  5. volume TickerName\n",
       "0    2022-01-27       -0.048525    5.9100    1608576       KSCP\n",
       "1    2022-01-28       -0.058983   16.2900   26574308       KSCP\n",
       "2    2022-01-31       -0.067368   21.4000   42899912       KSCP\n",
       "3    2022-02-01       -0.070566   12.4400   18493106       KSCP\n",
       "4    2022-02-02       -0.061209    9.5500   12613046       KSCP\n",
       "...         ...             ...       ...        ...        ...\n",
       "1429 2023-10-13       -0.073652    0.8716     598178       KSCP\n",
       "1430 2023-10-13       -0.073652    0.5361     502908       ASST\n",
       "1431 2023-10-13       -0.073652    8.6900     476329        GCT\n",
       "1432 2023-10-13       -0.073652    1.4000       4298       SNAL\n",
       "1433 2023-10-13       -0.073652    0.4295      63047       MGAM\n",
       "\n",
       "[1434 rows x 5 columns]"
      ]
     },
     "execution_count": 66,
     "metadata": {},
     "output_type": "execute_result"
    }
   ],
   "source": [
    "#Drop specific columns\n",
    "columns_to_drop = ['2. high', '3. low', '1. open']\n",
    "joined_df = joined_df.drop(columns=columns_to_drop)\n",
    "\n",
    "# Print the modified DataFrame\n",
    "joined_df"
   ]
  },
  {
   "cell_type": "markdown",
   "metadata": {},
   "source": [
    "#### Missing value analysis"
   ]
  },
  {
   "cell_type": "code",
   "execution_count": 67,
   "metadata": {},
   "outputs": [
    {
     "name": "stdout",
     "output_type": "stream",
     "text": [
      "The dataset does not have any null values.\n"
     ]
    }
   ],
   "source": [
    "has_nulls = joined_df.isnull().any().any()\n",
    "\n",
    "# Check if the dataset has null values\n",
    "if has_nulls:\n",
    "    print(\"The dataset contains null values.\")\n",
    "else:\n",
    "    print(\"The dataset does not have any null values.\")"
   ]
  },
  {
   "cell_type": "markdown",
   "metadata": {},
   "source": [
    "Based on the absence of null values in the dataset, the data has been thoroughly examined and found to be free of any missing values. Consequently, we can confidently proceed to the subsequent steps."
   ]
  },
  {
   "cell_type": "markdown",
   "metadata": {},
   "source": [
    "#### Rename columns"
   ]
  },
  {
   "cell_type": "markdown",
   "metadata": {},
   "source": [
    "We are renaming our columns to better reflect the content of our dataset"
   ]
  },
  {
   "cell_type": "code",
   "execution_count": 68,
   "metadata": {},
   "outputs": [
    {
     "data": {
      "text/html": [
       "<div>\n",
       "<style scoped>\n",
       "    .dataframe tbody tr th:only-of-type {\n",
       "        vertical-align: middle;\n",
       "    }\n",
       "\n",
       "    .dataframe tbody tr th {\n",
       "        vertical-align: top;\n",
       "    }\n",
       "\n",
       "    .dataframe thead th {\n",
       "        text-align: right;\n",
       "    }\n",
       "</style>\n",
       "<table border=\"1\" class=\"dataframe\">\n",
       "  <thead>\n",
       "    <tr style=\"text-align: right;\">\n",
       "      <th></th>\n",
       "      <th>date</th>\n",
       "      <th>News Sentiment</th>\n",
       "      <th>close</th>\n",
       "      <th>volume</th>\n",
       "      <th>TickerName</th>\n",
       "    </tr>\n",
       "  </thead>\n",
       "  <tbody>\n",
       "    <tr>\n",
       "      <th>619</th>\n",
       "      <td>2023-02-22</td>\n",
       "      <td>-0.013844</td>\n",
       "      <td>1.0900</td>\n",
       "      <td>607251</td>\n",
       "      <td>KSCP</td>\n",
       "    </tr>\n",
       "    <tr>\n",
       "      <th>340</th>\n",
       "      <td>2022-11-14</td>\n",
       "      <td>-0.117618</td>\n",
       "      <td>6.4400</td>\n",
       "      <td>180135</td>\n",
       "      <td>GCT</td>\n",
       "    </tr>\n",
       "    <tr>\n",
       "      <th>1262</th>\n",
       "      <td>2023-08-25</td>\n",
       "      <td>-0.020734</td>\n",
       "      <td>1.3100</td>\n",
       "      <td>3937</td>\n",
       "      <td>SNAL</td>\n",
       "    </tr>\n",
       "    <tr>\n",
       "      <th>814</th>\n",
       "      <td>2023-04-19</td>\n",
       "      <td>-0.169334</td>\n",
       "      <td>0.6730</td>\n",
       "      <td>993260</td>\n",
       "      <td>KSCP</td>\n",
       "    </tr>\n",
       "    <tr>\n",
       "      <th>366</th>\n",
       "      <td>2022-11-22</td>\n",
       "      <td>-0.121982</td>\n",
       "      <td>0.7901</td>\n",
       "      <td>25750</td>\n",
       "      <td>MGAM</td>\n",
       "    </tr>\n",
       "    <tr>\n",
       "      <th>70</th>\n",
       "      <td>2022-05-09</td>\n",
       "      <td>-0.067036</td>\n",
       "      <td>4.0300</td>\n",
       "      <td>228230</td>\n",
       "      <td>KSCP</td>\n",
       "    </tr>\n",
       "    <tr>\n",
       "      <th>278</th>\n",
       "      <td>2022-10-17</td>\n",
       "      <td>-0.217449</td>\n",
       "      <td>5.6200</td>\n",
       "      <td>394065</td>\n",
       "      <td>GCT</td>\n",
       "    </tr>\n",
       "  </tbody>\n",
       "</table>\n",
       "</div>"
      ],
      "text/plain": [
       "           date  News Sentiment   close  volume TickerName\n",
       "619  2023-02-22       -0.013844  1.0900  607251       KSCP\n",
       "340  2022-11-14       -0.117618  6.4400  180135        GCT\n",
       "1262 2023-08-25       -0.020734  1.3100    3937       SNAL\n",
       "814  2023-04-19       -0.169334  0.6730  993260       KSCP\n",
       "366  2022-11-22       -0.121982  0.7901   25750       MGAM\n",
       "70   2022-05-09       -0.067036  4.0300  228230       KSCP\n",
       "278  2022-10-17       -0.217449  5.6200  394065        GCT"
      ]
     },
     "execution_count": 68,
     "metadata": {},
     "output_type": "execute_result"
    }
   ],
   "source": [
    "old_names = ['date', 'News Sentiment', '4. close', '5. volume', 'TickerName']\n",
    "new_names = ['date', 'News Sentiment', 'close', 'volume']\n",
    "\n",
    "# Create a mapping dictionary from old names to new names\n",
    "column_mapping = dict(zip(old_names, new_names))\n",
    "\n",
    "# Rename the columns using the mapping dictionary\n",
    "joined_df = joined_df.rename(columns=column_mapping)\n",
    "joined_df.sample(7)"
   ]
  },
  {
   "cell_type": "markdown",
   "metadata": {},
   "source": [
    "#### Outlier detection"
   ]
  },
  {
   "cell_type": "code",
   "execution_count": 69,
   "metadata": {},
   "outputs": [
    {
     "name": "stdout",
     "output_type": "stream",
     "text": [
      "     date  News Sentiment  close      volume TickerName\n",
      "0     NaT             NaN    NaN         NaN        NaN\n",
      "1     NaT             NaN  16.29  26574308.0        NaN\n",
      "2     NaT             NaN  21.40  42899912.0        NaN\n",
      "3     NaT             NaN    NaN  18493106.0        NaN\n",
      "4     NaT             NaN    NaN         NaN        NaN\n",
      "...   ...             ...    ...         ...        ...\n",
      "1429  NaT             NaN    NaN         NaN        NaN\n",
      "1430  NaT             NaN    NaN         NaN        NaN\n",
      "1431  NaT             NaN    NaN         NaN        NaN\n",
      "1432  NaT             NaN    NaN         NaN        NaN\n",
      "1433  NaT             NaN    NaN         NaN        NaN\n",
      "\n",
      "[1434 rows x 5 columns]\n"
     ]
    }
   ],
   "source": [
    "# Select the numerical columns for outlier detection\n",
    "numeric_cols = ['News Sentiment', 'close', 'volume']\n",
    "\n",
    "# Compute the Z-scores for each numeric column\n",
    "z_scores = np.abs((joined_df[numeric_cols] - joined_df[numeric_cols].mean()) / joined_df[numeric_cols].std())\n",
    "\n",
    "# Set the threshold for outlier detection (e.g., Z-score threshold of 3)\n",
    "z_score_threshold = 3\n",
    "\n",
    "# Identify outliers by checking if the Z-score exceeds the threshold\n",
    "outliers = joined_df[z_scores > z_score_threshold]\n",
    "\n",
    "# Print the outliers\n",
    "print(outliers)"
   ]
  },
  {
   "cell_type": "markdown",
   "metadata": {},
   "source": [
    "Given the complexity of the previous output, visualizing the outliers through plotting is a more comprehensible approach. The following code facilitates a clearer understanding of the data by creating a boxplot that highlights outliers."
   ]
  },
  {
   "cell_type": "code",
   "execution_count": 70,
   "metadata": {},
   "outputs": [
    {
     "data": {
      "image/png": "[encoded data removed]",
      "text/plain": [
       "<Figure size 800x400 with 1 Axes>"
      ]
     },
     "metadata": {},
     "output_type": "display_data"
    },
    {
     "name": "stderr",
     "output_type": "stream",
     "text": [
      "C:\\Users\\babyl\\AppData\\Local\\Temp\\ipykernel_19656\\917716136.py:13: FutureWarning:\n",
      "\n",
      "\n",
      "\n",
      "Passing `palette` without assigning `hue` is deprecated and will be removed in v0.14.0. Assign the `y` variable to `hue` and set `legend=False` for the same effect.\n",
      "\n",
      "\n"
     ]
    },
    {
     "data": {
      "image/png": "[encoded data removed]",
      "text/plain": [
       "<Figure size 800x400 with 1 Axes>"
      ]
     },
     "metadata": {},
     "output_type": "display_data"
    }
   ],
   "source": [
    "# Set the style of the visualization\n",
    "sns.set(style=\"whitegrid\")\n",
    "\n",
    "# Create a boxplot for each numerical column with log scale on the y-axis\n",
    "plt.figure(figsize=(8, 4))\n",
    "sns.boxplot(data=joined_df.drop(columns=['date', 'TickerName']), palette=\"Set3\")\n",
    "plt.yscale(\"log\")  # Apply logarithmic scale to the y-axis\n",
    "plt.title(\"Boxplot of Numerical Columns with Outliers Highlighted (Log Scale)\")\n",
    "plt.show()\n",
    "\n",
    "# Separate boxplot for 'News Sentiment'\n",
    "plt.figure(figsize=(8, 4))\n",
    "sns.boxplot(x=joined_df['News Sentiment'], palette=\"Set3\")\n",
    "plt.title(\"Boxplot of News Sentiment\")\n",
    "plt.show()\n"
   ]
  },
  {
   "cell_type": "markdown",
   "metadata": {},
   "source": [
    "**Plot interpretation:**\n",
    "In all of the plots, log scales were used to make the small values more visible. In the first plot, both the close and volume columns have numerous outliers, indicating that some values are extreme. This suggests that the range of 75 percent of the data has a narrower span."
   ]
  },
  {
   "cell_type": "markdown",
   "metadata": {},
   "source": [
    "#### Duplicate detection"
   ]
  },
  {
   "cell_type": "code",
   "execution_count": 71,
   "metadata": {},
   "outputs": [
    {
     "name": "stdout",
     "output_type": "stream",
     "text": [
      "No duplicates found in the dataset.\n"
     ]
    }
   ],
   "source": [
    "# Detect duplicates based on all columns\n",
    "duplicates = joined_df[joined_df.duplicated()]\n",
    "\n",
    "\n",
    "# Check if duplicates are found\n",
    "if duplicates.empty:\n",
    "    print(\"No duplicates found in the dataset.\")\n",
    "else:\n",
    "    print(\"Duplicates in the dataset:\")\n",
    "    print(duplicates)\n"
   ]
  },
  {
   "cell_type": "markdown",
   "metadata": {},
   "source": [
    "Based on the previous output, we can observe that our dataset does not contain any duplicate records. Therefore, we can confidently proceed to the next step of our analysis."
   ]
  },
  {
   "cell_type": "markdown",
   "metadata": {},
   "source": [
    "## Feature Engineering"
   ]
  },
  {
   "cell_type": "markdown",
   "metadata": {},
   "source": [
    "In this section, we will perform tasks such as transforming the values of features that we believe will help improve the performance of the model we are going to use. Our main goal here is to extract relevant information from the data, refine the feature representation, and present it in a way that makes it easier for our models to learn and make accurate predictions. Overall, our aim is to enhance the model's performance by optimizing the features and their representation."
   ]
  },
  {
   "cell_type": "markdown",
   "metadata": {},
   "source": [
    "- Mathematical transformation\n",
    "- scaling numerical features"
   ]
  },
  {
   "cell_type": "markdown",
   "metadata": {},
   "source": [
    "#### Mathmatical transformation"
   ]
  },
  {
   "cell_type": "markdown",
   "metadata": {},
   "source": [
    "Here, we are primarily focusing on the 'close price' column, which serves as our dependent variable. Initially, the data is represented in terms of prices. However, for our model and business problem, we require the percentage change on a daily basis. This is where the transformation process becomes useful."
   ]
  },
  {
   "cell_type": "code",
   "execution_count": 72,
   "metadata": {},
   "outputs": [],
   "source": [
    "# Calculate the percentage change of the 'close' column\n",
    "joined_df['close'] = joined_df['close'].pct_change()*100"
   ]
  },
  {
   "cell_type": "code",
   "execution_count": 73,
   "metadata": {},
   "outputs": [
    {
     "data": {
      "text/html": [
       "<div>\n",
       "<style scoped>\n",
       "    .dataframe tbody tr th:only-of-type {\n",
       "        vertical-align: middle;\n",
       "    }\n",
       "\n",
       "    .dataframe tbody tr th {\n",
       "        vertical-align: top;\n",
       "    }\n",
       "\n",
       "    .dataframe thead th {\n",
       "        text-align: right;\n",
       "    }\n",
       "</style>\n",
       "<table border=\"1\" class=\"dataframe\">\n",
       "  <thead>\n",
       "    <tr style=\"text-align: right;\">\n",
       "      <th></th>\n",
       "      <th>date</th>\n",
       "      <th>News Sentiment</th>\n",
       "      <th>close</th>\n",
       "      <th>volume</th>\n",
       "      <th>TickerName</th>\n",
       "    </tr>\n",
       "  </thead>\n",
       "  <tbody>\n",
       "    <tr>\n",
       "      <th>256</th>\n",
       "      <td>2022-10-06</td>\n",
       "      <td>-0.234650</td>\n",
       "      <td>39.664804</td>\n",
       "      <td>32582</td>\n",
       "      <td>KSCP</td>\n",
       "    </tr>\n",
       "    <tr>\n",
       "      <th>997</th>\n",
       "      <td>2023-06-09</td>\n",
       "      <td>-0.386295</td>\n",
       "      <td>-77.793696</td>\n",
       "      <td>3199</td>\n",
       "      <td>SNAL</td>\n",
       "    </tr>\n",
       "    <tr>\n",
       "      <th>67</th>\n",
       "      <td>2022-05-04</td>\n",
       "      <td>-0.063453</td>\n",
       "      <td>-0.671141</td>\n",
       "      <td>150876</td>\n",
       "      <td>KSCP</td>\n",
       "    </tr>\n",
       "    <tr>\n",
       "      <th>1305</th>\n",
       "      <td>2023-09-08</td>\n",
       "      <td>-0.024637</td>\n",
       "      <td>-26.247166</td>\n",
       "      <td>9551</td>\n",
       "      <td>ASST</td>\n",
       "    </tr>\n",
       "    <tr>\n",
       "      <th>1132</th>\n",
       "      <td>2023-07-20</td>\n",
       "      <td>-0.017263</td>\n",
       "      <td>-76.201923</td>\n",
       "      <td>30912</td>\n",
       "      <td>SNAL</td>\n",
       "    </tr>\n",
       "  </tbody>\n",
       "</table>\n",
       "</div>"
      ],
      "text/plain": [
       "           date  News Sentiment      close  volume TickerName\n",
       "256  2022-10-06       -0.234650  39.664804   32582       KSCP\n",
       "997  2023-06-09       -0.386295 -77.793696    3199       SNAL\n",
       "67   2022-05-04       -0.063453  -0.671141  150876       KSCP\n",
       "1305 2023-09-08       -0.024637 -26.247166    9551       ASST\n",
       "1132 2023-07-20       -0.017263 -76.201923   30912       SNAL"
      ]
     },
     "execution_count": 73,
     "metadata": {},
     "output_type": "execute_result"
    }
   ],
   "source": [
    "joined_df.dropna(subset = ['close'], inplace = True)\n",
    "joined_df.sample(5)"
   ]
  },
  {
   "cell_type": "markdown",
   "metadata": {},
   "source": [
    "Now, let's visualize the changes we made to our features through the following plots:\n",
    " "
   ]
  },
  {
   "cell_type": "markdown",
   "metadata": {},
   "source": [
    "Line plot: "
   ]
  },
  {
   "cell_type": "code",
   "execution_count": 74,
   "metadata": {},
   "outputs": [
    {
     "data": {
      "image/png": "[encoded data removed]",
      "text/plain": [
       "<Figure size 1000x2500 with 5 Axes>"
      ]
     },
     "metadata": {},
     "output_type": "display_data"
    }
   ],
   "source": [
    "# Get unique tickers from the dataset\n",
    "tickers = joined_df['TickerName'].unique()\n",
    "\n",
    "# Set up the subplot layout\n",
    "num_plots = len(tickers)\n",
    "fig, axes = plt.subplots(num_plots, 1, figsize=(10, 5*num_plots))\n",
    "\n",
    "# Iterate over each ticker and create a subplot for each\n",
    "for i, ticker in enumerate(tickers):\n",
    "    # Filter the data by ticker name\n",
    "    filtered_df = joined_df[joined_df['TickerName'] == ticker]\n",
    "    \n",
    "    # Create a line plot for the 'close' column over time\n",
    "    axes[i].plot(filtered_df['date'], filtered_df['close'])\n",
    "    axes[i].set_xlabel('Date')\n",
    "    axes[i].set_ylabel('Close')\n",
    "    axes[i].set_title(f'Closing Prices over Time - {ticker}')\n",
    "    axes[i].tick_params(axis='x', rotation=45)\n",
    "    axes[i].grid(True)\n",
    "\n",
    "# Adjust the layout and spacing\n",
    "plt.tight_layout()\n",
    "\n",
    "# Display the plots\n",
    "plt.show()"
   ]
  },
  {
   "cell_type": "markdown",
   "metadata": {},
   "source": [
    "#### Scaling numerical features"
   ]
  },
  {
   "cell_type": "code",
   "execution_count": 75,
   "metadata": {},
   "outputs": [],
   "source": [
    "# Extract numerical columns\n",
    "numerical_cols = joined_df.select_dtypes(include=[np.number]).columns\n",
    "\n",
    "# Initialize the StandardScaler\n",
    "scaler = StandardScaler()\n",
    "\n",
    "# Apply standard scaling to the numerical columns\n",
    "joined_df_scaled = joined_df.copy()\n",
    "joined_df_scaled[numerical_cols] = scaler.fit_transform(joined_df[numerical_cols])\n"
   ]
  },
  {
   "cell_type": "code",
   "execution_count": 76,
   "metadata": {},
   "outputs": [
    {
     "data": {
      "text/html": [
       "<div>\n",
       "<style scoped>\n",
       "    .dataframe tbody tr th:only-of-type {\n",
       "        vertical-align: middle;\n",
       "    }\n",
       "\n",
       "    .dataframe tbody tr th {\n",
       "        vertical-align: top;\n",
       "    }\n",
       "\n",
       "    .dataframe thead th {\n",
       "        text-align: right;\n",
       "    }\n",
       "</style>\n",
       "<table border=\"1\" class=\"dataframe\">\n",
       "  <thead>\n",
       "    <tr style=\"text-align: right;\">\n",
       "      <th></th>\n",
       "      <th>date</th>\n",
       "      <th>News Sentiment</th>\n",
       "      <th>close</th>\n",
       "      <th>volume</th>\n",
       "      <th>TickerName</th>\n",
       "    </tr>\n",
       "  </thead>\n",
       "  <tbody>\n",
       "    <tr>\n",
       "      <th>1038</th>\n",
       "      <td>2023-06-22</td>\n",
       "      <td>-1.021894</td>\n",
       "      <td>-0.494114</td>\n",
       "      <td>-0.211916</td>\n",
       "      <td>MGAM</td>\n",
       "    </tr>\n",
       "    <tr>\n",
       "      <th>337</th>\n",
       "      <td>2022-11-11</td>\n",
       "      <td>0.103039</td>\n",
       "      <td>-0.456681</td>\n",
       "      <td>3.324942</td>\n",
       "      <td>SNAL</td>\n",
       "    </tr>\n",
       "    <tr>\n",
       "      <th>428</th>\n",
       "      <td>2022-12-15</td>\n",
       "      <td>-0.018878</td>\n",
       "      <td>0.445312</td>\n",
       "      <td>-0.195970</td>\n",
       "      <td>GCT</td>\n",
       "    </tr>\n",
       "    <tr>\n",
       "      <th>1225</th>\n",
       "      <td>2023-08-16</td>\n",
       "      <td>0.433914</td>\n",
       "      <td>-0.389399</td>\n",
       "      <td>-0.206361</td>\n",
       "      <td>ASST</td>\n",
       "    </tr>\n",
       "    <tr>\n",
       "      <th>1342</th>\n",
       "      <td>2023-09-19</td>\n",
       "      <td>0.966183</td>\n",
       "      <td>-0.554120</td>\n",
       "      <td>-0.219762</td>\n",
       "      <td>SNAL</td>\n",
       "    </tr>\n",
       "    <tr>\n",
       "      <th>1136</th>\n",
       "      <td>2023-07-21</td>\n",
       "      <td>1.154655</td>\n",
       "      <td>1.378845</td>\n",
       "      <td>-0.171641</td>\n",
       "      <td>GCT</td>\n",
       "    </tr>\n",
       "    <tr>\n",
       "      <th>1035</th>\n",
       "      <td>2023-06-22</td>\n",
       "      <td>-1.021894</td>\n",
       "      <td>1.060903</td>\n",
       "      <td>-0.064140</td>\n",
       "      <td>ASST</td>\n",
       "    </tr>\n",
       "  </tbody>\n",
       "</table>\n",
       "</div>"
      ],
      "text/plain": [
       "           date  News Sentiment     close    volume TickerName\n",
       "1038 2023-06-22       -1.021894 -0.494114 -0.211916       MGAM\n",
       "337  2022-11-11        0.103039 -0.456681  3.324942       SNAL\n",
       "428  2022-12-15       -0.018878  0.445312 -0.195970        GCT\n",
       "1225 2023-08-16        0.433914 -0.389399 -0.206361       ASST\n",
       "1342 2023-09-19        0.966183 -0.554120 -0.219762       SNAL\n",
       "1136 2023-07-21        1.154655  1.378845 -0.171641        GCT\n",
       "1035 2023-06-22       -1.021894  1.060903 -0.064140       ASST"
      ]
     },
     "execution_count": 76,
     "metadata": {},
     "output_type": "execute_result"
    }
   ],
   "source": [
    "joined_df_scaled.sample(7)"
   ]
  },
  {
   "cell_type": "markdown",
   "metadata": {},
   "source": [
    "Let's look at the changes we have made in scaling section through a visualization"
   ]
  },
  {
   "cell_type": "code",
   "execution_count": 77,
   "metadata": {},
   "outputs": [
    {
     "data": {
      "application/vnd.plotly.v1+json": {
       "config": {
        "plotlyServerURL": "https://plot.ly"
       },
       "data": [
        {
         "histnorm": "density",
         "name": "News Sentiment",
         "nbinsx": 15,
         "type": "histogram",
         "x": [
          0.7003390983761193,
          0.6237403811054392,
          0.5945302963635997,
          0.6800010324182344,
          0.6278143440195381,
          0.6678954531699354,
          1.0075883045890486,
          0.9286741334376413,
          0.9755854478645787,
          1.0216649010012095,
          0.8780243433117376,
          1.0818308868789215,
          1.060100407759863,
          1.046379698662791,
          1.0473834720548165,
          0.9634501276865681,
          0.8752045696955534,
          0.7381255961165542,
          0.6614997240839635,
          0.4408179422016504,
          0.14810607861174496,
          -0.0924593182944744,
          -0.1097663615610617,
          -0.17174400902616066,
          -0.1610228462359662,
          -0.325309155794595,
          -0.46267400300117595,
          -0.5397895795182958,
          -0.4714117112020969,
          -0.6494377858310683,
          -0.32924475873134035,
          -0.5184973877844598,
          -0.5624362426093827,
          -0.6134972674441694,
          -0.657216434120102,
          -0.7646606810100419,
          -0.6660371719188446,
          -0.5807601942781428,
          -0.6736264855020261,
          -0.7270259504852974,
          -0.396018658554539,
          -0.2498894247844583,
          -0.059850464605739596,
          -0.14299535106565775,
          -0.010845307058654422,
          0.19268494191036845,
          0.17082916976705625,
          0.02932835967619975,
          -0.04646582120870303,
          -0.15842170588453772,
          -0.026835718686342314,
          -0.03571008543843203,
          -0.07864169596191226,
          -0.03159943977578732,
          0.5746660775982009,
          0.6468018519003973,
          0.7964834593733433,
          0.7710502345052007,
          0.7111002787101819,
          1.0133125828454235,
          1.1281542479662843,
          1.1987736261812159,
          1.0477588747282462,
          0.9200146908412243,
          0.6116688303808374,
          0.6366910927682866,
          0.6595076943067183,
          0.6446756136256896,
          0.5846386128670528,
          0.6267796046709478,
          0.6187775931523644,
          0.5453530906007005,
          0.5432086810943383,
          0.6647161682008882,
          0.8819958463409836,
          1.017150098562611,
          0.8748989595242271,
          0.6430520447030397,
          0.5427079173396075,
          0.5681700324243691,
          0.4441722018395495,
          0.2623746098151017,
          0.19759539399399662,
          0.32204594005808634,
          0.6884667166007185,
          0.8381848026510681,
          0.8957963863546498,
          1.007823594816154,
          1.2041083118697793,
          0.9783797511307754,
          0.826436250673402,
          0.6723703401502369,
          0.6176105509036387,
          0.37074511312008457,
          0.2892324388278354,
          0.09758733233059991,
          0.016015720635306863,
          -0.130220771041468,
          -0.17959479778543289,
          -0.3100368821310168,
          -0.4367224896885985,
          -0.5247537360373671,
          -0.27446019671949046,
          -0.34901805328141966,
          -0.27660344925604685,
          -0.38031558378095187,
          -0.39687713015037673,
          -0.4590397566702947,
          -0.6580856587294281,
          -0.6222631512627118,
          -0.5721978010313108,
          -0.2933015180625457,
          -0.3656139004027315,
          -0.38754201718742437,
          -0.5581087671937383,
          -0.5430235142964009,
          -0.5900395004622314,
          -0.5178089226930142,
          -0.6442753865579847,
          -0.5661729828536405,
          -0.5717593775319936,
          -0.6250510401521916,
          -0.7158139602692918,
          -0.7066069306695364,
          -0.7942765218684491,
          -0.8371851291099099,
          -0.6966915633204962,
          -0.6784447883434818,
          -0.6760086182749382,
          -0.7809117511292518,
          -0.7172918871105168,
          -0.1995819275784266,
          -0.08240062280362073,
          0.0767159373208058,
          0.07872647861494238,
          0.21272638122718324,
          0.7438424221262394,
          0.6214127620274903,
          0.689033733891088,
          0.7318480821219071,
          0.7970965172562755,
          0.8907243668405064,
          0.8973742209414503,
          0.6053567434061138,
          0.5257656598470563,
          0.35596986007363046,
          0.3342843666629,
          0.3603615132849682,
          0.23296511792439545,
          0.10996228137248751,
          0.23373212084853462,
          0.39089156446102946,
          0.3962626266414255,
          0.423094730090244,
          0.5104410503140315,
          0.649289949496103,
          0.5748890324854662,
          0.4843517214804796,
          0.5284982183570041,
          0.4812912641161838,
          0.34866951671368723,
          0.2427373613027645,
          0.16702682252910991,
          0.07462399979798505,
          0.04810366568328203,
          0.008809704343052786,
          -0.10288511349897551,
          -0.07448858270169322,
          -0.16019704202287793,
          -0.3666618428185163,
          -0.4250230748991515,
          -0.4214058428301189,
          -0.5907532827753079,
          -0.904284069391466,
          -0.9099823498557362,
          -0.48883349865059184,
          -0.5865288457294191,
          -0.8852720609735447,
          -0.9906673823946174,
          -1.082060102428309,
          -0.7471663447490242,
          -0.7600488632503821,
          -0.7757552047622441,
          -0.8710424212760546,
          -1.1010725191885147,
          -1.133922839281406,
          -0.973778889969508,
          -1.0424151028376174,
          -1.0621398046558568,
          -1.0307163686186442,
          -0.5967771481543147,
          -0.46295848145928614,
          -0.4093052998033271,
          -0.2800678251966307,
          -0.20790979623993625,
          0.150384764672617,
          0.19182830785481036,
          0.19718283217268945,
          0.10799128122288729,
          0.10303917822625352,
          0.16473459311580632,
          0.2791076599439614,
          0.32872682817264226,
          0.28864381342491796,
          0.28230259803390934,
          0.3136419836175893,
          0.12487133457411974,
          0.07121896960272943,
          0.13218828385362733,
          0.36730414880380446,
          0.3816236238038557,
          0.42075492880081145,
          0.41288821469244885,
          0.4499422824888211,
          0.2520225884499765,
          0.22665650185908895,
          0.22337404240619133,
          0.1520171810114282,
          -0.08763162358047831,
          -0.1310614116908883,
          -0.1049466975786582,
          -0.12211490446856015,
          -0.018877672020375918,
          -0.014379373415770549,
          -0.20726420708834936,
          -0.14945900108492957,
          -0.12939251677467353,
          -0.13151576053929587,
          -0.05099474548463605,
          0.35497963003403643,
          0.4495176065130777,
          0.4987778418737985,
          0.5066279500625968,
          0.8828973640192986,
          0.8779112324989674,
          0.8103025789609481,
          0.8657226236528467,
          0.8119812060349404,
          0.6809079946603409,
          0.5433558204308059,
          0.6779634044192346,
          0.521329973726054,
          0.32527361358783113,
          0.3207529242146329,
          0.1008871463305832,
          -0.06338970329845772,
          -0.436191780833014,
          -0.3429097971636434,
          -0.27183727811289565,
          -0.32967596818363365,
          -0.32315065847942215,
          -0.24922273794817904,
          -0.344129923909337,
          -0.12131591473214542,
          -0.016568360288176247,
          -0.014427966147610423,
          0.43130588091547156,
          0.5124357343161251,
          0.6155735354180656,
          0.7838619736772681,
          0.8906103712861201,
          1.275195565271288,
          1.4882104740577824,
          1.5096459599049081,
          1.522827827329232,
          1.2937810814410136,
          1.1347778405540647,
          1.1126524434032363,
          1.0271263769690697,
          1.0503309036776516,
          1.101164915723722,
          1.2140016159747673,
          1.086604986668094,
          1.0395801530861022,
          1.228598547859742,
          1.4379545130508904,
          1.5562204089615033,
          1.4767647759410232,
          1.5025542624380155,
          1.4101520011775315,
          1.1000605370013852,
          0.8144653903504209,
          0.5643742186629727,
          0.2842741426398887,
          0.09156884345833734,
          -0.6117709323799534,
          -0.9161556685108219,
          -1.0882614605869212,
          -1.1476477679154167,
          -1.1571980772622312,
          -1.499138189400582,
          -1.7683759523171747,
          -1.8489835359361206,
          -1.9218268993600804,
          -1.7035083303915037,
          -1.3501046891899764,
          -1.1975036385549365,
          -1.2086565552538036,
          -1.1647532262076206,
          -0.7759159555081906,
          -0.785485865284655,
          -0.7368721718741846,
          -0.6628469297651669,
          -0.603681535612515,
          -0.41032669997062793,
          -0.30473836876314364,
          -0.3076618272910338,
          -0.24311802079686728,
          -0.3780912072439009,
          -0.3470501156989522,
          -0.45692712980506595,
          -0.5989167256103117,
          -0.6779942506897283,
          -0.7938163201139656,
          -1.0233079506674383,
          -1.1425756122871784,
          -1.2272968360788545,
          -1.2328630858711787,
          -1.4162969734861393,
          -1.5028361371278247,
          -1.6484156060690502,
          -1.8529117887117472,
          -1.9317833731657472,
          -2.111642360195155,
          -2.0683248662129463,
          -1.9515416951653997,
          -1.942578037567128,
          -1.9056856733153658,
          -1.8306280057973694,
          -2.0404176655864323,
          -2.0200672472744454,
          -2.1376287187159986,
          -2.2205861760673913,
          -2.3307473964034258,
          -2.5439763871396313,
          -2.685425337760373,
          -2.4743366050506386,
          -2.512543831458068,
          -2.2027903470864145,
          -2.2413471144892636,
          -2.2543421993470125,
          -2.2266533257285412,
          -2.289484136339781,
          -1.6068703176010017,
          -1.5538813727276157,
          -1.3280955845188838,
          -1.2474389998258135,
          -1.2065740096035231,
          -0.8384486762518414,
          -1.0685216501041601,
          -1.0218938613366695,
          -1.0086404319270101,
          -0.6499751642772974,
          -0.4675448458832203,
          -0.4247880058574499,
          -0.2893352894544727,
          -0.062063407558828255,
          0.5056458188116427,
          0.642061202150019,
          0.5457984559188519,
          0.6858711569271764,
          0.7359950702478606,
          0.7145650629930501,
          0.8507893081138183,
          0.8219573823558278,
          0.7740078916994068,
          1.0683617336432825,
          1.1209709201922056,
          1.1031146310317494,
          1.0814231400937173,
          1.154654615844708,
          1.1694410430076312,
          1.053217117986355,
          0.8348027417093081,
          0.8284831004023238,
          0.8730762216523764,
          0.8962295694613175,
          0.7535089388814806,
          0.5115074361896603,
          0.4438436224147275,
          0.4452596173428233,
          0.8000334510795498,
          0.6838231842569726,
          0.6296102333861915,
          0.6622420903569457,
          0.6685070478263485,
          0.5544268645016569,
          0.4877457264340573,
          0.4339143033709713,
          0.44382225250184554,
          0.47917577885496443,
          0.8234329612289177,
          0.8550408658930939,
          1.0313437190677675,
          1.0339659400896266,
          1.0497208743333284,
          1.14284116296522,
          1.184490425587426,
          1.1935695036845138,
          1.2890630564053287,
          1.4233922275199964,
          1.10232360396988,
          0.9687282409544847,
          0.8561517951062425,
          1.0140706192535685,
          1.2576264087937907,
          1.2709393094289594,
          1.2584598332694044,
          1.276616319939136,
          1.3932004879265345,
          1.03023602256437,
          0.9661828052963488,
          0.9665115038210038,
          0.9968379623397835,
          1.035181813269858,
          0.8100926910267826,
          0.7882239880444654,
          0.6931960348527054,
          0.5333026375607911,
          0.3306586955199905,
          -0.028467318340584767,
          -0.06026724596398522,
          0.21070447440613171,
          0.3557259436157676,
          0.3320627804647922,
          0.51448942377831,
          0.256746223938506,
          0.46520502816576403,
          0.5681628864343927,
          0.5663384811648808
         ],
         "xaxis": "x",
         "yaxis": "y"
        },
        {
         "histnorm": "density",
         "name": "close",
         "nbinsx": 15,
         "type": "histogram",
         "x": [
          0.16291017153380172,
          -0.22745716401717367,
          -0.4256316751156475,
          -0.37520018025857693,
          -0.33132193579950087,
          -0.3083768473711991,
          -0.34627447110299686,
          -0.330881105308193,
          -0.31160087760280786,
          -0.3226323394965221,
          -0.3413844958176991,
          -0.2232834462269555,
          -0.31717013154728124,
          -0.27494764607223315,
          -0.3365442569410927,
          -0.3211995849057878,
          -0.33327858974974206,
          -0.34035464087029405,
          -0.3265797245934431,
          -0.28770118248779647,
          -0.32573369214401565,
          -0.3260287123880372,
          -0.2983421760299377,
          -0.3280654298635505,
          -0.31533521261593933,
          -0.3413453597268106,
          -0.32009701358459847,
          -0.2973609064937825,
          -0.3265299289772472,
          -0.3298116622069847,
          -0.2931247313738251,
          -0.32429792989328377,
          -0.29773990746461404,
          -0.31431689410846037,
          -0.3148297932638871,
          -0.32139135459069657,
          -0.28631996889905387,
          -0.2980966321293855,
          -0.31504407214549973,
          -0.33739275043627986,
          -0.3213745583453732,
          -0.3118188129518009,
          -0.31700351247190645,
          -0.31708536043875724,
          -0.3389139208836824,
          -0.28286804803969123,
          -0.32361273579510375,
          -0.33586768952737495,
          -0.3282912936417368,
          -0.3195104269457372,
          -0.3016217673353332,
          -0.32393486600749494,
          -0.29483737279270217,
          -0.2775661787995682,
          -0.3156995370994087,
          -0.33673093155128336,
          -0.31732600100488983,
          -0.31106780569282955,
          -0.31929257827378354,
          -0.31817823688821745,
          -0.2950947375804774,
          -0.32231382364836536,
          -0.3220483235196157,
          -0.3136810536885039,
          -0.2968180893255125,
          -0.2976599809477431,
          -0.3141542144581159,
          -0.33123068000705613,
          -0.29923457650143614,
          -0.3310857103527686,
          -0.3150239290155934,
          -0.31437268496598986,
          -0.3253210020729355,
          -0.30874945981488183,
          -0.31658827331023964,
          -0.3152167887700158,
          -0.3225216495918435,
          -0.3229198858969441,
          -0.33200310411784945,
          -0.32251708914794275,
          -0.31850796874857984,
          -0.2970047802515966,
          -0.3072166128394859,
          -0.28469282391100537,
          -0.33210032397552175,
          -0.3262776311885213,
          -0.288996602588153,
          -0.3218883917170101,
          -0.24716573661057498,
          -0.30834914575588285,
          -0.29988975659443506,
          -0.3173490927763874,
          -0.32574001078259235,
          -0.35262443817410133,
          -0.31864930088989357,
          -0.31072271938584084,
          -0.31153524252043935,
          -0.32914994447555485,
          -0.3063630185858312,
          -0.31317333076390985,
          -0.3123381783614143,
          -0.3123381783614143,
          -0.31820234445695555,
          -0.31062558735882856,
          -0.3276545582713321,
          -0.3123381783614143,
          -0.310534249172024,
          -0.31861011759604946,
          -0.3095864219708189,
          -0.3041660159262568,
          -0.29999859758708314,
          -0.3123381783614143,
          -0.32666845696872054,
          -0.3123381783614143,
          -0.31411837164041784,
          -0.3177141262768159,
          -0.31873725149945425,
          -0.3095292920803567,
          -0.30955815050105245,
          -0.3105036741010173,
          -0.3305596853249529,
          -0.3230836049408151,
          -0.31132092505912656,
          -0.31132473499658825,
          -0.29315460302647994,
          -0.3000815166216542,
          -0.5111089281843154,
          -0.5216384371612465,
          -0.48917758673038425,
          -0.44741500172155896,
          -0.4527967870009659,
          -0.43923221692882153,
          -0.4234992203022231,
          -0.39586794300057465,
          -0.37018832133151763,
          -0.34607750235250506,
          -0.33277331370997654,
          -0.35962564254931584,
          -0.3647993843793981,
          -0.3768950351390881,
          -0.3634335131140922,
          -0.35088143284402723,
          -0.31786041057383363,
          -0.3216049378959536,
          -0.3267696118765368,
          -0.30297162295496455,
          -0.2980966321293855,
          -0.31337890673990876,
          -0.44916450555667997,
          -0.38484417202337323,
          -0.389441603391807,
          -0.37175543059355837,
          -0.3214742450283112,
          -0.28030923152938203,
          -0.30143530963432996,
          -0.3093862942333211,
          -0.2989119878296924,
          -0.26317473982884293,
          -0.2606904131879985,
          -0.24440297271841716,
          -0.2423581667040312,
          -0.2474861785775474,
          -0.3211809685054845,
          -0.24205522293062262,
          -0.2626144891666811,
          -0.25591195727148014,
          -0.24601725228088783,
          -0.23275306706478252,
          -0.26538659671974846,
          -0.2665863510942685,
          -0.229737210215647,
          -0.1862681270574317,
          -0.21632259247451022,
          -0.20500943050104053,
          -0.19081600242943164,
          -0.14143962357706824,
          -0.12442888779992269,
          -0.07782738374067283,
          -0.06980992067671582,
          -0.10187977293254367,
          -0.07312148150748057,
          -0.08496793678200946,
          -0.08125089899061062,
          -0.010174485169356554,
          0.03204830324946492,
          0.00004955931349465278,
          0.014623987215581124,
          0.017442626574003472,
          0.05126629887507196,
          0.11255423401564446,
          0.16230220671587461,
          0.2639169793604932,
          0.22635810709413504,
          0.23519244179860524,
          0.2136673422832395,
          0.2527870152303046,
          0.2477818349442798,
          0.23988504288052023,
          0.31352196814106925,
          0.24081678774493873,
          0.21982093250872983,
          0.22631745711959997,
          0.2064160443334262,
          0.22197251222985293,
          0.2797730978740901,
          0.28419528050994536,
          0.24591112839699245,
          0.21161409353737998,
          0.18255555320158778,
          0.20455691629081182,
          0.17612836188258774,
          0.1113813473386,
          0.19954109162163486,
          0.18041792383798594,
          0.12663112548199293,
          0.11603647842205986,
          0.1364450612270851,
          0.15099979836555136,
          0.08912449417937247,
          0.006509178362033861,
          0.03896582090834197,
          -0.02295787089671719,
          -0.04675309493003898,
          -0.01405362152654196,
          -0.01438010177446242,
          -0.025349443685681657,
          0.1102411101935157,
          -0.09234393055961977,
          -0.13369664698489725,
          -0.2566286004537721,
          -0.17221153597127348,
          -0.050649192277172024,
          -0.006166617114886582,
          0.03055709117376307,
          -0.021479069967803806,
          0.010310901485914606,
          -0.08663920374414621,
          -0.17926143488180052,
          -0.16908497802747713,
          -0.23749430773777336,
          -0.22143705905229272,
          -0.14601259713781148,
          -0.21999418414262412,
          -0.17334997705434774,
          -0.19603221746651212,
          -0.1614335059977268,
          -0.13895080967244186,
          -0.11043921093251002,
          -0.11281267711066682,
          -0.1328382936745558,
          -0.14087560194411664,
          -0.13288285255616109,
          -0.14613861091250918,
          -0.42455935467813766,
          -0.46427339083680214,
          -0.4538533130463445,
          -0.4368092924293463,
          -0.4140424619701443,
          -0.38423117220636316,
          -0.41459579229487714,
          -0.39031590563678403,
          -0.3750170739249762,
          -0.37765285590830516,
          -0.3530150130241371,
          -0.35681862412720294,
          -0.35070532903128304,
          -0.32410293394439454,
          -0.29657569029878045,
          -0.2919712359005558,
          -0.30172683018853,
          -0.22423931097258476,
          -0.24201779127986633,
          -0.20947880132211502,
          -0.2011554139658229,
          -0.1839816783471031,
          -0.19646988804058999,
          -0.20771028537677574,
          -0.18864017680322093,
          -0.25367894248263817,
          -0.17970553744009482,
          -0.19989140585481127,
          -0.23763856025041916,
          -0.3334865762190782,
          -0.3088240305898747,
          -0.3375931870128787,
          -0.36146150645837055,
          -0.3385090465745384,
          -0.3317066812369735,
          -0.3284200988884218,
          -0.2927166298619668,
          -0.2852753744057086,
          -0.18569605648997176,
          -0.21478753777917114,
          -0.2343934046365076,
          -0.22997283169796315,
          -0.2846867090349934,
          -0.32107928963204757,
          -0.3488311783143509,
          -0.34790135380939485,
          -0.36697977542068877,
          -0.32060618714611994,
          -0.32193354639008614,
          -0.3332040356325184,
          -0.3385267101882009,
          -0.3226003325536321,
          -0.3340209324996782,
          -0.35529424218377126,
          -0.3497934449516501,
          -0.3467481714276517,
          -0.3704647855751024,
          -0.35264275011037977,
          -0.34553254924166427,
          -0.3359267549365091,
          -0.32804258263570124,
          -0.32675287409170484,
          -0.3640287081485766,
          -0.36476717623818034,
          -0.3629441043311755,
          -0.35692099975634645,
          -0.3617260664835414,
          -0.35932755241164066,
          -0.3599619089613187,
          -0.34179474360588913,
          -0.3274628248401454,
          -0.2912605824951882,
          -0.3336860592754896,
          -0.3489110808310014,
          -0.3558818522221218,
          -0.3379117076167779,
          -0.3654508282758622,
          -0.3637103025764578,
          -0.37076753584761474,
          -0.38149808856727113,
          -0.3835083262714739,
          -0.385633077434528,
          -0.398555619168853,
          -0.3699636941336051,
          -0.36878107300966423,
          -0.35642975118245,
          -0.3683675883076067,
          -0.38117231848288696,
          -0.3602627276708301,
          -0.3663081909948132,
          -0.3633993962499903,
          -0.34838384373335596,
          -0.34584691889059205,
          -0.3329911176604,
          -0.3147619825895831,
          -0.3887938247412376,
          -0.3751052502458257,
          -0.38923437251187487,
          -0.385675486528217,
          -0.3763695387776112,
          -0.3129836962886522,
          -0.1725580964272912,
          -0.2995292137030215,
          -0.2967604233096074,
          -0.2566511915234832,
          -0.21396664963625794,
          -0.19361018579439837,
          -0.1288785798004188,
          -0.11852880950937436,
          0.028931466532017447,
          0.17085714022527834,
          0.19656845075557952,
          0.4994299568642294,
          0.2566581781051583,
          0.3645367355804431,
          0.33626048244701456,
          0.28189731932010265,
          0.053753333603091744,
          0.27659164523366064,
          0.28763081807325863,
          0.24710121135441798,
          0.16246959884603768,
          0.2261614756991612,
          0.18238654751054306,
          0.15284504472124047,
          -0.12228135305064852,
          -0.04174879995286638,
          -0.10601803544562262,
          -0.0659069318094294,
          -0.0019217918754177393,
          -0.027646421925059318,
          0.057467305463601154,
          0.12977493245360558,
          0.07945269245929568,
          0.054890263764472175,
          0.024507569255640505,
          0.07098832585841311,
          0.1448048163245316,
          0.20211185560574668,
          0.03807984365765847,
          0.04844765951664953,
          0.11707540041736822,
          0.08491005802560282,
          0.03127279775133195,
          0.07915283720839968,
          0.0448630526419212,
          0.08896480496683858,
          0.09308497161841557,
          0.11914914512319955,
          0.06986611867166234,
          0.019731623932052467,
          0.04183640070736566,
          0.005166574569739057,
          0.12396255512375745,
          0.0567734865446049,
          0.06750324954542049,
          0.02249748046948428,
          0.008569969842877997,
          0.046241767844840805,
          0.026972312023907676,
          0.07055463487682503,
          0.13288689816896246,
          0.14813848314085154,
          0.1278827483046303,
          0.10456578522355574,
          -0.015820458400626663,
          0.0389574233463788,
          -0.015799731890579316,
          -0.010251623630178288,
          -0.03194907651861088,
          -0.08930654257384953,
          -0.17290806658146254,
          -0.1874061782606279,
          -0.06209712120918917,
          -0.051729555713837416,
          -0.059671612353182635,
          -0.047158128735227095
         ],
         "xaxis": "x2",
         "yaxis": "y2"
        },
        {
         "histnorm": "density",
         "name": "volume",
         "nbinsx": 15,
         "type": "histogram",
         "x": [
          4.4733892137384474,
          7.357054023545429,
          3.0459701835854562,
          2.0073487579062816,
          1.3169511101437739,
          0.3615814076772806,
          0.27470143531325103,
          0.2355717723830629,
          0.1607015325684934,
          0.041831993445102064,
          -0.03151760000639085,
          11.963213558471063,
          2.721362967485775,
          6.053109570421715,
          0.6428336871040449,
          0.10711045030530437,
          -0.03013790796991843,
          -0.0357578876811517,
          -0.06205576112451666,
          -0.011650458603974746,
          -0.13942008000130487,
          -0.1550624775644754,
          -0.09698788192761085,
          -0.09120398540548955,
          -0.12900412049564078,
          -0.09777531850405356,
          -0.13204011418695918,
          -0.06268563973187304,
          -0.14913091460495928,
          -0.14527092099683844,
          2.7846163098666334,
          0.08888441999120798,
          0.6422998976616918,
          -0.11470785441498933,
          -0.10731146159265594,
          -0.13662360268451684,
          -0.0812640558624798,
          0.008392080851471334,
          -0.1517159604318411,
          -0.10816425293206047,
          -0.14008122291418623,
          -0.14914151267462875,
          -0.05152975832878441,
          -0.16989712558433667,
          -0.011685432233884045,
          0.16174173310655335,
          -0.00024234314275238067,
          -0.09017138015069275,
          -0.11891829086018113,
          -0.15536293283960528,
          -0.16958130310818603,
          -0.1773401499132158,
          -0.1515573426557878,
          -0.08845855545760951,
          -0.19363733154746599,
          -0.15059115197091977,
          -0.1826757480883179,
          -0.09889571110261258,
          -0.18125560675260693,
          -0.17930503202993828,
          -0.1221134322310363,
          -0.15321470411760071,
          -0.15843019083644866,
          -0.19966074444411763,
          -0.17637925826318251,
          -0.19432073040665324,
          -0.1939003403097637,
          -0.1943050099366435,
          -0.17202274509104631,
          -0.18023695562287498,
          -0.19465774902214286,
          -0.18974801661325957,
          -0.16112051082204737,
          -0.17990029027637433,
          -0.20888795380185451,
          -0.19505023086890277,
          -0.19594983034934754,
          -0.1738431401912748,
          -0.18114803634546167,
          -0.17438788097228633,
          -0.1900041366302721,
          -0.17801824973756833,
          -0.17864335921357344,
          -0.1760256360052107,
          -0.195333552598067,
          -0.15593275571883458,
          -0.18405314387636193,
          -0.19942741027689448,
          -0.0809473502138567,
          -0.16964471489170843,
          -0.14021458195752726,
          -0.17806982700995982,
          -0.15972651139152114,
          -0.17806541114759755,
          -0.20282497477843678,
          -0.16809933969940308,
          -0.18724386938485482,
          -0.13272810554300324,
          -0.16258534068486466,
          -0.19392224298708063,
          -0.19790234805145562,
          -0.18593871710505777,
          -0.19642921636739724,
          -0.1972297238964323,
          -0.1848870353248559,
          -0.1978000766791451,
          -0.2107786494308906,
          -0.20186108034199715,
          -0.20619268805041005,
          -0.1987399488243339,
          -0.14021475859202176,
          0.34586164420552284,
          -0.13618289962076077,
          -0.18513079092725404,
          -0.1986062365120039,
          -0.16817953175990216,
          -0.1810736732232808,
          -0.1978348736745599,
          -0.197843175495801,
          -0.1397385519948729,
          -0.17701832186425245,
          -0.19557147926214694,
          -0.19736414274674027,
          -0.18214884739125,
          -0.18862038200042638,
          -0.1892250018750705,
          -0.2101309307395906,
          -0.20555998329114183,
          -0.1279566779433067,
          -0.1930321817693384,
          -0.18056461261015655,
          -0.20083713017743043,
          -0.20446272981136118,
          -0.19495025574502065,
          -0.1795392493696339,
          -0.20265911498810935,
          -0.20759728555060578,
          -0.12254459703208984,
          -0.1984024003053608,
          -0.18629286926651303,
          -0.20987269110864415,
          -0.20026377460831132,
          -0.19835576879881509,
          -0.16166984409991567,
          -0.20845890861473487,
          -0.16840950987172998,
          -0.19748354766501647,
          -0.17815531810529367,
          -0.20263438615888055,
          -0.20138805316574915,
          -0.2061813834427626,
          -0.19168128115546806,
          -0.20494246909839983,
          -0.20204866617514702,
          -0.19924565338206282,
          -0.20284193168990797,
          -0.20192731827743143,
          -0.15974117205456392,
          -0.15673697257225397,
          -0.04881612258991284,
          -0.17686394331606695,
          -0.15768108394531058,
          -0.1947310523373568,
          -0.19353541344414443,
          -0.19428416706629353,
          -0.18918207969290907,
          -0.2047501141338987,
          -0.21005162185156395,
          -0.19563577421814182,
          -0.19066969540551576,
          -0.19418631155634528,
          -0.20559513355554562,
          -0.21273840914727282,
          -0.21479514120113083,
          -0.20764020773276717,
          -0.20824341453145537,
          -0.19848329890383787,
          -0.2075374064569732,
          -0.21317257673473272,
          -0.21345201250501813,
          -0.2103610854859129,
          -0.21240969235302432,
          -0.21357954261004092,
          -0.2051733303827001,
          -0.20527984098287844,
          -0.21142124572185036,
          -0.20770609239921248,
          -0.2086397823370941,
          -0.1792472725502396,
          -0.21038758066008661,
          -0.19758440596137108,
          -0.19607329786099703,
          -0.21170103476112476,
          -0.21469816886365506,
          -0.20440708994559637,
          -0.21670773950748384,
          -0.20965631385289216,
          -0.21360020884589642,
          -0.2017019326624604,
          -0.20692943052693374,
          -0.1790416699986516,
          -0.1654123757691997,
          -0.20584277511682258,
          -0.20548615007244442,
          -0.20180597037971584,
          -0.19710343023287097,
          -0.1804830074737015,
          -0.20421190882918336,
          -0.19432779578643292,
          -0.18899626020470411,
          -0.12779329103590215,
          -0.19327929342713188,
          -0.19144088160846526,
          -0.20091343627905073,
          -0.19167704192760027,
          -0.19100123835167612,
          -0.19007691004200258,
          -0.15988177311217908,
          -0.18864811361606154,
          -0.1371059914889729,
          0.023232027906167352,
          -0.10653409318239923,
          -0.19578979949733832,
          -0.18411319960448902,
          -0.1933573658736971,
          -0.18913527155186885,
          -0.08798605818484499,
          -0.1593546957806167,
          -0.18481956094796018,
          -0.18282058837380086,
          -0.16415844749280517,
          -0.15610568088894167,
          -0.16004092079171586,
          -0.1728916101694496,
          -0.17872814377092933,
          -0.18849868083372182,
          -0.19127078259027003,
          -0.1679629778696557,
          -0.18101432403313167,
          -0.19293626923882956,
          -0.10831845484575148,
          -0.1696931127431991,
          -0.1965924266403073,
          -0.18405332051085643,
          -0.18944632489666824,
          -0.12067933677026052,
          -0.14334525173789306,
          -0.1766858957456196,
          -0.19110739568286547,
          -0.18150819407972965,
          -0.12778110325578224,
          -0.18755898532302748,
          -0.19253124634296076,
          -0.12623449162201544,
          -0.09032911475427358,
          -0.13532781203292785,
          -0.1723830794598088,
          -0.13498690745855943,
          -0.15402881250271164,
          -0.14419751317381413,
          -0.09618083892227958,
          -0.11285160251237908,
          -0.1477791308186165,
          -0.15048393483276348,
          -0.13573265829430217,
          -0.04468252214982481,
          -0.1495228665482357,
          -0.11328877288624534,
          -0.14334136577901424,
          -0.14774274411275126,
          -0.07723308006369127,
          -0.13081939319552904,
          -0.09245279128154382,
          -0.16601452276092094,
          -0.16392087409771422,
          -0.17545475331901447,
          -0.10969567399930102,
          -0.14000067758469817,
          0.1319242407259525,
          0.0870905200651532,
          -0.08453091083809847,
          -0.09845553794234,
          -0.07450036779941463,
          -0.12253240925196993,
          -0.021850040853886865,
          -0.12454904527557838,
          -0.08279900961961018,
          -0.09056633488037555,
          -0.13951157666945144,
          -0.16734864309781458,
          -0.14634821477874155,
          0.09193525098006367,
          -0.041322050892125685,
          -0.15202365772124513,
          -0.12941497232982782,
          -0.0409288625073878,
          -0.11531459390356734,
          -0.07128897605506626,
          -0.05283773676049332,
          -0.13797362012591471,
          -0.028843353759790868,
          -0.09907711472845526,
          0.48911327904502533,
          0.0399347623397698,
          0.0665837851581837,
          -0.006249858934899809,
          -0.0451062683021097,
          -0.07613529668042715,
          -0.07817383538135253,
          -0.03390145914404696,
          -0.06945603990572888,
          -0.05957051378702249,
          -0.09445353020064806,
          -0.12628147639755016,
          -0.15281674660151157,
          -0.08661219508669078,
          -0.09805104494995465,
          -0.11921150412103688,
          -0.1535319396697073,
          -0.14240555622719875,
          -0.07549005087205002,
          -0.12127300530624616,
          -0.10662594311953476,
          -0.11498799672325272,
          0.04833938485666019,
          0.050933792311750055,
          0.2640143418585426,
          -0.07686055791480888,
          -0.06759572540974532,
          -0.0801222904900873,
          -0.008952896604101894,
          -0.10681812144954142,
          -0.10768186412760443,
          0.01936267266983847,
          -0.07357851237266395,
          0.13107003631059203,
          0.1994184006850551,
          0.060015984749509504,
          0.05823162308615725,
          0.21962662329633412,
          -0.09178069703000401,
          -0.07883974742558517,
          -0.08971124729254261,
          -0.14086848285613446,
          0.20966850040039176,
          0.04416127252396032,
          -0.021372244546287594,
          0.16816451659525009,
          0.14128975489287615,
          0.24764897930941873,
          0.029357712175129533,
          0.053297515117034136,
          0.23345374815961636,
          2.175113197987819,
          4.22329614231244,
          1.6394010891622315,
          0.39863384895224974,
          0.08666218141601152,
          0.9300037519997548,
          0.6895741771328789,
          1.396517001359903,
          1.4401685073490713,
          1.6208949165398718,
          2.6162474265449465,
          3.0951671295291825,
          4.085075764414031,
          4.2892290299747335,
          2.0006995289956473,
          0.8070557223985567,
          0.4934270466694946,
          1.3473045115806617,
          1.9276283115074726,
          0.4844294621545966,
          0.27579268322021894,
          1.12653435595068,
          0.3001887330613949,
          0.2101526555497927,
          0.24907141689355808,
          0.09263348713678822,
          0.2528342615297086,
          0.2218273124632026,
          0.29271020519912294,
          0.3355417738648621,
          0.12035733085418235,
          0.384714874151832,
          0.38937996778584466,
          0.16589493997552993,
          0.06364494043883558,
          0.161964822473096,
          0.3219603475834174,
          -0.031896480997074934,
          0.08511203709235489,
          0.1468608068491353,
          0.021278097128103347,
          -0.05551445589001618,
          -0.08836935503789135,
          0.07633418588860415,
          -0.004773901098929567,
          0.02795894361325204,
          -0.008418223989276389,
          -0.1199433008317148,
          -0.09424828091804903,
          -0.017889542218400417,
          0.11721253031425724,
          0.020379027551142057,
          0.05776336504126052,
          0.22652861616858605,
          0.055431789713973875,
          -0.058323827524902096,
          0.11044301331287386,
          0.11712421306701154,
          -0.01718953971673095,
          0.024610836770167316,
          0.06895333690178598,
          0.18747843876091908,
          0.5224074681807007,
          0.1700092872557184,
          0.07038407630716643,
          -0.0029989010637853633,
          0.005054395443561605,
          -0.04900300188508475,
          -0.10241497677085949,
          -0.06667545969344506,
          -0.10734148945671948,
          0.017567359667827753,
          -0.04818606734806197,
          0.2229038997071278,
          0.029863416732858448,
          -0.09626562347963545,
          -0.11489137765476591
         ],
         "xaxis": "x3",
         "yaxis": "y3"
        }
       ],
       "layout": {
        "annotations": [
         {
          "font": {
           "size": 16
          },
          "showarrow": false,
          "text": "News Sentiment",
          "x": 0.5,
          "xanchor": "center",
          "xref": "paper",
          "y": 1,
          "yanchor": "bottom",
          "yref": "paper"
         },
         {
          "font": {
           "size": 16
          },
          "showarrow": false,
          "text": "close",
          "x": 0.5,
          "xanchor": "center",
          "xref": "paper",
          "y": 0.6111111111111112,
          "yanchor": "bottom",
          "yref": "paper"
         },
         {
          "font": {
           "size": 16
          },
          "showarrow": false,
          "text": "volume",
          "x": 0.5,
          "xanchor": "center",
          "xref": "paper",
          "y": 0.22222222222222224,
          "yanchor": "bottom",
          "yref": "paper"
         }
        ],
        "height": 600,
        "template": {
         "data": {
          "bar": [
           {
            "error_x": {
             "color": "#2a3f5f"
            },
            "error_y": {
             "color": "#2a3f5f"
            },
            "marker": {
             "line": {
              "color": "#E5ECF6",
              "width": 0.5
             },
             "pattern": {
              "fillmode": "overlay",
              "size": 10,
              "solidity": 0.2
             }
            },
            "type": "bar"
           }
          ],
          "barpolar": [
           {
            "marker": {
             "line": {
              "color": "#E5ECF6",
              "width": 0.5
             },
             "pattern": {
              "fillmode": "overlay",
              "size": 10,
              "solidity": 0.2
             }
            },
            "type": "barpolar"
           }
          ],
          "carpet": [
           {
            "aaxis": {
             "endlinecolor": "#2a3f5f",
             "gridcolor": "white",
             "linecolor": "white",
             "minorgridcolor": "white",
             "startlinecolor": "#2a3f5f"
            },
            "baxis": {
             "endlinecolor": "#2a3f5f",
             "gridcolor": "white",
             "linecolor": "white",
             "minorgridcolor": "white",
             "startlinecolor": "#2a3f5f"
            },
            "type": "carpet"
           }
          ],
          "choropleth": [
           {
            "colorbar": {
             "outlinewidth": 0,
             "ticks": ""
            },
            "type": "choropleth"
           }
          ],
          "contour": [
           {
            "colorbar": {
             "outlinewidth": 0,
             "ticks": ""
            },
            "colorscale": [
             [
              0,
              "#0d0887"
             ],
             [
              0.1111111111111111,
              "#46039f"
             ],
             [
              0.2222222222222222,
              "#7201a8"
             ],
             [
              0.3333333333333333,
              "#9c179e"
             ],
             [
              0.4444444444444444,
              "#bd3786"
             ],
             [
              0.5555555555555556,
              "#d8576b"
             ],
             [
              0.6666666666666666,
              "#ed7953"
             ],
             [
              0.7777777777777778,
              "#fb9f3a"
             ],
             [
              0.8888888888888888,
              "#fdca26"
             ],
             [
              1,
              "#f0f921"
             ]
            ],
            "type": "contour"
           }
          ],
          "contourcarpet": [
           {
            "colorbar": {
             "outlinewidth": 0,
             "ticks": ""
            },
            "type": "contourcarpet"
           }
          ],
          "heatmap": [
           {
            "colorbar": {
             "outlinewidth": 0,
             "ticks": ""
            },
            "colorscale": [
             [
              0,
              "#0d0887"
             ],
             [
              0.1111111111111111,
              "#46039f"
             ],
             [
              0.2222222222222222,
              "#7201a8"
             ],
             [
              0.3333333333333333,
              "#9c179e"
             ],
             [
              0.4444444444444444,
              "#bd3786"
             ],
             [
              0.5555555555555556,
              "#d8576b"
             ],
             [
              0.6666666666666666,
              "#ed7953"
             ],
             [
              0.7777777777777778,
              "#fb9f3a"
             ],
             [
              0.8888888888888888,
              "#fdca26"
             ],
             [
              1,
              "#f0f921"
             ]
            ],
            "type": "heatmap"
           }
          ],
          "heatmapgl": [
           {
            "colorbar": {
             "outlinewidth": 0,
             "ticks": ""
            },
            "colorscale": [
             [
              0,
              "#0d0887"
             ],
             [
              0.1111111111111111,
              "#46039f"
             ],
             [
              0.2222222222222222,
              "#7201a8"
             ],
             [
              0.3333333333333333,
              "#9c179e"
             ],
             [
              0.4444444444444444,
              "#bd3786"
             ],
             [
              0.5555555555555556,
              "#d8576b"
             ],
             [
              0.6666666666666666,
              "#ed7953"
             ],
             [
              0.7777777777777778,
              "#fb9f3a"
             ],
             [
              0.8888888888888888,
              "#fdca26"
             ],
             [
              1,
              "#f0f921"
             ]
            ],
            "type": "heatmapgl"
           }
          ],
          "histogram": [
           {
            "marker": {
             "pattern": {
              "fillmode": "overlay",
              "size": 10,
              "solidity": 0.2
             }
            },
            "type": "histogram"
           }
          ],
          "histogram2d": [
           {
            "colorbar": {
             "outlinewidth": 0,
             "ticks": ""
            },
            "colorscale": [
             [
              0,
              "#0d0887"
             ],
             [
              0.1111111111111111,
              "#46039f"
             ],
             [
              0.2222222222222222,
              "#7201a8"
             ],
             [
              0.3333333333333333,
              "#9c179e"
             ],
             [
              0.4444444444444444,
              "#bd3786"
             ],
             [
              0.5555555555555556,
              "#d8576b"
             ],
             [
              0.6666666666666666,
              "#ed7953"
             ],
             [
              0.7777777777777778,
              "#fb9f3a"
             ],
             [
              0.8888888888888888,
              "#fdca26"
             ],
             [
              1,
              "#f0f921"
             ]
            ],
            "type": "histogram2d"
           }
          ],
          "histogram2dcontour": [
           {
            "colorbar": {
             "outlinewidth": 0,
             "ticks": ""
            },
            "colorscale": [
             [
              0,
              "#0d0887"
             ],
             [
              0.1111111111111111,
              "#46039f"
             ],
             [
              0.2222222222222222,
              "#7201a8"
             ],
             [
              0.3333333333333333,
              "#9c179e"
             ],
             [
              0.4444444444444444,
              "#bd3786"
             ],
             [
              0.5555555555555556,
              "#d8576b"
             ],
             [
              0.6666666666666666,
              "#ed7953"
             ],
             [
              0.7777777777777778,
              "#fb9f3a"
             ],
             [
              0.8888888888888888,
              "#fdca26"
             ],
             [
              1,
              "#f0f921"
             ]
            ],
            "type": "histogram2dcontour"
           }
          ],
          "mesh3d": [
           {
            "colorbar": {
             "outlinewidth": 0,
             "ticks": ""
            },
            "type": "mesh3d"
           }
          ],
          "parcoords": [
           {
            "line": {
             "colorbar": {
              "outlinewidth": 0,
              "ticks": ""
             }
            },
            "type": "parcoords"
           }
          ],
          "pie": [
           {
            "automargin": true,
            "type": "pie"
           }
          ],
          "scatter": [
           {
            "fillpattern": {
             "fillmode": "overlay",
             "size": 10,
             "solidity": 0.2
            },
            "type": "scatter"
           }
          ],
          "scatter3d": [
           {
            "line": {
             "colorbar": {
              "outlinewidth": 0,
              "ticks": ""
             }
            },
            "marker": {
             "colorbar": {
              "outlinewidth": 0,
              "ticks": ""
             }
            },
            "type": "scatter3d"
           }
          ],
          "scattercarpet": [
           {
            "marker": {
             "colorbar": {
              "outlinewidth": 0,
              "ticks": ""
             }
            },
            "type": "scattercarpet"
           }
          ],
          "scattergeo": [
           {
            "marker": {
             "colorbar": {
              "outlinewidth": 0,
              "ticks": ""
             }
            },
            "type": "scattergeo"
           }
          ],
          "scattergl": [
           {
            "marker": {
             "colorbar": {
              "outlinewidth": 0,
              "ticks": ""
             }
            },
            "type": "scattergl"
           }
          ],
          "scattermapbox": [
           {
            "marker": {
             "colorbar": {
              "outlinewidth": 0,
              "ticks": ""
             }
            },
            "type": "scattermapbox"
           }
          ],
          "scatterpolar": [
           {
            "marker": {
             "colorbar": {
              "outlinewidth": 0,
              "ticks": ""
             }
            },
            "type": "scatterpolar"
           }
          ],
          "scatterpolargl": [
           {
            "marker": {
             "colorbar": {
              "outlinewidth": 0,
              "ticks": ""
             }
            },
            "type": "scatterpolargl"
           }
          ],
          "scatterternary": [
           {
            "marker": {
             "colorbar": {
              "outlinewidth": 0,
              "ticks": ""
             }
            },
            "type": "scatterternary"
           }
          ],
          "surface": [
           {
            "colorbar": {
             "outlinewidth": 0,
             "ticks": ""
            },
            "colorscale": [
             [
              0,
              "#0d0887"
             ],
             [
              0.1111111111111111,
              "#46039f"
             ],
             [
              0.2222222222222222,
              "#7201a8"
             ],
             [
              0.3333333333333333,
              "#9c179e"
             ],
             [
              0.4444444444444444,
              "#bd3786"
             ],
             [
              0.5555555555555556,
              "#d8576b"
             ],
             [
              0.6666666666666666,
              "#ed7953"
             ],
             [
              0.7777777777777778,
              "#fb9f3a"
             ],
             [
              0.8888888888888888,
              "#fdca26"
             ],
             [
              1,
              "#f0f921"
             ]
            ],
            "type": "surface"
           }
          ],
          "table": [
           {
            "cells": {
             "fill": {
              "color": "#EBF0F8"
             },
             "line": {
              "color": "white"
             }
            },
            "header": {
             "fill": {
              "color": "#C8D4E3"
             },
             "line": {
              "color": "white"
             }
            },
            "type": "table"
           }
          ]
         },
         "layout": {
          "annotationdefaults": {
           "arrowcolor": "#2a3f5f",
           "arrowhead": 0,
           "arrowwidth": 1
          },
          "autotypenumbers": "strict",
          "coloraxis": {
           "colorbar": {
            "outlinewidth": 0,
            "ticks": ""
           }
          },
          "colorscale": {
           "diverging": [
            [
             0,
             "#8e0152"
            ],
            [
             0.1,
             "#c51b7d"
            ],
            [
             0.2,
             "#de77ae"
            ],
            [
             0.3,
             "#f1b6da"
            ],
            [
             0.4,
             "#fde0ef"
            ],
            [
             0.5,
             "#f7f7f7"
            ],
            [
             0.6,
             "#e6f5d0"
            ],
            [
             0.7,
             "#b8e186"
            ],
            [
             0.8,
             "#7fbc41"
            ],
            [
             0.9,
             "#4d9221"
            ],
            [
             1,
             "#276419"
            ]
           ],
           "sequential": [
            [
             0,
             "#0d0887"
            ],
            [
             0.1111111111111111,
             "#46039f"
            ],
            [
             0.2222222222222222,
             "#7201a8"
            ],
            [
             0.3333333333333333,
             "#9c179e"
            ],
            [
             0.4444444444444444,
             "#bd3786"
            ],
            [
             0.5555555555555556,
             "#d8576b"
            ],
            [
             0.6666666666666666,
             "#ed7953"
            ],
            [
             0.7777777777777778,
             "#fb9f3a"
            ],
            [
             0.8888888888888888,
             "#fdca26"
            ],
            [
             1,
             "#f0f921"
            ]
           ],
           "sequentialminus": [
            [
             0,
             "#0d0887"
            ],
            [
             0.1111111111111111,
             "#46039f"
            ],
            [
             0.2222222222222222,
             "#7201a8"
            ],
            [
             0.3333333333333333,
             "#9c179e"
            ],
            [
             0.4444444444444444,
             "#bd3786"
            ],
            [
             0.5555555555555556,
             "#d8576b"
            ],
            [
             0.6666666666666666,
             "#ed7953"
            ],
            [
             0.7777777777777778,
             "#fb9f3a"
            ],
            [
             0.8888888888888888,
             "#fdca26"
            ],
            [
             1,
             "#f0f921"
            ]
           ]
          },
          "colorway": [
           "#636efa",
           "#EF553B",
           "#00cc96",
           "#ab63fa",
           "#FFA15A",
           "#19d3f3",
           "#FF6692",
           "#B6E880",
           "#FF97FF",
           "#FECB52"
          ],
          "font": {
           "color": "#2a3f5f"
          },
          "geo": {
           "bgcolor": "white",
           "lakecolor": "white",
           "landcolor": "#E5ECF6",
           "showlakes": true,
           "showland": true,
           "subunitcolor": "white"
          },
          "hoverlabel": {
           "align": "left"
          },
          "hovermode": "closest",
          "mapbox": {
           "style": "light"
          },
          "paper_bgcolor": "white",
          "plot_bgcolor": "#E5ECF6",
          "polar": {
           "angularaxis": {
            "gridcolor": "white",
            "linecolor": "white",
            "ticks": ""
           },
           "bgcolor": "#E5ECF6",
           "radialaxis": {
            "gridcolor": "white",
            "linecolor": "white",
            "ticks": ""
           }
          },
          "scene": {
           "xaxis": {
            "backgroundcolor": "#E5ECF6",
            "gridcolor": "white",
            "gridwidth": 2,
            "linecolor": "white",
            "showbackground": true,
            "ticks": "",
            "zerolinecolor": "white"
           },
           "yaxis": {
            "backgroundcolor": "#E5ECF6",
            "gridcolor": "white",
            "gridwidth": 2,
            "linecolor": "white",
            "showbackground": true,
            "ticks": "",
            "zerolinecolor": "white"
           },
           "zaxis": {
            "backgroundcolor": "#E5ECF6",
            "gridcolor": "white",
            "gridwidth": 2,
            "linecolor": "white",
            "showbackground": true,
            "ticks": "",
            "zerolinecolor": "white"
           }
          },
          "shapedefaults": {
           "line": {
            "color": "#2a3f5f"
           }
          },
          "ternary": {
           "aaxis": {
            "gridcolor": "white",
            "linecolor": "white",
            "ticks": ""
           },
           "baxis": {
            "gridcolor": "white",
            "linecolor": "white",
            "ticks": ""
           },
           "bgcolor": "#E5ECF6",
           "caxis": {
            "gridcolor": "white",
            "linecolor": "white",
            "ticks": ""
           }
          },
          "title": {
           "x": 0.05
          },
          "xaxis": {
           "automargin": true,
           "gridcolor": "white",
           "linecolor": "white",
           "ticks": "",
           "title": {
            "standoff": 15
           },
           "zerolinecolor": "white",
           "zerolinewidth": 2
          },
          "yaxis": {
           "automargin": true,
           "gridcolor": "white",
           "linecolor": "white",
           "ticks": "",
           "title": {
            "standoff": 15
           },
           "zerolinecolor": "white",
           "zerolinewidth": 2
          }
         }
        },
        "title": {
         "text": "Histograms of Scaled Numerical Columns for Ticker KSCP"
        },
        "width": 600,
        "xaxis": {
         "anchor": "y",
         "domain": [
          0,
          1
         ]
        },
        "xaxis2": {
         "anchor": "y2",
         "domain": [
          0,
          1
         ]
        },
        "xaxis3": {
         "anchor": "y3",
         "domain": [
          0,
          1
         ]
        },
        "yaxis": {
         "anchor": "x",
         "domain": [
          0.7777777777777778,
          1
         ]
        },
        "yaxis2": {
         "anchor": "x2",
         "domain": [
          0.3888888888888889,
          0.6111111111111112
         ]
        },
        "yaxis3": {
         "anchor": "x3",
         "domain": [
          0,
          0.22222222222222224
         ]
        }
       }
      }
     },
     "metadata": {},
     "output_type": "display_data"
    },
    {
     "data": {
      "application/vnd.plotly.v1+json": {
       "config": {
        "plotlyServerURL": "https://plot.ly"
       },
       "data": [
        {
         "histnorm": "density",
         "name": "News Sentiment",
         "nbinsx": 15,
         "type": "histogram",
         "x": [
          -0.8371851291099099,
          -0.6966915633204962,
          -0.6784447883434818,
          -0.6760086182749382,
          -0.7809117511292518,
          -0.7172918871105168,
          -0.1995819275784266,
          -0.08240062280362073,
          0.0767159373208058,
          0.07872647861494238,
          0.21272638122718324,
          0.7438424221262394,
          0.6214127620274903,
          0.689033733891088,
          0.7318480821219071,
          0.7970965172562755,
          0.8907243668405064,
          0.8973742209414503,
          0.6053567434061138,
          0.5257656598470563,
          0.35596986007363046,
          0.3342843666629,
          0.3603615132849682,
          0.23296511792439545,
          0.10996228137248751,
          0.23373212084853462,
          0.39089156446102946,
          0.3962626266414255,
          0.423094730090244,
          0.5104410503140315,
          0.649289949496103,
          0.5748890324854662,
          0.4843517214804796,
          0.5284982183570041,
          0.4812912641161838,
          0.34866951671368723,
          0.2427373613027645,
          0.16702682252910991,
          0.07462399979798505,
          0.04810366568328203,
          0.008809704343052786,
          -0.10288511349897551,
          -0.07448858270169322,
          -0.16019704202287793,
          -0.3666618428185163,
          -0.4250230748991515,
          -0.4214058428301189,
          -0.5907532827753079,
          -0.904284069391466,
          -0.9099823498557362,
          -0.48883349865059184,
          -0.5865288457294191,
          -0.8852720609735447,
          -0.9906673823946174,
          -1.082060102428309,
          -0.7471663447490242,
          -0.7600488632503821,
          -0.7757552047622441,
          -0.8710424212760546,
          -1.1010725191885147,
          -1.133922839281406,
          -0.973778889969508,
          -1.0424151028376174,
          -1.0621398046558568,
          -1.0307163686186442,
          -0.5967771481543147,
          -0.46295848145928614,
          -0.4093052998033271,
          -0.2800678251966307,
          -0.20790979623993625,
          0.150384764672617,
          0.19182830785481036,
          0.19718283217268945,
          0.10799128122288729,
          0.10303917822625352,
          0.16473459311580632,
          0.2791076599439614,
          0.32872682817264226,
          0.28864381342491796,
          0.28230259803390934,
          0.3136419836175893,
          0.12487133457411974,
          0.07121896960272943,
          0.13218828385362733,
          0.36730414880380446,
          0.3816236238038557,
          0.42075492880081145,
          0.41288821469244885,
          0.4499422824888211,
          0.2520225884499765,
          0.22665650185908895,
          0.22337404240619133,
          0.1520171810114282,
          -0.08763162358047831,
          -0.1310614116908883,
          -0.1049466975786582,
          -0.12211490446856015,
          -0.018877672020375918,
          -0.014379373415770549,
          -0.20726420708834936,
          -0.14945900108492957,
          -0.12939251677467353,
          -0.13151576053929587,
          -0.05099474548463605,
          0.35497963003403643,
          0.4495176065130777,
          0.4987778418737985,
          0.5066279500625968,
          0.8828973640192986,
          0.8779112324989674,
          0.8103025789609481,
          0.8657226236528467,
          0.8119812060349404,
          0.6809079946603409,
          0.5433558204308059,
          0.6779634044192346,
          0.521329973726054,
          0.32527361358783113,
          0.3207529242146329,
          0.1008871463305832,
          -0.06338970329845772,
          -0.436191780833014,
          -0.3429097971636434,
          -0.27183727811289565,
          -0.32967596818363365,
          -0.32315065847942215,
          -0.24922273794817904,
          -0.344129923909337,
          -0.12131591473214542,
          -0.016568360288176247,
          -0.014427966147610423,
          0.43130588091547156,
          0.5124357343161251,
          0.6155735354180656,
          0.7838619736772681,
          0.8906103712861201,
          1.275195565271288,
          1.4882104740577824,
          1.5096459599049081,
          1.522827827329232,
          1.2937810814410136,
          1.1347778405540647,
          1.1126524434032363,
          1.0271263769690697,
          1.0503309036776516,
          1.101164915723722,
          1.2140016159747673,
          1.086604986668094,
          1.0395801530861022,
          1.228598547859742,
          1.4379545130508904,
          1.5562204089615033,
          1.4767647759410232,
          1.5025542624380155,
          1.4101520011775315,
          1.1000605370013852,
          0.8144653903504209,
          0.5643742186629727,
          0.2842741426398887,
          0.09156884345833734,
          -0.6117709323799534,
          -0.9161556685108219,
          -1.0882614605869212,
          -1.1476477679154167,
          -1.1571980772622312,
          -1.499138189400582,
          -1.7683759523171747,
          -1.8489835359361206,
          -1.9218268993600804,
          -1.7035083303915037,
          -1.3501046891899764,
          -1.1975036385549365,
          -1.2086565552538036,
          -1.1647532262076206,
          -0.7759159555081906,
          -0.785485865284655,
          -0.7368721718741846,
          -0.6628469297651669,
          -0.603681535612515,
          -0.41032669997062793,
          -0.30473836876314364,
          -0.3076618272910338,
          -0.24311802079686728,
          -0.3780912072439009,
          -0.3470501156989522,
          -0.45692712980506595,
          -0.5989167256103117,
          -0.6779942506897283,
          -0.7938163201139656,
          -1.0233079506674383,
          -1.1425756122871784,
          -1.2272968360788545,
          -1.2328630858711787,
          -1.4162969734861393,
          -1.5028361371278247,
          -1.6484156060690502,
          -1.8529117887117472,
          -1.9317833731657472,
          -2.111642360195155,
          -2.0683248662129463,
          -1.9515416951653997,
          -1.942578037567128,
          -1.9056856733153658,
          -1.8306280057973694,
          -2.0404176655864323,
          -2.0200672472744454,
          -2.1376287187159986,
          -2.2205861760673913,
          -2.3307473964034258,
          -2.5439763871396313,
          -2.685425337760373,
          -2.4743366050506386,
          -2.512543831458068,
          -2.2027903470864145,
          -2.2413471144892636,
          -2.2543421993470125,
          -2.2266533257285412,
          -2.289484136339781,
          -1.6068703176010017,
          -1.5538813727276157,
          -1.3280955845188838,
          -1.2474389998258135,
          -1.2065740096035231,
          -0.8384486762518414,
          -1.0685216501041601,
          -1.0218938613366695,
          -1.0086404319270101,
          -0.6499751642772974,
          -0.4675448458832203,
          -0.4247880058574499,
          -0.2893352894544727,
          -0.062063407558828255,
          0.5056458188116427,
          0.642061202150019,
          0.5457984559188519,
          0.6858711569271764,
          0.7359950702478606,
          0.7145650629930501,
          0.8507893081138183,
          0.8219573823558278,
          0.7740078916994068,
          1.0683617336432825,
          1.1209709201922056,
          1.1031146310317494,
          1.0814231400937173,
          1.154654615844708,
          1.1694410430076312,
          1.053217117986355,
          0.8348027417093081,
          0.8284831004023238,
          0.8730762216523764,
          0.8962295694613175,
          0.7535089388814806,
          0.5115074361896603,
          0.4438436224147275,
          0.4452596173428233,
          0.8000334510795498,
          0.6838231842569726,
          0.6296102333861915,
          0.6622420903569457,
          0.6685070478263485,
          0.5544268645016569,
          0.4877457264340573,
          0.4339143033709713,
          0.44382225250184554,
          0.47917577885496443,
          0.8234329612289177,
          0.8550408658930939,
          1.0313437190677675,
          1.0339659400896266,
          1.0497208743333284,
          1.14284116296522,
          1.184490425587426,
          1.1935695036845138,
          1.2890630564053287,
          1.4233922275199964,
          1.10232360396988,
          0.9687282409544847,
          0.8561517951062425,
          1.0140706192535685,
          1.2576264087937907,
          1.2709393094289594,
          1.2584598332694044,
          1.276616319939136,
          1.3932004879265345,
          1.03023602256437,
          0.9661828052963488,
          0.9665115038210038,
          0.9968379623397835,
          1.035181813269858,
          0.8100926910267826,
          0.7882239880444654,
          0.6931960348527054,
          0.5333026375607911,
          0.3306586955199905,
          -0.028467318340584767,
          -0.06026724596398522,
          0.21070447440613171,
          0.3557259436157676,
          0.3320627804647922,
          0.51448942377831,
          0.256746223938506,
          0.46520502816576403,
          0.5681628864343927,
          0.5663384811648808
         ],
         "xaxis": "x",
         "yaxis": "y"
        },
        {
         "histnorm": "density",
         "name": "close",
         "nbinsx": 15,
         "type": "histogram",
         "x": [
          0.4263708246939215,
          0.5996482451636915,
          0.2113535097830204,
          -0.020934232382978157,
          -0.013036743723020435,
          -0.057211050147640566,
          -0.12084415671844195,
          -0.20228194799952787,
          -0.2127817089469486,
          -0.2656575546008753,
          -0.2868981513315508,
          -0.2688914330958164,
          -0.2709539204871658,
          -0.24554712926057015,
          -0.5180826834228532,
          -0.5635393571922616,
          -0.5637164296866216,
          -0.5532683606380944,
          -0.5557052853002894,
          -0.5550096050293977,
          -0.5482977244036868,
          -0.5466442981901672,
          -0.49637814786439166,
          -0.5160651984191811,
          -0.5403655065509433,
          -0.5374242531154308,
          -0.5463519811552119,
          -0.5501410099301529,
          -0.5461758650756668,
          -0.5418159108791607,
          -0.5429870400696581,
          -0.545284318673376,
          -0.5447248384357736,
          -0.5434561080263193,
          -0.5410484801917212,
          -0.5335811893435353,
          -0.5226652934562681,
          -0.5348459056835202,
          -0.5353915848873794,
          -0.5383921754562307,
          -0.5387320137792946,
          -0.5373075293357937,
          -0.5341546564642239,
          -0.5340514648584705,
          -0.5320749535082172,
          -0.5251317672069713,
          -0.5172230862947795,
          -0.5197782754986061,
          -0.5211947341002524,
          -0.5184611217886153,
          -0.5199794622775051,
          -0.5251276104326933,
          -0.5188405987258323,
          -0.5190507198997476,
          -0.5226022995480242,
          -0.5135950469998004,
          -0.5132457055632497,
          -0.5141311339855423,
          -0.5191043310634625,
          -0.5167595775567387,
          -0.51233902327208,
          -0.5165761383096286,
          -0.5143425262030431,
          -0.5139984730069426,
          -0.5150018280336601,
          -0.5204838540602973,
          -0.5172388212543013,
          -0.5154386368624438,
          -0.5174228882411961,
          -0.524268889373328,
          -0.5370649502600388,
          -0.534091904681495,
          -0.5399248808196991,
          -0.47587037247694475,
          -0.5017507432473978,
          -0.5123173789146277,
          -0.5098280381252649,
          -0.5066808992358771,
          -0.5105781672315455,
          -0.511265876323672,
          -0.5156354429563356,
          -0.5097108896875671,
          -0.5107703891943495,
          -0.5086107556577554,
          -0.5015393452955161,
          -0.4961755809601877,
          -0.5012303790581506,
          -0.4977493636361826,
          -0.4966021749189239,
          -0.4950023093521485,
          -0.49019357024070376,
          -0.49552479294773216,
          -0.4880904859482555,
          -0.4767212257446071,
          -0.489697216391017,
          -0.47469180540654304,
          -0.47338950358532544,
          -0.4704930047071001,
          -0.4532513553534768,
          -0.45976273625296793,
          -0.4634576808684778,
          -0.41323465617347827,
          -0.38938098749162586,
          -0.29984943781948126,
          -0.3584385909791669,
          -0.4116831358628382,
          -0.42507781872071254,
          -0.4311029858098463,
          -0.39172462607195213,
          -0.4218710292751274,
          -0.3804520563746005,
          -0.3643056748769632,
          -0.36237867984792654,
          -0.3216049378959536,
          -0.35047493639214927,
          -0.4104466079598352,
          -0.3847051051450957,
          -0.4188143594499363,
          -0.40564486057125837,
          -0.4112121592764458,
          -0.4280903013472931,
          -0.4323660918407059,
          -0.42534903640263133,
          -0.42403495665796603,
          -0.42403495665796603,
          -0.4307012514898317,
          -0.4270617452305354,
          -0.14660218408617867,
          0.005447021862578094,
          -0.029015182145405348,
          -0.10541688899017178,
          -0.12670127922066632,
          -0.18859303579652953,
          -0.18170882326763252,
          -0.2559653911929668,
          -0.2797989493122851,
          -0.28681087851155124,
          -0.32578361331339184,
          -0.3558812967260082,
          -0.3721195526609772,
          -0.4326001243207689,
          -0.4245712728149597,
          -0.4207206348095128,
          -0.41765739750246583,
          -0.43375648918576276,
          -0.43340123633420063,
          -0.4371388564158696,
          -0.44542050157870017,
          -0.45183456598818117,
          -0.45030493767747265,
          -0.45283650945816034,
          -0.4583140272397099,
          -0.4522036340928597,
          -0.45988059732523306,
          -0.4601216081076212,
          -0.45425367150547186,
          -0.42144368129828946,
          -0.4319465267883811,
          -0.43479468537842136,
          -0.42100441282684703,
          -0.4287329224325721,
          -0.42830505482222053,
          -0.4390838118420558,
          -0.44444592599776533,
          -0.44569168289449645,
          -0.4527418977873881,
          -0.4566265576969651,
          -0.44326852275264716,
          -0.44291805263887263,
          -0.4435638543565371,
          -0.43202028993846486,
          -0.4160641067513577,
          -0.41530581793280863,
          -0.39418957795021187,
          -0.42453377428690975,
          -0.42057392972483343,
          -0.4147477259915323,
          -0.44494644064335875,
          -0.42563723097232675,
          -0.41573411970451796,
          -0.39304027367624433,
          -0.40093824031819547,
          -0.40057054670416414,
          -0.39874487062632874,
          -0.40704446080440604,
          -0.42462079741961617,
          -0.4197547141755232,
          -0.42682936176775915,
          -0.44541095478363435,
          -0.44353302849889203,
          -0.4400347178199762,
          -0.4487865432100657,
          -0.4514214945950141,
          -0.4507550527011715,
          -0.4702252273108951,
          -0.47520885517420264,
          -0.4907872080877412,
          -0.4714797732168013,
          -0.48330496914951077,
          -0.4827263705674794,
          -0.48213767864688856,
          -0.4784499393843019,
          -0.48331684184331547,
          -0.48325453507855043,
          -0.48101173540909886,
          -0.4841624336508422,
          -0.48499912449197385,
          -0.4836998131006599,
          -0.49129463516815397,
          -0.491107561029995,
          -0.4943710329271647,
          -0.4914614528709709,
          -0.4920095256246901,
          -0.48849356552536904,
          -0.4846881009146295,
          -0.4920986221273368,
          -0.48949763931946355,
          -0.4886577088082745,
          -0.4881780491866496,
          -0.4915398233074526,
          -0.4930714612984444,
          -0.4944675898846257,
          -0.4741771875703059,
          -0.48702246062516036,
          -0.490729175882952,
          -0.4941144785806535,
          -0.4989776222885525,
          -0.5059098022118255,
          -0.5053642038907418,
          -0.4984588597266314,
          -0.4961314750056867,
          -0.498983235829532,
          -0.4967870654778652,
          -0.4979347391929183,
          -0.4956406605091403,
          -0.4976488150906313,
          -0.4950716383373134,
          -0.48702246062516036,
          -0.4935510651138055,
          -0.5109481162080823,
          -0.5063321507125161,
          -0.5134945969803576,
          -0.517578908343626,
          -0.5119797479229314,
          -0.5132302926344271,
          -0.5102956709866151,
          -0.5107889954885779,
          -0.504516768004463,
          -0.5014432553173881,
          -0.5086625371523988,
          -0.5061542740969197,
          -0.5068297203501465,
          -0.45804015135063236,
          -0.48066994283649933,
          -0.4711100153686495,
          -0.4822819225619023,
          -0.48526170300062693,
          -0.48661342439729643,
          -0.4839314427180544,
          -0.48896374518235974,
          -0.48612042511572395,
          -0.4905311836548482,
          -0.49492790677341536,
          -0.48399563197922046,
          -0.49841347424702576,
          -0.5001691292750098,
          -0.4850931843496234,
          -0.4807049027045108,
          -0.4914046787788357,
          -0.4887223657684677,
          -0.4846478420777583,
          -0.47868410771093145,
          -0.4821600722506189,
          -0.484672561167514,
          -0.48196102853836587,
          -0.4927096219529534,
          -0.49140340541705496,
          -0.4934249162194425,
          -0.4964295295297402,
          -0.48486883955022736,
          -0.49303967998054055,
          -0.4887044696455571,
          -0.49111873581258403,
          -0.49195684450676985,
          -0.5000892295203279,
          -0.5036185283372975,
          -0.5068242940925581,
          -0.5133474308934785,
          -0.5165743352819531,
          -0.5108546849508631,
          -0.5102692977528521,
          -0.50903389661017,
          -0.49619399708365086,
          -0.5010386659357964,
          -0.5007538350111558,
          -0.5115674741850103,
          -0.5103782306749167,
          -0.5011862042564735,
          -0.47669617117253227,
          -0.4718967063328723,
          -0.48417230917560167,
          -0.4865424351178663,
          -0.4859798249983623,
          -0.4966134666428298,
          -0.49991460103676844
         ],
         "xaxis": "x2",
         "yaxis": "y2"
        },
        {
         "histnorm": "density",
         "name": "volume",
         "nbinsx": 15,
         "type": "histogram",
         "x": [
          2.476458181066465,
          4.079672868496528,
          0.776865531234579,
          0.24095364879572173,
          0.6897746572841267,
          -0.011354949094690613,
          0.19324873442696455,
          0.043459856946334925,
          0.12256455549734704,
          0.037129983201740664,
          -0.07224598174622074,
          0.11626488625131082,
          -0.09361310327585791,
          -0.15866723432805613,
          -0.15193021807365917,
          -0.15870432757189934,
          -0.16686537112088606,
          -0.1825625253773489,
          -0.08580426890888707,
          -0.1709678838899436,
          -0.15991939625950577,
          -0.08915025613803788,
          15.17358223582734,
          1.9432403279375907,
          0.5559494755121475,
          -0.03638688311603562,
          -0.12375524985733398,
          -0.11424277579099346,
          -0.10315454539929503,
          -0.1754932596388136,
          -0.12645228195372335,
          -0.10731128495816145,
          0.05484448001978993,
          -0.15105057829109195,
          -0.19016434411677582,
          0.23980852736793393,
          5.4217456436011595,
          0.28246840730502737,
          -0.11466104627394912,
          -0.16926018159720063,
          -0.17553812480041442,
          -0.18206582917883904,
          -0.17762453144934698,
          -0.1996736387622155,
          -0.18057132472094722,
          -0.19029982277405075,
          -0.19464185191763864,
          -0.2050193051035036,
          -0.1961441282932881,
          -0.2046453698786653,
          -0.20841192383920018,
          -0.2069670536742604,
          -0.2132508258157924,
          -0.20714898720358657,
          -0.21187837579359414,
          -0.21294719111976168,
          -0.20876448629020503,
          -0.20896372999999133,
          -0.2043035821318244,
          -0.21203628703166946,
          -0.21372314645406246,
          -0.21339760908071478,
          -0.21627975412733116,
          -0.2163013035356591,
          -0.21234469085905147,
          -0.18262788014031073,
          -0.212981458211693,
          -0.20156274468080115,
          -0.21548083630874648,
          -0.20724595954106234,
          -0.21719171802239032,
          -0.2124773433644145,
          -0.20834285975185401,
          -0.2097709496398171,
          -0.21064175769765975,
          -0.21215092281859438,
          -0.2146971090566881,
          -0.21516942969495814,
          -0.2171079932720014,
          -0.21809944268958167,
          -0.2132942779014373,
          -0.21600190806749617,
          -0.2142814880911498,
          -0.213362458816311,
          -0.21554159857485153,
          -0.21497601492349003,
          -0.2098041569247815,
          -0.2104086001649311,
          -0.21277691546707195,
          -0.21383371964761408,
          -0.2159747063553445,
          -0.2098760471640395,
          -0.21344353404928254,
          -0.2088496241165499,
          -0.20872227064602158,
          -0.20704724573475952,
          -0.2171963105192471,
          -0.21713625479112,
          -0.21530685133167246,
          -0.21158374945678246,
          -0.21689108611276592,
          0.1241941853435248,
          -0.08112451461183158,
          0.7705587966087631,
          -0.11922987410846399,
          -0.1398023170473843,
          -0.1982398965704287,
          -0.19793467216394756,
          -0.11603261312367494,
          -0.19903687140957396,
          -0.11601530294321477,
          1.6419663519257304,
          0.043451731759588316,
          -0.060939607753825425,
          -0.15486164414423867,
          -0.14576337796748048,
          -0.1391335788512398,
          -0.19044219017661082,
          -0.19525212409610646,
          -0.19616567770161605,
          -0.18423048490883132,
          -0.18590356684065398,
          -0.19720623150866495,
          -0.19175370129820954,
          -0.19906672263914302,
          -0.206451104315851,
          -0.2031457430204332,
          11.915250581105854,
          12.32948655557284,
          1.3485178139233231,
          0.7025864870730723,
          -0.08580727169529341,
          -0.03722095119902407,
          0.16353421995665218,
          -0.11282069147584309,
          0.0471236096310758,
          -0.08354246420692453,
          -0.1411493317023758,
          -0.1309184851469387,
          -0.12786465137167669,
          -0.06874014029955518,
          -0.11513566316064754,
          -0.05643843093070076,
          -0.0824116501731905,
          0.05286281762609077,
          -0.12729995089278764,
          -0.18000468126261876,
          -0.1671322658420626,
          0.051661173160065695,
          -0.14019426899066076,
          0.017703544863080633,
          -0.1280986920768778,
          -0.14255604881650544,
          -0.13039970963661743,
          -0.1181744830038778,
          -0.1804851270876354,
          0.05926016574758075,
          -0.15491887372045388,
          -0.19731344864682124,
          -0.18951344600457495,
          -0.18595638055450692,
          -0.20041903632896926,
          -0.19489320280329991,
          -0.18722196670753788,
          -0.19760524883172106,
          -0.14286215639545904,
          -0.17214409298876193,
          -0.13381387778064194,
          -0.19290747781622747,
          -0.21251337680129076,
          -0.18564815336161938,
          -0.20581875282557174,
          -0.2033944443886771,
          -0.08263244329130477,
          -0.19501614041146595,
          -0.20060520908616322,
          -0.19906601610116503,
          -0.18380179299070065,
          -0.11554068605651635,
          -0.20739768857183047,
          0.008481811174672971,
          -0.19352640508492536,
          -0.19443342321413876,
          -0.20607805226348513,
          -0.2099541196106047,
          -0.1929664737373876,
          -0.19430889589552233,
          -0.1726342537109756,
          -0.1854669263702712,
          -0.2002886800720346,
          -0.1651470707584736,
          -0.20730530873121147,
          -0.19042593980311762,
          -0.2100012810206339,
          -0.20751921310404056,
          -0.21560712997230785,
          -0.20563734919972906,
          -0.19243904313683624,
          -0.19902574343642102,
          -0.2091748082209086,
          -0.2056076746046545,
          -0.20743672479511308,
          -0.21432158412139934,
          -0.20516290894752512,
          -0.19978650820419552,
          -0.21125732891096233,
          -0.21474268075626687,
          0.003479875559665154,
          -0.20520353488125814,
          -0.20992868424339792,
          -0.20813937681419992,
          -0.20936045107461906,
          -0.2098287091195158,
          -0.21014841755454525,
          -0.20933607551437924,
          -0.19647355162551458,
          -0.20655090280523863,
          -0.2138393719514378,
          -0.21291115768288543,
          -0.21114781552437767,
          -0.18918419930684297,
          -0.20799665614265087,
          -0.08726503617833105,
          -0.1274937189332447,
          -0.2112378991165683,
          -0.2119159989409208,
          -0.20008042800302922,
          -0.19340170113181443,
          -0.21373515759968786,
          -0.21490960035356127,
          -0.21255947840435302,
          -0.2052872596316471,
          -0.21393245833003477,
          -0.2137408099035116,
          -0.20112716401738534,
          -0.2133808288037381,
          -0.21639350674178362,
          -0.11667061691777791,
          -0.2002107842599639,
          -0.21471000337478596,
          -0.2134566050018749,
          -0.2161552268087147,
          -0.20836264281523706,
          -0.21001064264884195,
          -0.21310686870278192,
          -0.21721538704465215,
          -0.21586978546561658,
          -0.2033925014092377,
          -0.20816180939500034,
          -0.20999810159973306,
          -0.20485803781003295,
          0.6287790570118577,
          4.5958767572125065,
          0.1482777687639454,
          0.09594291102557932,
          -0.12689863732130316,
          -0.18105353689090878,
          -0.030438716514037303,
          -0.18529364793117512,
          -0.19732793267536955,
          -0.20466621274901528,
          -0.2020433671403123,
          -0.21125962515939073,
          -0.18593518441516793,
          -0.11088442414722822,
          -0.19036747378544094,
          -0.15893801500811147,
          -0.1811287831855621,
          -0.19589383721459377,
          -0.20704441958284767,
          -0.2014240866026254,
          -0.18887756182440588,
          -0.20099486478101128,
          -0.2162580280845087,
          -0.21157120840767357,
          -0.1888319901248271,
          -0.21268117957105762,
          -0.213516307461013,
          -0.21222440276830282,
          -0.21549408389583335,
          -0.20985255477627213,
          -0.21175667462688955,
          -0.20319467077540732,
          -0.1704842586440261,
          -0.20829940766620914,
          -0.19391588414527894,
          -0.20184059074063615,
          -0.2049929865638244,
          -0.19767184003614433,
          -0.19811731223125167,
          -0.20592561669473905,
          -0.20635554505433115,
          0.44348770594542103,
          -0.16196252745728792,
          -0.19254166777813575,
          -0.2011914589733802,
          -0.21124425795836996,
          -0.21265150497598306,
          -0.1217513315173289,
          -0.16922520796729135,
          -0.192834704404497,
          -0.1740699388822018,
          -0.1995277386697656,
          -0.21562391024928454,
          -0.20941397132644995
         ],
         "xaxis": "x3",
         "yaxis": "y3"
        }
       ],
       "layout": {
        "annotations": [
         {
          "font": {
           "size": 16
          },
          "showarrow": false,
          "text": "News Sentiment",
          "x": 0.5,
          "xanchor": "center",
          "xref": "paper",
          "y": 1,
          "yanchor": "bottom",
          "yref": "paper"
         },
         {
          "font": {
           "size": 16
          },
          "showarrow": false,
          "text": "close",
          "x": 0.5,
          "xanchor": "center",
          "xref": "paper",
          "y": 0.6111111111111112,
          "yanchor": "bottom",
          "yref": "paper"
         },
         {
          "font": {
           "size": 16
          },
          "showarrow": false,
          "text": "volume",
          "x": 0.5,
          "xanchor": "center",
          "xref": "paper",
          "y": 0.22222222222222224,
          "yanchor": "bottom",
          "yref": "paper"
         }
        ],
        "height": 600,
        "template": {
         "data": {
          "bar": [
           {
            "error_x": {
             "color": "#2a3f5f"
            },
            "error_y": {
             "color": "#2a3f5f"
            },
            "marker": {
             "line": {
              "color": "#E5ECF6",
              "width": 0.5
             },
             "pattern": {
              "fillmode": "overlay",
              "size": 10,
              "solidity": 0.2
             }
            },
            "type": "bar"
           }
          ],
          "barpolar": [
           {
            "marker": {
             "line": {
              "color": "#E5ECF6",
              "width": 0.5
             },
             "pattern": {
              "fillmode": "overlay",
              "size": 10,
              "solidity": 0.2
             }
            },
            "type": "barpolar"
           }
          ],
          "carpet": [
           {
            "aaxis": {
             "endlinecolor": "#2a3f5f",
             "gridcolor": "white",
             "linecolor": "white",
             "minorgridcolor": "white",
             "startlinecolor": "#2a3f5f"
            },
            "baxis": {
             "endlinecolor": "#2a3f5f",
             "gridcolor": "white",
             "linecolor": "white",
             "minorgridcolor": "white",
             "startlinecolor": "#2a3f5f"
            },
            "type": "carpet"
           }
          ],
          "choropleth": [
           {
            "colorbar": {
             "outlinewidth": 0,
             "ticks": ""
            },
            "type": "choropleth"
           }
          ],
          "contour": [
           {
            "colorbar": {
             "outlinewidth": 0,
             "ticks": ""
            },
            "colorscale": [
             [
              0,
              "#0d0887"
             ],
             [
              0.1111111111111111,
              "#46039f"
             ],
             [
              0.2222222222222222,
              "#7201a8"
             ],
             [
              0.3333333333333333,
              "#9c179e"
             ],
             [
              0.4444444444444444,
              "#bd3786"
             ],
             [
              0.5555555555555556,
              "#d8576b"
             ],
             [
              0.6666666666666666,
              "#ed7953"
             ],
             [
              0.7777777777777778,
              "#fb9f3a"
             ],
             [
              0.8888888888888888,
              "#fdca26"
             ],
             [
              1,
              "#f0f921"
             ]
            ],
            "type": "contour"
           }
          ],
          "contourcarpet": [
           {
            "colorbar": {
             "outlinewidth": 0,
             "ticks": ""
            },
            "type": "contourcarpet"
           }
          ],
          "heatmap": [
           {
            "colorbar": {
             "outlinewidth": 0,
             "ticks": ""
            },
            "colorscale": [
             [
              0,
              "#0d0887"
             ],
             [
              0.1111111111111111,
              "#46039f"
             ],
             [
              0.2222222222222222,
              "#7201a8"
             ],
             [
              0.3333333333333333,
              "#9c179e"
             ],
             [
              0.4444444444444444,
              "#bd3786"
             ],
             [
              0.5555555555555556,
              "#d8576b"
             ],
             [
              0.6666666666666666,
              "#ed7953"
             ],
             [
              0.7777777777777778,
              "#fb9f3a"
             ],
             [
              0.8888888888888888,
              "#fdca26"
             ],
             [
              1,
              "#f0f921"
             ]
            ],
            "type": "heatmap"
           }
          ],
          "heatmapgl": [
           {
            "colorbar": {
             "outlinewidth": 0,
             "ticks": ""
            },
            "colorscale": [
             [
              0,
              "#0d0887"
             ],
             [
              0.1111111111111111,
              "#46039f"
             ],
             [
              0.2222222222222222,
              "#7201a8"
             ],
             [
              0.3333333333333333,
              "#9c179e"
             ],
             [
              0.4444444444444444,
              "#bd3786"
             ],
             [
              0.5555555555555556,
              "#d8576b"
             ],
             [
              0.6666666666666666,
              "#ed7953"
             ],
             [
              0.7777777777777778,
              "#fb9f3a"
             ],
             [
              0.8888888888888888,
              "#fdca26"
             ],
             [
              1,
              "#f0f921"
             ]
            ],
            "type": "heatmapgl"
           }
          ],
          "histogram": [
           {
            "marker": {
             "pattern": {
              "fillmode": "overlay",
              "size": 10,
              "solidity": 0.2
             }
            },
            "type": "histogram"
           }
          ],
          "histogram2d": [
           {
            "colorbar": {
             "outlinewidth": 0,
             "ticks": ""
            },
            "colorscale": [
             [
              0,
              "#0d0887"
             ],
             [
              0.1111111111111111,
              "#46039f"
             ],
             [
              0.2222222222222222,
              "#7201a8"
             ],
             [
              0.3333333333333333,
              "#9c179e"
             ],
             [
              0.4444444444444444,
              "#bd3786"
             ],
             [
              0.5555555555555556,
              "#d8576b"
             ],
             [
              0.6666666666666666,
              "#ed7953"
             ],
             [
              0.7777777777777778,
              "#fb9f3a"
             ],
             [
              0.8888888888888888,
              "#fdca26"
             ],
             [
              1,
              "#f0f921"
             ]
            ],
            "type": "histogram2d"
           }
          ],
          "histogram2dcontour": [
           {
            "colorbar": {
             "outlinewidth": 0,
             "ticks": ""
            },
            "colorscale": [
             [
              0,
              "#0d0887"
             ],
             [
              0.1111111111111111,
              "#46039f"
             ],
             [
              0.2222222222222222,
              "#7201a8"
             ],
             [
              0.3333333333333333,
              "#9c179e"
             ],
             [
              0.4444444444444444,
              "#bd3786"
             ],
             [
              0.5555555555555556,
              "#d8576b"
             ],
             [
              0.6666666666666666,
              "#ed7953"
             ],
             [
              0.7777777777777778,
              "#fb9f3a"
             ],
             [
              0.8888888888888888,
              "#fdca26"
             ],
             [
              1,
              "#f0f921"
             ]
            ],
            "type": "histogram2dcontour"
           }
          ],
          "mesh3d": [
           {
            "colorbar": {
             "outlinewidth": 0,
             "ticks": ""
            },
            "type": "mesh3d"
           }
          ],
          "parcoords": [
           {
            "line": {
             "colorbar": {
              "outlinewidth": 0,
              "ticks": ""
             }
            },
            "type": "parcoords"
           }
          ],
          "pie": [
           {
            "automargin": true,
            "type": "pie"
           }
          ],
          "scatter": [
           {
            "fillpattern": {
             "fillmode": "overlay",
             "size": 10,
             "solidity": 0.2
            },
            "type": "scatter"
           }
          ],
          "scatter3d": [
           {
            "line": {
             "colorbar": {
              "outlinewidth": 0,
              "ticks": ""
             }
            },
            "marker": {
             "colorbar": {
              "outlinewidth": 0,
              "ticks": ""
             }
            },
            "type": "scatter3d"
           }
          ],
          "scattercarpet": [
           {
            "marker": {
             "colorbar": {
              "outlinewidth": 0,
              "ticks": ""
             }
            },
            "type": "scattercarpet"
           }
          ],
          "scattergeo": [
           {
            "marker": {
             "colorbar": {
              "outlinewidth": 0,
              "ticks": ""
             }
            },
            "type": "scattergeo"
           }
          ],
          "scattergl": [
           {
            "marker": {
             "colorbar": {
              "outlinewidth": 0,
              "ticks": ""
             }
            },
            "type": "scattergl"
           }
          ],
          "scattermapbox": [
           {
            "marker": {
             "colorbar": {
              "outlinewidth": 0,
              "ticks": ""
             }
            },
            "type": "scattermapbox"
           }
          ],
          "scatterpolar": [
           {
            "marker": {
             "colorbar": {
              "outlinewidth": 0,
              "ticks": ""
             }
            },
            "type": "scatterpolar"
           }
          ],
          "scatterpolargl": [
           {
            "marker": {
             "colorbar": {
              "outlinewidth": 0,
              "ticks": ""
             }
            },
            "type": "scatterpolargl"
           }
          ],
          "scatterternary": [
           {
            "marker": {
             "colorbar": {
              "outlinewidth": 0,
              "ticks": ""
             }
            },
            "type": "scatterternary"
           }
          ],
          "surface": [
           {
            "colorbar": {
             "outlinewidth": 0,
             "ticks": ""
            },
            "colorscale": [
             [
              0,
              "#0d0887"
             ],
             [
              0.1111111111111111,
              "#46039f"
             ],
             [
              0.2222222222222222,
              "#7201a8"
             ],
             [
              0.3333333333333333,
              "#9c179e"
             ],
             [
              0.4444444444444444,
              "#bd3786"
             ],
             [
              0.5555555555555556,
              "#d8576b"
             ],
             [
              0.6666666666666666,
              "#ed7953"
             ],
             [
              0.7777777777777778,
              "#fb9f3a"
             ],
             [
              0.8888888888888888,
              "#fdca26"
             ],
             [
              1,
              "#f0f921"
             ]
            ],
            "type": "surface"
           }
          ],
          "table": [
           {
            "cells": {
             "fill": {
              "color": "#EBF0F8"
             },
             "line": {
              "color": "white"
             }
            },
            "header": {
             "fill": {
              "color": "#C8D4E3"
             },
             "line": {
              "color": "white"
             }
            },
            "type": "table"
           }
          ]
         },
         "layout": {
          "annotationdefaults": {
           "arrowcolor": "#2a3f5f",
           "arrowhead": 0,
           "arrowwidth": 1
          },
          "autotypenumbers": "strict",
          "coloraxis": {
           "colorbar": {
            "outlinewidth": 0,
            "ticks": ""
           }
          },
          "colorscale": {
           "diverging": [
            [
             0,
             "#8e0152"
            ],
            [
             0.1,
             "#c51b7d"
            ],
            [
             0.2,
             "#de77ae"
            ],
            [
             0.3,
             "#f1b6da"
            ],
            [
             0.4,
             "#fde0ef"
            ],
            [
             0.5,
             "#f7f7f7"
            ],
            [
             0.6,
             "#e6f5d0"
            ],
            [
             0.7,
             "#b8e186"
            ],
            [
             0.8,
             "#7fbc41"
            ],
            [
             0.9,
             "#4d9221"
            ],
            [
             1,
             "#276419"
            ]
           ],
           "sequential": [
            [
             0,
             "#0d0887"
            ],
            [
             0.1111111111111111,
             "#46039f"
            ],
            [
             0.2222222222222222,
             "#7201a8"
            ],
            [
             0.3333333333333333,
             "#9c179e"
            ],
            [
             0.4444444444444444,
             "#bd3786"
            ],
            [
             0.5555555555555556,
             "#d8576b"
            ],
            [
             0.6666666666666666,
             "#ed7953"
            ],
            [
             0.7777777777777778,
             "#fb9f3a"
            ],
            [
             0.8888888888888888,
             "#fdca26"
            ],
            [
             1,
             "#f0f921"
            ]
           ],
           "sequentialminus": [
            [
             0,
             "#0d0887"
            ],
            [
             0.1111111111111111,
             "#46039f"
            ],
            [
             0.2222222222222222,
             "#7201a8"
            ],
            [
             0.3333333333333333,
             "#9c179e"
            ],
            [
             0.4444444444444444,
             "#bd3786"
            ],
            [
             0.5555555555555556,
             "#d8576b"
            ],
            [
             0.6666666666666666,
             "#ed7953"
            ],
            [
             0.7777777777777778,
             "#fb9f3a"
            ],
            [
             0.8888888888888888,
             "#fdca26"
            ],
            [
             1,
             "#f0f921"
            ]
           ]
          },
          "colorway": [
           "#636efa",
           "#EF553B",
           "#00cc96",
           "#ab63fa",
           "#FFA15A",
           "#19d3f3",
           "#FF6692",
           "#B6E880",
           "#FF97FF",
           "#FECB52"
          ],
          "font": {
           "color": "#2a3f5f"
          },
          "geo": {
           "bgcolor": "white",
           "lakecolor": "white",
           "landcolor": "#E5ECF6",
           "showlakes": true,
           "showland": true,
           "subunitcolor": "white"
          },
          "hoverlabel": {
           "align": "left"
          },
          "hovermode": "closest",
          "mapbox": {
           "style": "light"
          },
          "paper_bgcolor": "white",
          "plot_bgcolor": "#E5ECF6",
          "polar": {
           "angularaxis": {
            "gridcolor": "white",
            "linecolor": "white",
            "ticks": ""
           },
           "bgcolor": "#E5ECF6",
           "radialaxis": {
            "gridcolor": "white",
            "linecolor": "white",
            "ticks": ""
           }
          },
          "scene": {
           "xaxis": {
            "backgroundcolor": "#E5ECF6",
            "gridcolor": "white",
            "gridwidth": 2,
            "linecolor": "white",
            "showbackground": true,
            "ticks": "",
            "zerolinecolor": "white"
           },
           "yaxis": {
            "backgroundcolor": "#E5ECF6",
            "gridcolor": "white",
            "gridwidth": 2,
            "linecolor": "white",
            "showbackground": true,
            "ticks": "",
            "zerolinecolor": "white"
           },
           "zaxis": {
            "backgroundcolor": "#E5ECF6",
            "gridcolor": "white",
            "gridwidth": 2,
            "linecolor": "white",
            "showbackground": true,
            "ticks": "",
            "zerolinecolor": "white"
           }
          },
          "shapedefaults": {
           "line": {
            "color": "#2a3f5f"
           }
          },
          "ternary": {
           "aaxis": {
            "gridcolor": "white",
            "linecolor": "white",
            "ticks": ""
           },
           "baxis": {
            "gridcolor": "white",
            "linecolor": "white",
            "ticks": ""
           },
           "bgcolor": "#E5ECF6",
           "caxis": {
            "gridcolor": "white",
            "linecolor": "white",
            "ticks": ""
           }
          },
          "title": {
           "x": 0.05
          },
          "xaxis": {
           "automargin": true,
           "gridcolor": "white",
           "linecolor": "white",
           "ticks": "",
           "title": {
            "standoff": 15
           },
           "zerolinecolor": "white",
           "zerolinewidth": 2
          },
          "yaxis": {
           "automargin": true,
           "gridcolor": "white",
           "linecolor": "white",
           "ticks": "",
           "title": {
            "standoff": 15
           },
           "zerolinecolor": "white",
           "zerolinewidth": 2
          }
         }
        },
        "title": {
         "text": "Histograms of Scaled Numerical Columns for Ticker MGAM"
        },
        "width": 600,
        "xaxis": {
         "anchor": "y",
         "domain": [
          0,
          1
         ]
        },
        "xaxis2": {
         "anchor": "y2",
         "domain": [
          0,
          1
         ]
        },
        "xaxis3": {
         "anchor": "y3",
         "domain": [
          0,
          1
         ]
        },
        "yaxis": {
         "anchor": "x",
         "domain": [
          0.7777777777777778,
          1
         ]
        },
        "yaxis2": {
         "anchor": "x2",
         "domain": [
          0.3888888888888889,
          0.6111111111111112
         ]
        },
        "yaxis3": {
         "anchor": "x3",
         "domain": [
          0,
          0.22222222222222224
         ]
        }
       }
      }
     },
     "metadata": {},
     "output_type": "display_data"
    },
    {
     "data": {
      "application/vnd.plotly.v1+json": {
       "config": {
        "plotlyServerURL": "https://plot.ly"
       },
       "data": [
        {
         "histnorm": "density",
         "name": "News Sentiment",
         "nbinsx": 15,
         "type": "histogram",
         "x": [
          0.7318480821219071,
          0.7970965172562755,
          0.8907243668405064,
          0.8973742209414503,
          0.6053567434061138,
          0.5257656598470563,
          0.35596986007363046,
          0.3342843666629,
          0.3603615132849682,
          0.23296511792439545,
          0.10996228137248751,
          0.23373212084853462,
          0.39089156446102946,
          0.3962626266414255,
          0.423094730090244,
          0.5104410503140315,
          0.649289949496103,
          0.5748890324854662,
          0.4843517214804796,
          0.5284982183570041,
          0.4812912641161838,
          0.34866951671368723,
          0.2427373613027645,
          0.16702682252910991,
          0.07462399979798505,
          0.04810366568328203,
          0.008809704343052786,
          -0.10288511349897551,
          -0.07448858270169322,
          -0.16019704202287793,
          -0.3666618428185163,
          -0.4250230748991515,
          -0.4214058428301189,
          -0.5907532827753079,
          -0.904284069391466,
          -0.9099823498557362,
          -0.48883349865059184,
          -0.5865288457294191,
          -0.8852720609735447,
          -0.9906673823946174,
          -1.082060102428309,
          -0.7471663447490242,
          -0.7600488632503821,
          -0.7757552047622441,
          -0.8710424212760546,
          -1.1010725191885147,
          -1.133922839281406,
          -0.973778889969508,
          -1.0424151028376174,
          -1.0621398046558568,
          -1.0307163686186442,
          -0.5967771481543147,
          -0.46295848145928614,
          -0.4093052998033271,
          -0.2800678251966307,
          -0.20790979623993625,
          0.150384764672617,
          0.19182830785481036,
          0.19718283217268945,
          0.10799128122288729,
          0.10303917822625352,
          0.16473459311580632,
          0.2791076599439614,
          0.32872682817264226,
          0.28864381342491796,
          0.28230259803390934,
          0.3136419836175893,
          0.12487133457411974,
          0.07121896960272943,
          0.13218828385362733,
          0.36730414880380446,
          0.3816236238038557,
          0.42075492880081145,
          0.41288821469244885,
          0.4499422824888211,
          0.2520225884499765,
          0.22665650185908895,
          0.22337404240619133,
          0.1520171810114282,
          -0.08763162358047831,
          -0.1310614116908883,
          -0.1049466975786582,
          -0.12211490446856015,
          -0.018877672020375918,
          -0.014379373415770549,
          -0.20726420708834936,
          -0.14945900108492957,
          -0.12939251677467353,
          -0.13151576053929587,
          -0.05099474548463605,
          0.35497963003403643,
          0.4495176065130777,
          0.4987778418737985,
          0.5066279500625968,
          0.8828973640192986,
          0.8779112324989674,
          0.8103025789609481,
          0.8657226236528467,
          0.8119812060349404,
          0.6809079946603409,
          0.5433558204308059,
          0.6779634044192346,
          0.521329973726054,
          0.32527361358783113,
          0.3207529242146329,
          0.1008871463305832,
          -0.06338970329845772,
          -0.436191780833014,
          -0.3429097971636434,
          -0.27183727811289565,
          -0.32967596818363365,
          -0.32315065847942215,
          -0.24922273794817904,
          -0.344129923909337,
          -0.12131591473214542,
          -0.016568360288176247,
          -0.014427966147610423,
          0.43130588091547156,
          0.5124357343161251,
          0.6155735354180656,
          0.7838619736772681,
          0.8906103712861201,
          1.275195565271288,
          1.4882104740577824,
          1.5096459599049081,
          1.522827827329232,
          1.2937810814410136,
          1.1347778405540647,
          1.1126524434032363,
          1.0271263769690697,
          1.0503309036776516,
          1.101164915723722,
          1.2140016159747673,
          1.086604986668094,
          1.0395801530861022,
          1.228598547859742,
          1.4379545130508904,
          1.5562204089615033,
          1.4767647759410232,
          1.5025542624380155,
          1.4101520011775315,
          1.1000605370013852,
          0.8144653903504209,
          0.5643742186629727,
          0.2842741426398887,
          0.09156884345833734,
          -0.6117709323799534,
          -0.9161556685108219,
          -1.0882614605869212,
          -1.1476477679154167,
          -1.1571980772622312,
          -1.499138189400582,
          -1.7683759523171747,
          -1.8489835359361206,
          -1.9218268993600804,
          -1.7035083303915037,
          -1.3501046891899764,
          -1.1975036385549365,
          -1.2086565552538036,
          -1.1647532262076206,
          -0.7759159555081906,
          -0.785485865284655,
          -0.7368721718741846,
          -0.6628469297651669,
          -0.603681535612515,
          -0.41032669997062793,
          -0.30473836876314364,
          -0.3076618272910338,
          -0.24311802079686728,
          -0.3780912072439009,
          -0.3470501156989522,
          -0.45692712980506595,
          -0.5989167256103117,
          -0.6779942506897283,
          -0.7938163201139656,
          -1.0233079506674383,
          -1.1425756122871784,
          -1.2272968360788545,
          -1.2328630858711787,
          -1.4162969734861393,
          -1.5028361371278247,
          -1.6484156060690502,
          -1.8529117887117472,
          -1.9317833731657472,
          -2.111642360195155,
          -2.0683248662129463,
          -1.9515416951653997,
          -1.942578037567128,
          -1.9056856733153658,
          -1.8306280057973694,
          -2.0404176655864323,
          -2.0200672472744454,
          -2.1376287187159986,
          -2.2205861760673913,
          -2.3307473964034258,
          -2.5439763871396313,
          -2.685425337760373,
          -2.4743366050506386,
          -2.512543831458068,
          -2.2027903470864145,
          -2.2413471144892636,
          -2.2543421993470125,
          -2.2266533257285412,
          -2.289484136339781,
          -1.6068703176010017,
          -1.5538813727276157,
          -1.3280955845188838,
          -1.2474389998258135,
          -1.2065740096035231,
          -0.8384486762518414,
          -1.0685216501041601,
          -1.0218938613366695,
          -1.0086404319270101,
          -0.6499751642772974,
          -0.4675448458832203,
          -0.4247880058574499,
          -0.2893352894544727,
          -0.062063407558828255,
          0.5056458188116427,
          0.642061202150019,
          0.5457984559188519,
          0.6858711569271764,
          0.7359950702478606,
          0.7145650629930501,
          0.8507893081138183,
          0.8219573823558278,
          0.7740078916994068,
          1.0683617336432825,
          1.1209709201922056,
          1.1031146310317494,
          1.0814231400937173,
          1.154654615844708,
          1.1694410430076312,
          1.053217117986355,
          0.8348027417093081,
          0.8284831004023238,
          0.8730762216523764,
          0.8962295694613175,
          0.7535089388814806,
          0.5115074361896603,
          0.4438436224147275,
          0.4452596173428233,
          0.8000334510795498,
          0.6838231842569726,
          0.6296102333861915,
          0.6622420903569457,
          0.6685070478263485,
          0.5544268645016569,
          0.4877457264340573,
          0.4339143033709713,
          0.44382225250184554,
          0.47917577885496443,
          0.8234329612289177,
          0.8550408658930939,
          1.0313437190677675,
          1.0339659400896266,
          1.0497208743333284,
          1.14284116296522,
          1.184490425587426,
          1.1935695036845138,
          1.2890630564053287,
          1.4233922275199964,
          1.10232360396988,
          0.9687282409544847,
          0.8561517951062425,
          1.0140706192535685,
          1.2576264087937907,
          1.2709393094289594,
          1.2584598332694044,
          1.276616319939136,
          1.3932004879265345,
          1.03023602256437,
          0.9661828052963488,
          0.9665115038210038,
          0.9968379623397835,
          1.035181813269858,
          0.8100926910267826,
          0.7882239880444654,
          0.6931960348527054,
          0.5333026375607911,
          0.3306586955199905,
          -0.028467318340584767,
          -0.06026724596398522,
          0.21070447440613171,
          0.3557259436157676,
          0.3320627804647922,
          0.51448942377831,
          0.256746223938506,
          0.46520502816576403,
          0.5681628864343927,
          0.5663384811648808
         ],
         "xaxis": "x",
         "yaxis": "y"
        },
        {
         "histnorm": "density",
         "name": "close",
         "nbinsx": 15,
         "type": "histogram",
         "x": [
          0.8322548923067431,
          3.676415412867541,
          3.215413514381891,
          1.920024193509106,
          2.278411189380002,
          1.8180767868551813,
          1.3584757901761253,
          1.4350447691307087,
          1.1482176170638754,
          0.9301008377663837,
          1.8319550090270784,
          1.455648061014737,
          1.5046231990891394,
          1.481720455086958,
          1.402052919876685,
          1.1416033408338115,
          1.1447564240759822,
          1.0750473618424132,
          1.0845672769606922,
          0.9359556788264513,
          0.7967101242994706,
          0.6467714334634044,
          0.6563717963411873,
          0.6054717402946064,
          0.6556465052238034,
          0.6694030682111151,
          0.7424298300232786,
          0.7061005844676084,
          0.6623985597693777,
          0.6236694380012283,
          0.5475098877384755,
          0.3161274747165035,
          0.22045021013293584,
          0.2406520195766895,
          0.20935814321026602,
          0.13044444085257317,
          0.09245480304814736,
          0.11794329222267018,
          0.029119846773181877,
          0.06183619646915586,
          0.07134910430383137,
          0.001961791943899028,
          -0.03970661596487734,
          -0.038552862412607934,
          -0.07815537086601645,
          -0.08799498462632731,
          -0.11322523953248284,
          -0.04991753590482256,
          -0.10177390854349497,
          -0.15449437428976134,
          -0.16007727411223133,
          -0.20603520827234192,
          -0.22347598604381422,
          -0.22850527278085192,
          -0.21149741622158283,
          -0.1826270795052532,
          -0.07123610401020813,
          -0.10432810245126024,
          -0.06898934140339133,
          -0.04538087214626971,
          0.05909816395585446,
          0.06972997017799609,
          0.09714688858384082,
          0.04127294114975621,
          0.06481535679490154,
          0.037346556812709146,
          0.014886186225666866,
          0.07915283720839968,
          0.09587855630665373,
          0.19234247625173792,
          0.3623472321198108,
          0.4092334973947134,
          0.3318631399598533,
          0.287249739433738,
          0.3264880497944184,
          0.3987455369912815,
          0.3673719827126894,
          0.2829584541373912,
          0.35730220254862854,
          0.36271111303675263,
          0.42347504362674243,
          0.47654022092634635,
          0.5520950036685777,
          0.44531208118251986,
          0.4371231920991032,
          0.47143795220127627,
          0.48550256238731876,
          0.37073500859674946,
          0.29893300780247406,
          0.2921363394869209,
          0.3459859800837724,
          0.27022483632993016,
          0.24510551376985648,
          0.23170395812138062,
          0.2085825501256297,
          0.2038630973718155,
          0.29510736500471374,
          0.2805109120211328,
          0.32399288734659937,
          0.3135856035616554,
          0.3355730554946087,
          0.3728384348017509,
          0.38565942276063536,
          0.3841492749386942,
          0.375409825093645,
          0.441327943095523,
          0.3798672082651036,
          0.3905537572678906,
          0.34435534233769327,
          0.3263786102076,
          0.3496394081023548,
          0.3911942055008104,
          0.362444084044902,
          0.412637137374695,
          0.4635903040948853,
          0.3921841666413294,
          -0.1377889736978721,
          0.0028188623732473476,
          0.02172278263679291,
          0.07509661345082469,
          0.17819550763055214,
          0.18529746009108772,
          0.15786631526655415,
          0.1967367538987351,
          0.23639894098105987,
          0.2793723298452297,
          0.24750191489765036,
          0.25671948410989565,
          0.25314501364207814,
          0.21852485435212976,
          0.2916871437634732,
          0.04395824298196788,
          0.24188103042717773,
          0.12914975483147975,
          0.07099677438402856,
          0.05443225872315779,
          0.13718933738181852,
          0.1504731628510201,
          0.18245382787135903,
          0.15891298628268596,
          0.17907701461043138,
          0.27833863548163545,
          0.22409339637833858,
          0.36823510672675164,
          0.4131795924965046,
          0.3139315779552248,
          0.19636985304665577,
          0.15439270714750966,
          0.2041009781440428,
          0.2449470890752379,
          0.2612464920375436,
          0.3606661730649741,
          0.39521648004472104,
          0.4565088830477012,
          0.542351030680758,
          0.7283902001330006,
          0.9409178900571233,
          0.9203467677219707,
          1.136818270448809,
          1.0358358057208727,
          1.117919964655196,
          1.2665954472972554,
          1.2823398306581155,
          1.0661555261867912,
          0.7847787559132434,
          0.7700193352727771,
          0.7773325617162514,
          0.720821266471223,
          0.8094255554293619,
          0.6493669284499183,
          0.9951134924876344,
          0.8511961487953418,
          1.0006352827800626,
          0.9623280978827509,
          1.0983749854764087,
          1.1135766359487986,
          0.9575197233226611,
          0.8924966328682254,
          0.907283028958194,
          0.8562260619379546,
          0.901222735648142,
          0.9576861622335442,
          0.8984809593657244,
          0.8199499962732666,
          0.8609505927827782,
          0.8563776475308245,
          0.9024953851186288,
          0.8712955901473778,
          0.937592744675989,
          1.0182469595258465,
          1.1365735513727289,
          1.0293851938273442,
          1.1165636269188128,
          0.8413565350350309,
          1.2258624636830735,
          1.210390284447473,
          1.190352350276347,
          1.2428674409766034,
          1.2514849875855572,
          1.055104573238926,
          1.0032860407973878,
          0.9445931277944212,
          0.7996459095510855,
          1.059432322614094,
          0.4217359769251415,
          0.5445281865989875,
          0.48572922884354347,
          0.4224851099234102,
          0.43873701217446165,
          0.45207681564273355,
          0.27659164523366053,
          0.2856309418253766,
          0.26702859556979114,
          0.5309271331869178,
          0.5515220297129338,
          0.5947512151672407,
          0.5382991493428054,
          0.468327729460948,
          0.5289770728973467,
          0.47094686440017186,
          0.5097803702459771,
          0.5258668501570185,
          0.6240650644948335,
          0.8575031192695258,
          0.9571939428937278,
          0.942212576078217,
          0.8683303551097931,
          1.042591053449886,
          1.1611055462538817,
          1.332845242362557,
          1.1897524655600524,
          1.3788454366920102,
          1.3521275778995696,
          1.2928530494859038,
          1.4095136327532307,
          1.4750412019519292,
          1.4100220389869087,
          1.371577540164508,
          1.630985539299975,
          1.5720365019071219,
          1.6880904405874932,
          1.5913658555748302,
          1.7757949493573797,
          1.877665575861039,
          1.9272721232879062,
          2.2370382201740227,
          2.2437320968449606,
          2.1548002718341697,
          2.1677253726161787,
          3.101869641861304,
          3.389057269498722,
          3.635663941250361,
          4.215270012474571,
          5.160338647250315,
          5.032911018069737,
          4.864289062583786,
          4.693565322196722,
          4.067201020325083,
          3.992886752319922,
          4.241947838514851,
          4.0541589143135095,
          4.742585137125807,
          5.532873555599182,
          5.745733111793597,
          5.936819782698639,
          6.23900296728874,
          7.281907982875209,
          5.1998293205094885,
          4.789261565780233,
          4.661802393537067,
          4.654138675106092,
          4.082406553722244,
          4.692462103826636,
          4.779377348433953,
          4.178474778993007,
          4.412984120433767,
          4.664384114721291,
          4.656601521167437,
          4.127516218099428,
          3.751236825570661,
          4.232044012164207,
          4.429629780962154,
          4.927256149004105,
          5.944511846825337,
          6.386798856783545,
          6.633344085192849,
          8.397646281780979,
          7.5978913171151365,
          4.87240312976559,
          4.188209027218056,
          3.803234909878576
         ],
         "xaxis": "x2",
         "yaxis": "y2"
        },
        {
         "histnorm": "density",
         "name": "volume",
         "nbinsx": 15,
         "type": "histogram",
         "x": [
          1.8170840860129451,
          5.98041705728973,
          3.0290796866842093,
          1.1561167478191128,
          1.8327930747805388,
          0.20259446553050517,
          0.21159664254226002,
          0.09688313643975711,
          -0.05136195555901757,
          0.04932482870142778,
          3.1032485109211536,
          0.3522227822556421,
          0.2970716641371049,
          -0.043169471070011366,
          0.04725096310160411,
          -0.08688050288382324,
          -0.14011849279252395,
          -0.1395965378613018,
          -0.03555776079889293,
          0.024075457617363846,
          -0.1251656762958479,
          -0.13724129351175332,
          0.2756973005931936,
          -0.1438647337861923,
          -0.11626188469752478,
          -0.15605410361655017,
          -0.1892638614638586,
          -0.18791896642280098,
          -0.1714080570502162,
          -0.16169545610161692,
          -0.14528134243201343,
          -0.04761306504793183,
          -0.0973466265859229,
          -0.15150346913496793,
          -0.141618826188734,
          -0.13400658601413207,
          -0.15361672422706318,
          -0.023137176415245788,
          -0.1270496598140933,
          -0.14072311266716803,
          -0.13310274730581953,
          -0.15094477422889158,
          -0.1679341864470536,
          -0.18326941662430354,
          -0.19512441735658917,
          -0.1873719293933611,
          -0.18120455938369892,
          -0.13904384852803817,
          -0.19120807734472559,
          -0.20891091628613842,
          -0.20759233978476002,
          -0.19452650959273574,
          -0.19975294765024215,
          -0.2003422003238655,
          -0.20776632476183404,
          -0.19093482378174736,
          5.6154354349771785,
          0.0027973598729503363,
          -0.12832390105735436,
          -0.1331937140704826,
          -0.15382497629606856,
          -0.18873219163543944,
          -0.15535940014971544,
          -0.1803636025554253,
          -0.20670987385028092,
          -0.20265028326338477,
          -0.20562763430253203,
          -0.2052395683181344,
          -0.20576205315284,
          -0.20545612220838086,
          0.14421676510109335,
          0.09685293194119908,
          -0.10765271943601334,
          -0.19107330522542862,
          -0.17981568235351295,
          -0.13999891123975325,
          -0.1885008004476557,
          -0.19174769572539685,
          -0.19766071206299138,
          -0.1939271887529264,
          -0.205083423425004,
          -0.20321533701126282,
          -0.2053672750576517,
          -0.19597014331621407,
          -0.20293537133749392,
          -0.20352321093516135,
          -0.2069463874384049,
          -0.20425748052876214,
          -0.20589647200314795,
          -0.21142848773612452,
          -0.19647284508753662,
          -0.2065397748320857,
          -0.2116385061500748,
          -0.2117149888861896,
          -0.21092560933030746,
          -0.20827732835439772,
          -0.12245663305383311,
          -0.17436438858451897,
          -0.19798925222274538,
          -0.19692608920040158,
          -0.2067351325829932,
          -0.2057390906685561,
          -0.1840992454794242,
          -0.18731258020321198,
          -0.18058280596308915,
          -0.20247223569293743,
          -0.20661290151280512,
          -0.19686903625868085,
          -0.19269834257474963,
          -0.197318747681656,
          -0.1960349681756924,
          -0.190489704855629,
          -0.19380248479981543,
          -0.19163482628341683,
          -0.18066723725145606,
          -0.18898053973469436,
          -0.1945560075533158,
          -0.17948272633139664,
          -0.19803076132895087,
          -0.2047294478980432,
          -0.2086189394667441,
          -0.17550014838409875,
          -0.20463989420933607,
          -0.19740423877698984,
          -0.1881388763684428,
          -0.20618703574658634,
          -0.21110948583907302,
          -0.20274001358658642,
          -0.21062921664855086,
          -0.20591819804597042,
          -0.20296327958762356,
          -0.1784739667333562,
          -0.18208843839413397,
          -0.1833688618447022,
          -0.20066385173833437,
          -0.19230533082450624,
          -0.19697607676234266,
          -0.19880671666325164,
          -0.19556423724787278,
          -0.1950514673103642,
          -0.17368823173960585,
          -0.1924625355246036,
          -0.20062534541853524,
          -0.16129502570260487,
          -0.18147551669824874,
          0.05856758189467992,
          -0.20295020863503122,
          -0.1991455016236862,
          -0.19974906169136333,
          -0.1918948322593082,
          -0.1887249496211653,
          -0.19399430986083313,
          -0.20595493802082462,
          -0.20388919760774754,
          -0.1804688767141422,
          -0.1963825848608515,
          -0.20749466090930627,
          -0.20471372742803345,
          -0.20507953746612517,
          -0.2106389315457479,
          -0.21189409626360386,
          -0.2009116699341058,
          -0.20814909171139695,
          -0.2135186037094414,
          -0.202892625789827,
          -0.2103916432534599,
          -0.20539059081092456,
          -0.20340804524475295,
          -0.2114120607281368,
          -0.2116754227594235,
          -0.21090176367355112,
          -0.21418345594670707,
          -0.20868305778824447,
          -0.20725797068668778,
          -0.12391757695777159,
          -0.19894290185850452,
          -0.19141050047541275,
          -0.2166344361922699,
          -0.2039192254718111,
          -0.1947845725891877,
          -0.20963335136860828,
          -0.2045566993624306,
          -0.20853168202646535,
          -0.20107558674499384,
          -0.21299170301237352,
          -0.2074441434438817,
          -0.21075109444974993,
          -0.21537750512946902,
          -0.2075001365786355,
          -0.21717476111091913,
          -0.21181408083759926,
          -0.1961216957124877,
          5.421159570348436,
          0.18892648834675968,
          0.7325366319590362,
          0.04578118747294106,
          -0.12726338755242791,
          -0.139417960387371,
          -0.08406459577264114,
          -0.14629840385129497,
          -0.16314085617004015,
          -0.10500178894268622,
          -0.13736847034778712,
          -0.16569181153948512,
          -0.07110739579472909,
          -0.1490726252217771,
          0.2566144163463194,
          -0.16670304402044844,
          -0.10360672970519305,
          -0.134574112644933,
          -0.18343986891148775,
          -0.19916846410797007,
          -0.19515974425548746,
          -0.19677736295603981,
          -0.173931634073015,
          -0.1885993624955819,
          -0.18938838878247505,
          -0.14322567018512236,
          -0.18427587997391562,
          -0.17026152254647245,
          -0.16783915708901723,
          -0.16518345746433882,
          -0.17664562308087556,
          -0.17599384179620225,
          -0.16937552392210353,
          -0.08352356431601395,
          -0.10276577287691943,
          -0.13279328367147056,
          -0.18280274828985724,
          -0.1577360172730974,
          -0.1913741137695475,
          -0.1716406846794614,
          -0.11987670962729154,
          -0.16709976509507618,
          -0.17901552809346685,
          -0.17733979664422683,
          -0.19279937750559872,
          -0.17164209775541733,
          -0.14447730221308852,
          -0.18170584807906556,
          -0.15731757015564726,
          -0.17234121708461433,
          -0.16846461983401131,
          -0.1554473641279722,
          -0.07571914581140538,
          -0.16392829274648285,
          -0.17100992289963257,
          -0.14556660714061706,
          -0.0824033483519494,
          0.21814624959800158,
          -0.0692891203084345,
          -0.09542449001686736,
          -0.055153591617770226,
          -0.06295288772203854,
          -0.09309556420699808,
          -0.14912508566664107,
          -0.1401769588102006,
          -0.104800778887955,
          -0.1606902291934663,
          -0.13645844943216737,
          -0.15914414746318295,
          -0.11781185238668693,
          -0.06543089304525856,
          0.035751527606729686,
          -0.06844021492790876,
          0.08367670519011768,
          0.2954916685838792,
          0.3748805720365281,
          0.4088247761119318,
          0.13273481642117357,
          -0.09855357008678273,
          0.12709187422565643,
          0.00848905318894712,
          0.00019941972797064185,
          -0.07395191769401879,
          -0.09243919042546798,
          -0.10004153906837839,
          -0.12675468020829264,
          -0.10558309306405746,
          0.6277524573298735,
          0.2215664233148388,
          -0.07862690285972301,
          -0.09452506717091708,
          -0.17415772622596404,
          -0.12017610509545448,
          -0.14052952126120544,
          -0.1296619073531268,
          0.00313172897102258,
          -0.14503635038815385,
          -0.16242266031543806,
          -0.13641411417405003
         ],
         "xaxis": "x3",
         "yaxis": "y3"
        }
       ],
       "layout": {
        "annotations": [
         {
          "font": {
           "size": 16
          },
          "showarrow": false,
          "text": "News Sentiment",
          "x": 0.5,
          "xanchor": "center",
          "xref": "paper",
          "y": 1,
          "yanchor": "bottom",
          "yref": "paper"
         },
         {
          "font": {
           "size": 16
          },
          "showarrow": false,
          "text": "close",
          "x": 0.5,
          "xanchor": "center",
          "xref": "paper",
          "y": 0.6111111111111112,
          "yanchor": "bottom",
          "yref": "paper"
         },
         {
          "font": {
           "size": 16
          },
          "showarrow": false,
          "text": "volume",
          "x": 0.5,
          "xanchor": "center",
          "xref": "paper",
          "y": 0.22222222222222224,
          "yanchor": "bottom",
          "yref": "paper"
         }
        ],
        "height": 600,
        "template": {
         "data": {
          "bar": [
           {
            "error_x": {
             "color": "#2a3f5f"
            },
            "error_y": {
             "color": "#2a3f5f"
            },
            "marker": {
             "line": {
              "color": "#E5ECF6",
              "width": 0.5
             },
             "pattern": {
              "fillmode": "overlay",
              "size": 10,
              "solidity": 0.2
             }
            },
            "type": "bar"
           }
          ],
          "barpolar": [
           {
            "marker": {
             "line": {
              "color": "#E5ECF6",
              "width": 0.5
             },
             "pattern": {
              "fillmode": "overlay",
              "size": 10,
              "solidity": 0.2
             }
            },
            "type": "barpolar"
           }
          ],
          "carpet": [
           {
            "aaxis": {
             "endlinecolor": "#2a3f5f",
             "gridcolor": "white",
             "linecolor": "white",
             "minorgridcolor": "white",
             "startlinecolor": "#2a3f5f"
            },
            "baxis": {
             "endlinecolor": "#2a3f5f",
             "gridcolor": "white",
             "linecolor": "white",
             "minorgridcolor": "white",
             "startlinecolor": "#2a3f5f"
            },
            "type": "carpet"
           }
          ],
          "choropleth": [
           {
            "colorbar": {
             "outlinewidth": 0,
             "ticks": ""
            },
            "type": "choropleth"
           }
          ],
          "contour": [
           {
            "colorbar": {
             "outlinewidth": 0,
             "ticks": ""
            },
            "colorscale": [
             [
              0,
              "#0d0887"
             ],
             [
              0.1111111111111111,
              "#46039f"
             ],
             [
              0.2222222222222222,
              "#7201a8"
             ],
             [
              0.3333333333333333,
              "#9c179e"
             ],
             [
              0.4444444444444444,
              "#bd3786"
             ],
             [
              0.5555555555555556,
              "#d8576b"
             ],
             [
              0.6666666666666666,
              "#ed7953"
             ],
             [
              0.7777777777777778,
              "#fb9f3a"
             ],
             [
              0.8888888888888888,
              "#fdca26"
             ],
             [
              1,
              "#f0f921"
             ]
            ],
            "type": "contour"
           }
          ],
          "contourcarpet": [
           {
            "colorbar": {
             "outlinewidth": 0,
             "ticks": ""
            },
            "type": "contourcarpet"
           }
          ],
          "heatmap": [
           {
            "colorbar": {
             "outlinewidth": 0,
             "ticks": ""
            },
            "colorscale": [
             [
              0,
              "#0d0887"
             ],
             [
              0.1111111111111111,
              "#46039f"
             ],
             [
              0.2222222222222222,
              "#7201a8"
             ],
             [
              0.3333333333333333,
              "#9c179e"
             ],
             [
              0.4444444444444444,
              "#bd3786"
             ],
             [
              0.5555555555555556,
              "#d8576b"
             ],
             [
              0.6666666666666666,
              "#ed7953"
             ],
             [
              0.7777777777777778,
              "#fb9f3a"
             ],
             [
              0.8888888888888888,
              "#fdca26"
             ],
             [
              1,
              "#f0f921"
             ]
            ],
            "type": "heatmap"
           }
          ],
          "heatmapgl": [
           {
            "colorbar": {
             "outlinewidth": 0,
             "ticks": ""
            },
            "colorscale": [
             [
              0,
              "#0d0887"
             ],
             [
              0.1111111111111111,
              "#46039f"
             ],
             [
              0.2222222222222222,
              "#7201a8"
             ],
             [
              0.3333333333333333,
              "#9c179e"
             ],
             [
              0.4444444444444444,
              "#bd3786"
             ],
             [
              0.5555555555555556,
              "#d8576b"
             ],
             [
              0.6666666666666666,
              "#ed7953"
             ],
             [
              0.7777777777777778,
              "#fb9f3a"
             ],
             [
              0.8888888888888888,
              "#fdca26"
             ],
             [
              1,
              "#f0f921"
             ]
            ],
            "type": "heatmapgl"
           }
          ],
          "histogram": [
           {
            "marker": {
             "pattern": {
              "fillmode": "overlay",
              "size": 10,
              "solidity": 0.2
             }
            },
            "type": "histogram"
           }
          ],
          "histogram2d": [
           {
            "colorbar": {
             "outlinewidth": 0,
             "ticks": ""
            },
            "colorscale": [
             [
              0,
              "#0d0887"
             ],
             [
              0.1111111111111111,
              "#46039f"
             ],
             [
              0.2222222222222222,
              "#7201a8"
             ],
             [
              0.3333333333333333,
              "#9c179e"
             ],
             [
              0.4444444444444444,
              "#bd3786"
             ],
             [
              0.5555555555555556,
              "#d8576b"
             ],
             [
              0.6666666666666666,
              "#ed7953"
             ],
             [
              0.7777777777777778,
              "#fb9f3a"
             ],
             [
              0.8888888888888888,
              "#fdca26"
             ],
             [
              1,
              "#f0f921"
             ]
            ],
            "type": "histogram2d"
           }
          ],
          "histogram2dcontour": [
           {
            "colorbar": {
             "outlinewidth": 0,
             "ticks": ""
            },
            "colorscale": [
             [
              0,
              "#0d0887"
             ],
             [
              0.1111111111111111,
              "#46039f"
             ],
             [
              0.2222222222222222,
              "#7201a8"
             ],
             [
              0.3333333333333333,
              "#9c179e"
             ],
             [
              0.4444444444444444,
              "#bd3786"
             ],
             [
              0.5555555555555556,
              "#d8576b"
             ],
             [
              0.6666666666666666,
              "#ed7953"
             ],
             [
              0.7777777777777778,
              "#fb9f3a"
             ],
             [
              0.8888888888888888,
              "#fdca26"
             ],
             [
              1,
              "#f0f921"
             ]
            ],
            "type": "histogram2dcontour"
           }
          ],
          "mesh3d": [
           {
            "colorbar": {
             "outlinewidth": 0,
             "ticks": ""
            },
            "type": "mesh3d"
           }
          ],
          "parcoords": [
           {
            "line": {
             "colorbar": {
              "outlinewidth": 0,
              "ticks": ""
             }
            },
            "type": "parcoords"
           }
          ],
          "pie": [
           {
            "automargin": true,
            "type": "pie"
           }
          ],
          "scatter": [
           {
            "fillpattern": {
             "fillmode": "overlay",
             "size": 10,
             "solidity": 0.2
            },
            "type": "scatter"
           }
          ],
          "scatter3d": [
           {
            "line": {
             "colorbar": {
              "outlinewidth": 0,
              "ticks": ""
             }
            },
            "marker": {
             "colorbar": {
              "outlinewidth": 0,
              "ticks": ""
             }
            },
            "type": "scatter3d"
           }
          ],
          "scattercarpet": [
           {
            "marker": {
             "colorbar": {
              "outlinewidth": 0,
              "ticks": ""
             }
            },
            "type": "scattercarpet"
           }
          ],
          "scattergeo": [
           {
            "marker": {
             "colorbar": {
              "outlinewidth": 0,
              "ticks": ""
             }
            },
            "type": "scattergeo"
           }
          ],
          "scattergl": [
           {
            "marker": {
             "colorbar": {
              "outlinewidth": 0,
              "ticks": ""
             }
            },
            "type": "scattergl"
           }
          ],
          "scattermapbox": [
           {
            "marker": {
             "colorbar": {
              "outlinewidth": 0,
              "ticks": ""
             }
            },
            "type": "scattermapbox"
           }
          ],
          "scatterpolar": [
           {
            "marker": {
             "colorbar": {
              "outlinewidth": 0,
              "ticks": ""
             }
            },
            "type": "scatterpolar"
           }
          ],
          "scatterpolargl": [
           {
            "marker": {
             "colorbar": {
              "outlinewidth": 0,
              "ticks": ""
             }
            },
            "type": "scatterpolargl"
           }
          ],
          "scatterternary": [
           {
            "marker": {
             "colorbar": {
              "outlinewidth": 0,
              "ticks": ""
             }
            },
            "type": "scatterternary"
           }
          ],
          "surface": [
           {
            "colorbar": {
             "outlinewidth": 0,
             "ticks": ""
            },
            "colorscale": [
             [
              0,
              "#0d0887"
             ],
             [
              0.1111111111111111,
              "#46039f"
             ],
             [
              0.2222222222222222,
              "#7201a8"
             ],
             [
              0.3333333333333333,
              "#9c179e"
             ],
             [
              0.4444444444444444,
              "#bd3786"
             ],
             [
              0.5555555555555556,
              "#d8576b"
             ],
             [
              0.6666666666666666,
              "#ed7953"
             ],
             [
              0.7777777777777778,
              "#fb9f3a"
             ],
             [
              0.8888888888888888,
              "#fdca26"
             ],
             [
              1,
              "#f0f921"
             ]
            ],
            "type": "surface"
           }
          ],
          "table": [
           {
            "cells": {
             "fill": {
              "color": "#EBF0F8"
             },
             "line": {
              "color": "white"
             }
            },
            "header": {
             "fill": {
              "color": "#C8D4E3"
             },
             "line": {
              "color": "white"
             }
            },
            "type": "table"
           }
          ]
         },
         "layout": {
          "annotationdefaults": {
           "arrowcolor": "#2a3f5f",
           "arrowhead": 0,
           "arrowwidth": 1
          },
          "autotypenumbers": "strict",
          "coloraxis": {
           "colorbar": {
            "outlinewidth": 0,
            "ticks": ""
           }
          },
          "colorscale": {
           "diverging": [
            [
             0,
             "#8e0152"
            ],
            [
             0.1,
             "#c51b7d"
            ],
            [
             0.2,
             "#de77ae"
            ],
            [
             0.3,
             "#f1b6da"
            ],
            [
             0.4,
             "#fde0ef"
            ],
            [
             0.5,
             "#f7f7f7"
            ],
            [
             0.6,
             "#e6f5d0"
            ],
            [
             0.7,
             "#b8e186"
            ],
            [
             0.8,
             "#7fbc41"
            ],
            [
             0.9,
             "#4d9221"
            ],
            [
             1,
             "#276419"
            ]
           ],
           "sequential": [
            [
             0,
             "#0d0887"
            ],
            [
             0.1111111111111111,
             "#46039f"
            ],
            [
             0.2222222222222222,
             "#7201a8"
            ],
            [
             0.3333333333333333,
             "#9c179e"
            ],
            [
             0.4444444444444444,
             "#bd3786"
            ],
            [
             0.5555555555555556,
             "#d8576b"
            ],
            [
             0.6666666666666666,
             "#ed7953"
            ],
            [
             0.7777777777777778,
             "#fb9f3a"
            ],
            [
             0.8888888888888888,
             "#fdca26"
            ],
            [
             1,
             "#f0f921"
            ]
           ],
           "sequentialminus": [
            [
             0,
             "#0d0887"
            ],
            [
             0.1111111111111111,
             "#46039f"
            ],
            [
             0.2222222222222222,
             "#7201a8"
            ],
            [
             0.3333333333333333,
             "#9c179e"
            ],
            [
             0.4444444444444444,
             "#bd3786"
            ],
            [
             0.5555555555555556,
             "#d8576b"
            ],
            [
             0.6666666666666666,
             "#ed7953"
            ],
            [
             0.7777777777777778,
             "#fb9f3a"
            ],
            [
             0.8888888888888888,
             "#fdca26"
            ],
            [
             1,
             "#f0f921"
            ]
           ]
          },
          "colorway": [
           "#636efa",
           "#EF553B",
           "#00cc96",
           "#ab63fa",
           "#FFA15A",
           "#19d3f3",
           "#FF6692",
           "#B6E880",
           "#FF97FF",
           "#FECB52"
          ],
          "font": {
           "color": "#2a3f5f"
          },
          "geo": {
           "bgcolor": "white",
           "lakecolor": "white",
           "landcolor": "#E5ECF6",
           "showlakes": true,
           "showland": true,
           "subunitcolor": "white"
          },
          "hoverlabel": {
           "align": "left"
          },
          "hovermode": "closest",
          "mapbox": {
           "style": "light"
          },
          "paper_bgcolor": "white",
          "plot_bgcolor": "#E5ECF6",
          "polar": {
           "angularaxis": {
            "gridcolor": "white",
            "linecolor": "white",
            "ticks": ""
           },
           "bgcolor": "#E5ECF6",
           "radialaxis": {
            "gridcolor": "white",
            "linecolor": "white",
            "ticks": ""
           }
          },
          "scene": {
           "xaxis": {
            "backgroundcolor": "#E5ECF6",
            "gridcolor": "white",
            "gridwidth": 2,
            "linecolor": "white",
            "showbackground": true,
            "ticks": "",
            "zerolinecolor": "white"
           },
           "yaxis": {
            "backgroundcolor": "#E5ECF6",
            "gridcolor": "white",
            "gridwidth": 2,
            "linecolor": "white",
            "showbackground": true,
            "ticks": "",
            "zerolinecolor": "white"
           },
           "zaxis": {
            "backgroundcolor": "#E5ECF6",
            "gridcolor": "white",
            "gridwidth": 2,
            "linecolor": "white",
            "showbackground": true,
            "ticks": "",
            "zerolinecolor": "white"
           }
          },
          "shapedefaults": {
           "line": {
            "color": "#2a3f5f"
           }
          },
          "ternary": {
           "aaxis": {
            "gridcolor": "white",
            "linecolor": "white",
            "ticks": ""
           },
           "baxis": {
            "gridcolor": "white",
            "linecolor": "white",
            "ticks": ""
           },
           "bgcolor": "#E5ECF6",
           "caxis": {
            "gridcolor": "white",
            "linecolor": "white",
            "ticks": ""
           }
          },
          "title": {
           "x": 0.05
          },
          "xaxis": {
           "automargin": true,
           "gridcolor": "white",
           "linecolor": "white",
           "ticks": "",
           "title": {
            "standoff": 15
           },
           "zerolinecolor": "white",
           "zerolinewidth": 2
          },
          "yaxis": {
           "automargin": true,
           "gridcolor": "white",
           "linecolor": "white",
           "ticks": "",
           "title": {
            "standoff": 15
           },
           "zerolinecolor": "white",
           "zerolinewidth": 2
          }
         }
        },
        "title": {
         "text": "Histograms of Scaled Numerical Columns for Ticker GCT"
        },
        "width": 600,
        "xaxis": {
         "anchor": "y",
         "domain": [
          0,
          1
         ]
        },
        "xaxis2": {
         "anchor": "y2",
         "domain": [
          0,
          1
         ]
        },
        "xaxis3": {
         "anchor": "y3",
         "domain": [
          0,
          1
         ]
        },
        "yaxis": {
         "anchor": "x",
         "domain": [
          0.7777777777777778,
          1
         ]
        },
        "yaxis2": {
         "anchor": "x2",
         "domain": [
          0.3888888888888889,
          0.6111111111111112
         ]
        },
        "yaxis3": {
         "anchor": "x3",
         "domain": [
          0,
          0.22222222222222224
         ]
        }
       }
      }
     },
     "metadata": {},
     "output_type": "display_data"
    },
    {
     "data": {
      "application/vnd.plotly.v1+json": {
       "config": {
        "plotlyServerURL": "https://plot.ly"
       },
       "data": [
        {
         "histnorm": "density",
         "name": "News Sentiment",
         "nbinsx": 15,
         "type": "histogram",
         "x": [
          0.10799128122288729,
          0.10303917822625352,
          0.16473459311580632,
          0.2791076599439614,
          0.32872682817264226,
          0.28864381342491796,
          0.28230259803390934,
          0.3136419836175893,
          0.12487133457411974,
          0.07121896960272943,
          0.13218828385362733,
          0.36730414880380446,
          0.3816236238038557,
          0.42075492880081145,
          0.41288821469244885,
          0.4499422824888211,
          0.2520225884499765,
          0.22665650185908895,
          0.22337404240619133,
          0.1520171810114282,
          -0.08763162358047831,
          -0.1310614116908883,
          -0.1049466975786582,
          -0.12211490446856015,
          -0.018877672020375918,
          -0.014379373415770549,
          -0.20726420708834936,
          -0.14945900108492957,
          -0.12939251677467353,
          -0.13151576053929587,
          -0.05099474548463605,
          0.35497963003403643,
          0.4495176065130777,
          0.4987778418737985,
          0.5066279500625968,
          0.8828973640192986,
          0.8779112324989674,
          0.8103025789609481,
          0.8657226236528467,
          0.8119812060349404,
          0.6809079946603409,
          0.5433558204308059,
          0.6779634044192346,
          0.521329973726054,
          0.32527361358783113,
          0.3207529242146329,
          0.1008871463305832,
          -0.06338970329845772,
          -0.436191780833014,
          -0.3429097971636434,
          -0.27183727811289565,
          -0.32967596818363365,
          -0.32315065847942215,
          -0.24922273794817904,
          -0.344129923909337,
          -0.12131591473214542,
          -0.016568360288176247,
          -0.014427966147610423,
          0.43130588091547156,
          0.5124357343161251,
          0.6155735354180656,
          0.7838619736772681,
          0.8906103712861201,
          1.275195565271288,
          1.4882104740577824,
          1.5096459599049081,
          1.522827827329232,
          1.2937810814410136,
          1.1347778405540647,
          1.1126524434032363,
          1.0271263769690697,
          1.0503309036776516,
          1.101164915723722,
          1.2140016159747673,
          1.086604986668094,
          1.0395801530861022,
          1.228598547859742,
          1.4379545130508904,
          1.5562204089615033,
          1.4767647759410232,
          1.5025542624380155,
          1.4101520011775315,
          1.1000605370013852,
          0.8144653903504209,
          0.5643742186629727,
          0.2842741426398887,
          0.09156884345833734,
          -0.6117709323799534,
          -0.9161556685108219,
          -1.0882614605869212,
          -1.1476477679154167,
          -1.1571980772622312,
          -1.499138189400582,
          -1.7683759523171747,
          -1.8489835359361206,
          -1.9218268993600804,
          -1.7035083303915037,
          -1.3501046891899764,
          -1.1975036385549365,
          -1.2086565552538036,
          -1.1647532262076206,
          -0.7759159555081906,
          -0.785485865284655,
          -0.7368721718741846,
          -0.6628469297651669,
          -0.603681535612515,
          -0.41032669997062793,
          -0.30473836876314364,
          -0.3076618272910338,
          -0.24311802079686728,
          -0.3780912072439009,
          -0.3470501156989522,
          -0.45692712980506595,
          -0.5989167256103117,
          -0.6779942506897283,
          -0.7938163201139656,
          -1.0233079506674383,
          -1.1425756122871784,
          -1.2272968360788545,
          -1.2328630858711787,
          -1.4162969734861393,
          -1.5028361371278247,
          -1.6484156060690502,
          -1.8529117887117472,
          -1.9317833731657472,
          -2.111642360195155,
          -2.0683248662129463,
          -1.9515416951653997,
          -1.942578037567128,
          -1.9056856733153658,
          -1.8306280057973694,
          -2.0404176655864323,
          -2.0200672472744454,
          -2.1376287187159986,
          -2.2205861760673913,
          -2.3307473964034258,
          -2.5439763871396313,
          -2.685425337760373,
          -2.4743366050506386,
          -2.512543831458068,
          -2.2027903470864145,
          -2.2413471144892636,
          -2.2543421993470125,
          -2.2266533257285412,
          -2.289484136339781,
          -1.6068703176010017,
          -1.5538813727276157,
          -1.3280955845188838,
          -1.2474389998258135,
          -1.2065740096035231,
          -0.8384486762518414,
          -1.0685216501041601,
          -1.0218938613366695,
          -1.0086404319270101,
          -0.6499751642772974,
          -0.4675448458832203,
          -0.4247880058574499,
          -0.2893352894544727,
          -0.062063407558828255,
          0.5056458188116427,
          0.642061202150019,
          0.5457984559188519,
          0.6858711569271764,
          0.7359950702478606,
          0.7145650629930501,
          0.8507893081138183,
          0.8219573823558278,
          0.7740078916994068,
          1.0683617336432825,
          1.1209709201922056,
          1.1031146310317494,
          1.0814231400937173,
          1.154654615844708,
          1.1694410430076312,
          1.053217117986355,
          0.8348027417093081,
          0.8284831004023238,
          0.8730762216523764,
          0.8962295694613175,
          0.7535089388814806,
          0.5115074361896603,
          0.4438436224147275,
          0.4452596173428233,
          0.8000334510795498,
          0.6838231842569726,
          0.6296102333861915,
          0.6622420903569457,
          0.6685070478263485,
          0.5544268645016569,
          0.4877457264340573,
          0.4339143033709713,
          0.44382225250184554,
          0.47917577885496443,
          0.8234329612289177,
          0.8550408658930939,
          1.0313437190677675,
          1.0339659400896266,
          1.0497208743333284,
          1.14284116296522,
          1.184490425587426,
          1.1935695036845138,
          1.2890630564053287,
          1.4233922275199964,
          1.10232360396988,
          0.9687282409544847,
          0.8561517951062425,
          1.0140706192535685,
          1.2576264087937907,
          1.2709393094289594,
          1.2584598332694044,
          1.276616319939136,
          1.3932004879265345,
          1.03023602256437,
          0.9661828052963488,
          0.9665115038210038,
          0.9968379623397835,
          1.035181813269858,
          0.8100926910267826,
          0.7882239880444654,
          0.6931960348527054,
          0.5333026375607911,
          0.3306586955199905,
          -0.028467318340584767,
          -0.06026724596398522,
          0.21070447440613171,
          0.3557259436157676,
          0.3320627804647922,
          0.51448942377831,
          0.256746223938506,
          0.46520502816576403,
          0.5681628864343927,
          0.5663384811648808
         ],
         "xaxis": "x",
         "yaxis": "y"
        },
        {
         "histnorm": "density",
         "name": "close",
         "nbinsx": 15,
         "type": "histogram",
         "x": [
          -0.4800853099086053,
          -0.4566805683989445,
          -0.44133031993194877,
          -0.44579073110148487,
          -0.4456334386611916,
          -0.4498150399722088,
          -0.4449088134206357,
          -0.4364769896839323,
          -0.44551521156075174,
          -0.45042244878639487,
          -0.45817531088030694,
          -0.49557461746026704,
          -0.4923894440448799,
          -0.4874686173042601,
          -0.48692392799213496,
          -0.49296446459532206,
          -0.4965471013549257,
          -0.49998122142674245,
          -0.489706216037749,
          -0.4970822898728201,
          -0.5014247319481104,
          -0.4940074622929393,
          -0.5077638405453655,
          -0.5019672147501247,
          -0.500326588624195,
          -0.5149260375887564,
          -0.5134842649659985,
          -0.5098633856913041,
          -0.5145779905975608,
          -0.5109037665835834,
          -0.5193170338167773,
          -0.5180437804197776,
          -0.5087174100795583,
          -0.5094818683447849,
          -0.5130213377435008,
          -0.5171352581806808,
          -0.5112476191386326,
          -0.5212365821327932,
          -0.5185826809594255,
          -0.5181635416098835,
          -0.5174117205383735,
          -0.5169409489420184,
          -0.5063202989754892,
          -0.50905236139493,
          -0.5009443510600876,
          -0.5037972175378826,
          -0.5066187207195775,
          -0.5033424454733305,
          -0.5045990524938035,
          -0.5044289316343766,
          -0.5024061500463113,
          -0.5025452198333987,
          -0.5050306145008348,
          -0.5001533462013367,
          -0.5089202054103593,
          -0.5032334247729241,
          -0.5050930485982986,
          -0.5041601007263781,
          -0.4986134750919363,
          -0.5012025879688538,
          -0.4949227869697989,
          -0.4965035727915667,
          -0.4963827758214792,
          -0.49705188577802784,
          -0.49750620397824413,
          -0.4960593799376977,
          -0.49494764545376135,
          -0.47803616851046893,
          -0.4899124579420238,
          -0.49587748542147586,
          -0.49344552470218495,
          -0.49867218145712094,
          -0.4994253657766993,
          -0.49950474445428333,
          -0.4968801344360439,
          -0.49456064008887446,
          -0.49581628806700906,
          -0.4976509041806016,
          -0.5000050053221814,
          -0.5020240658518509,
          -0.49864561923287354,
          -0.5039596361323656,
          -0.509837322372251,
          -0.5086481195597725,
          -0.5185459460451698,
          -0.519989110518738,
          -0.5151518490850887,
          -0.5125957937312324,
          -0.5130471930256187,
          -0.509565407024619,
          -0.5118583620517638,
          -0.5112551302433218,
          -0.5117983635485975,
          -0.5126248958376479,
          -0.5151587627161158,
          -0.5236940609989367,
          -0.5258031324392687,
          -0.5298212301664155,
          -0.5288096810882525,
          -0.5294719627836582,
          -0.5295258057309324,
          -0.5247413792450472,
          -0.5318113960577364,
          -0.5323628749461427,
          -0.5191785337211687,
          -0.518686912975127,
          -0.5234945325837991,
          -0.527645855804775,
          -0.5252358591092718,
          -0.5282991350912554,
          -0.527832266983735,
          -0.5267674971002636,
          -0.5252358591092718,
          -0.5256571834757259,
          -0.5219504293800918,
          -0.5227422158219489,
          -0.5189171661786928,
          -0.5176308920960848,
          -0.5155413988265207,
          -0.516242193418061,
          -0.5132708851004351,
          -0.507820999264928,
          -0.5026961452305061,
          -0.4960593799376977,
          -0.5111490766196031,
          -0.508561952982529,
          -0.5108523859756853,
          -0.5084769687827905,
          -0.5091716060875872,
          -0.5092699565982592,
          -0.5048828024661685,
          -0.5106383541210181,
          -0.510260444547172,
          -0.5254840015770861,
          -0.5104899856934079,
          -0.5149655733557222,
          -0.5168813327501243,
          -0.5167834864923172,
          -0.519330951365558,
          -0.5190716562605703,
          -0.519470755638754,
          -0.5204532444021063,
          -0.5195323309713882,
          -0.5214651122457349,
          -0.5228396575531643,
          -0.5264645731420452,
          -0.5255626085473499,
          -0.5277689527097582,
          -0.5275326648891306,
          -0.5283408381058616,
          -0.5270411230594386,
          -0.5242282736231343,
          -0.5263813148717656,
          -0.527003436200288,
          -0.5265837530396476,
          -0.5273600951324925,
          -0.5274673316914479,
          -0.5264645731420452,
          -0.5192910192264845,
          -0.5235114275250083,
          -0.5258843905108629,
          -0.5261733569684399,
          -0.5233447623658359,
          -0.5248390760789967,
          -0.5225417915318964,
          -0.5239483659675707,
          -0.5147766339201667,
          -0.5169386631967807,
          -0.5179201085425428,
          -0.5153622089491612,
          -0.5234559861549942,
          -0.5185324883506203,
          -0.5238333247037276,
          -0.5243549722850754,
          -0.5233846617656362,
          -0.5271620642642193,
          -0.5228691181364605,
          -0.5259983628710209,
          -0.5250325753484537,
          -0.5282083713584559,
          -0.5302789446814212,
          -0.5331275967011551,
          -0.5355446149561306,
          -0.5360722531494344,
          -0.5349556474426502,
          -0.5402166250481125,
          -0.5411809358301674,
          -0.5422886669156933,
          -0.5399269191158906,
          -0.5394304476175033,
          -0.5488412330014997,
          -0.5487909657175802,
          -0.5496314634129312,
          -0.5526232657806014,
          -0.5547411631857385,
          -0.5538595034812083,
          -0.5532287225543898,
          -0.5536081121285066,
          -0.5544690186959598,
          -0.5553163957078655,
          -0.5568518030844622,
          -0.5574043380231927,
          -0.557821325783602,
          -0.5595847877561122,
          -0.5580677552200604,
          -0.5610349157951338,
          -0.5642832886235195,
          -0.5646379735164481,
          -0.5600550961044849,
          -0.5578852965241261,
          -0.5572975485887669,
          -0.5559867802297225,
          -0.5523509570097963,
          -0.5541195621104971,
          -0.552607278021735,
          -0.551207089372426,
          -0.5516269475918922,
          -0.5533788683289883,
          -0.5524185330716327,
          -0.5509254338747591,
          -0.5428141768758472,
          -0.5479137211983681,
          -0.5443146919306893,
          -0.54125196054186,
          -0.5408560538630404,
          -0.5399515966697811,
          -0.5403261148405887,
          -0.54570793343465,
          -0.5420557322473921,
          -0.5415832275718488,
          -0.5422949841688962,
          -0.5393343312495977
         ],
         "xaxis": "x2",
         "yaxis": "y2"
        },
        {
         "histnorm": "density",
         "name": "volume",
         "nbinsx": 15,
         "type": "histogram",
         "x": [
          0.41769253427337866,
          3.324941935053842,
          0.1046849054269483,
          -0.05797285478434766,
          -0.14798791279110535,
          -0.1611157416906961,
          -0.1797513873975181,
          -0.1864604954017854,
          -0.18889610844632748,
          0.01001623502831987,
          -0.21515194288000347,
          -0.20104273272901843,
          -0.1982093388028817,
          -0.1871022085202727,
          -0.2087386976540093,
          -0.2165524777868259,
          -0.21292758469087314,
          -0.19676605834839236,
          -0.14543536771120993,
          -0.18590392010964296,
          -0.1951136426524252,
          -0.2141889316160363,
          -0.188916068144205,
          -0.21670314701062707,
          -0.21098389871348963,
          -0.1953870728498979,
          -0.2123439843210735,
          -0.20793112474519454,
          -0.2103738031695163,
          -0.20654277761849205,
          -0.21411421522486643,
          -0.2184965170331984,
          -0.20072408410095594,
          -0.21544727575479314,
          -0.21376465556026794,
          -0.20158164457171174,
          -0.21280959284855286,
          -0.21639986558358532,
          -0.2142095978518918,
          -0.21415678413803887,
          -0.2127944022820266,
          -0.2160688525409084,
          -0.19294280471512573,
          -0.21334797478776268,
          -0.2118340405354768,
          -0.2169864687397913,
          -0.21809573336519736,
          -0.21766757135055018,
          -0.21403172691593894,
          -0.21453319224580006,
          -0.21739873364993426,
          -0.2095114735674092,
          -0.20703046545778284,
          -0.21378761804455182,
          -0.19042240711322778,
          -0.18268016395068018,
          -0.20450618189700606,
          -0.21741728027185586,
          -0.2108030249911304,
          -0.20925023115005642,
          -0.21628946902452817,
          -0.2184668424381238,
          -0.21745596322614946,
          -0.2186975270879296,
          -0.2178791794749509,
          -0.20517474345865605,
          -0.21416950182164224,
          -0.18621444355095887,
          -0.2000251414062534,
          -0.20786877276863908,
          -0.198768740246936,
          -0.21002035754603898,
          -0.2175250273134956,
          -0.21743017458995373,
          -0.21868710565275462,
          -0.21925392574557756,
          -0.21742222603770162,
          -0.21857105678987376,
          -0.2185327271045691,
          -0.2144830280493645,
          -0.21854297190524963,
          -0.21675684389695246,
          -0.21986349138606742,
          -0.21863252559395677,
          -0.2185862473564,
          -0.21491366294693456,
          -0.21832288532511332,
          -0.21170262447157517,
          -0.21756706632318457,
          -0.21925622199400593,
          -0.21752838336889094,
          -0.21858589408741103,
          -0.2179387052995945,
          -0.219738610798462,
          -0.21931627772213302,
          -0.21711240913436367,
          -0.2196128470383841,
          -0.21774211110722555,
          -0.2189398696143718,
          -0.21758596621409515,
          -0.2190742884646798,
          -0.21870512237119275,
          -0.21954802217890576,
          -0.2195822892708371,
          -0.21060130839842123,
          -0.21748016215189478,
          -0.2169022140859189,
          -0.2164244177783196,
          -0.21381411321872554,
          -0.21725530644040722,
          -0.21851294404118607,
          -0.21963068712232775,
          -0.21785091795583228,
          -0.2196356328881735,
          -0.21814978352051173,
          -0.21768452826202137,
          -0.2171101128859353,
          -0.2186337620354182,
          -0.19977961945891035,
          -0.21714791266775643,
          -0.2194650039664948,
          -0.21189515607057083,
          -0.21123966546151318,
          -0.2073270347740339,
          -0.21515282605247593,
          -0.21971635485215607,
          -0.21983999899830006,
          -0.21773963822430267,
          -0.22001080455447325,
          -0.21818104782603673,
          -0.2086085180315691,
          -0.21769865902158067,
          -0.2196027788721981,
          -0.21929243206537669,
          -0.21865937403711946,
          -0.21723817289444156,
          -0.21900257485991628,
          -0.21063575212484706,
          -0.21914953475933313,
          -0.21856346150661063,
          -0.21753880480406593,
          -0.2199191312518322,
          -0.2197160015831671,
          -0.21971441187271668,
          -0.219985192552772,
          -0.22014610657725367,
          -0.21852424864883352,
          -0.21948531693336132,
          -0.2200798686418194,
          -0.21870353266074233,
          -0.2191029032527874,
          -0.21876641454078125,
          -0.21964128519199722,
          -0.21907481836816325,
          -0.21703345351532602,
          -0.2195266494050723,
          -0.21952806248102824,
          -0.2184936908812865,
          -0.21980060950602848,
          -0.22003818290111943,
          -0.21917338041608947,
          -0.2202194098924676,
          -0.22012014130656343,
          -0.21980361229243484,
          -0.22050714748399414,
          -0.20716347123213485,
          2.4480092527491832,
          -0.13659251501348635,
          -0.1973637894777513,
          -0.20620381602356302,
          -0.215161834411695,
          -0.2150901208069315,
          -0.210420787945051,
          -0.21691528503851126,
          -0.21533122689191228,
          -0.21838435412919632,
          -0.21630006709419766,
          -0.2163429892763591,
          -0.21859030994977333,
          -0.2173729450137385,
          -0.21588073680427505,
          -0.2185659343895335,
          -0.21827254449418326,
          -0.21679199416135625,
          -0.2019610554658793,
          -0.21617359679614181,
          -0.22006909393765542,
          -0.2194748954981863,
          -0.21816144139714816,
          -0.21506998447455947,
          -0.21362652738557564,
          -0.21944168821322194,
          -0.21601427248211055,
          -0.21825806046563498,
          -0.2185991416744979,
          -0.21933040848169233,
          -0.21861592195147458,
          -0.21985483629583735,
          -0.21660122890730552,
          -0.21892556222031803,
          -0.21993714797027034,
          -0.21782530595413102,
          -0.21444134230866455,
          -0.21957946311892523,
          -0.21992707980408432,
          -0.21874945762931008,
          -0.2197979599886111,
          -0.2189624788296667,
          -0.2168034754034982,
          -0.21866396653397624,
          -0.2187015896813029,
          -0.2166798312573542,
          -0.21855515968536954,
          -0.21976227982072383,
          -0.2182801397774464,
          -0.21921241663937208,
          -0.21946624040795623,
          -0.21975963030330647,
          -0.21983611303942124,
          -0.21902589061318914,
          -0.21928748629953093,
          -0.21992231067273307,
          -0.2195716912011676,
          -0.2191481216833772,
          -0.22014222061837488,
          -0.219306562824936,
          -0.2198082047892916,
          -0.22039551448347555,
          -0.21997812717299234,
          -0.21974302666082426,
          -0.21803514773358681,
          -0.21979107124332595
         ],
         "xaxis": "x3",
         "yaxis": "y3"
        }
       ],
       "layout": {
        "annotations": [
         {
          "font": {
           "size": 16
          },
          "showarrow": false,
          "text": "News Sentiment",
          "x": 0.5,
          "xanchor": "center",
          "xref": "paper",
          "y": 1,
          "yanchor": "bottom",
          "yref": "paper"
         },
         {
          "font": {
           "size": 16
          },
          "showarrow": false,
          "text": "close",
          "x": 0.5,
          "xanchor": "center",
          "xref": "paper",
          "y": 0.6111111111111112,
          "yanchor": "bottom",
          "yref": "paper"
         },
         {
          "font": {
           "size": 16
          },
          "showarrow": false,
          "text": "volume",
          "x": 0.5,
          "xanchor": "center",
          "xref": "paper",
          "y": 0.22222222222222224,
          "yanchor": "bottom",
          "yref": "paper"
         }
        ],
        "height": 600,
        "template": {
         "data": {
          "bar": [
           {
            "error_x": {
             "color": "#2a3f5f"
            },
            "error_y": {
             "color": "#2a3f5f"
            },
            "marker": {
             "line": {
              "color": "#E5ECF6",
              "width": 0.5
             },
             "pattern": {
              "fillmode": "overlay",
              "size": 10,
              "solidity": 0.2
             }
            },
            "type": "bar"
           }
          ],
          "barpolar": [
           {
            "marker": {
             "line": {
              "color": "#E5ECF6",
              "width": 0.5
             },
             "pattern": {
              "fillmode": "overlay",
              "size": 10,
              "solidity": 0.2
             }
            },
            "type": "barpolar"
           }
          ],
          "carpet": [
           {
            "aaxis": {
             "endlinecolor": "#2a3f5f",
             "gridcolor": "white",
             "linecolor": "white",
             "minorgridcolor": "white",
             "startlinecolor": "#2a3f5f"
            },
            "baxis": {
             "endlinecolor": "#2a3f5f",
             "gridcolor": "white",
             "linecolor": "white",
             "minorgridcolor": "white",
             "startlinecolor": "#2a3f5f"
            },
            "type": "carpet"
           }
          ],
          "choropleth": [
           {
            "colorbar": {
             "outlinewidth": 0,
             "ticks": ""
            },
            "type": "choropleth"
           }
          ],
          "contour": [
           {
            "colorbar": {
             "outlinewidth": 0,
             "ticks": ""
            },
            "colorscale": [
             [
              0,
              "#0d0887"
             ],
             [
              0.1111111111111111,
              "#46039f"
             ],
             [
              0.2222222222222222,
              "#7201a8"
             ],
             [
              0.3333333333333333,
              "#9c179e"
             ],
             [
              0.4444444444444444,
              "#bd3786"
             ],
             [
              0.5555555555555556,
              "#d8576b"
             ],
             [
              0.6666666666666666,
              "#ed7953"
             ],
             [
              0.7777777777777778,
              "#fb9f3a"
             ],
             [
              0.8888888888888888,
              "#fdca26"
             ],
             [
              1,
              "#f0f921"
             ]
            ],
            "type": "contour"
           }
          ],
          "contourcarpet": [
           {
            "colorbar": {
             "outlinewidth": 0,
             "ticks": ""
            },
            "type": "contourcarpet"
           }
          ],
          "heatmap": [
           {
            "colorbar": {
             "outlinewidth": 0,
             "ticks": ""
            },
            "colorscale": [
             [
              0,
              "#0d0887"
             ],
             [
              0.1111111111111111,
              "#46039f"
             ],
             [
              0.2222222222222222,
              "#7201a8"
             ],
             [
              0.3333333333333333,
              "#9c179e"
             ],
             [
              0.4444444444444444,
              "#bd3786"
             ],
             [
              0.5555555555555556,
              "#d8576b"
             ],
             [
              0.6666666666666666,
              "#ed7953"
             ],
             [
              0.7777777777777778,
              "#fb9f3a"
             ],
             [
              0.8888888888888888,
              "#fdca26"
             ],
             [
              1,
              "#f0f921"
             ]
            ],
            "type": "heatmap"
           }
          ],
          "heatmapgl": [
           {
            "colorbar": {
             "outlinewidth": 0,
             "ticks": ""
            },
            "colorscale": [
             [
              0,
              "#0d0887"
             ],
             [
              0.1111111111111111,
              "#46039f"
             ],
             [
              0.2222222222222222,
              "#7201a8"
             ],
             [
              0.3333333333333333,
              "#9c179e"
             ],
             [
              0.4444444444444444,
              "#bd3786"
             ],
             [
              0.5555555555555556,
              "#d8576b"
             ],
             [
              0.6666666666666666,
              "#ed7953"
             ],
             [
              0.7777777777777778,
              "#fb9f3a"
             ],
             [
              0.8888888888888888,
              "#fdca26"
             ],
             [
              1,
              "#f0f921"
             ]
            ],
            "type": "heatmapgl"
           }
          ],
          "histogram": [
           {
            "marker": {
             "pattern": {
              "fillmode": "overlay",
              "size": 10,
              "solidity": 0.2
             }
            },
            "type": "histogram"
           }
          ],
          "histogram2d": [
           {
            "colorbar": {
             "outlinewidth": 0,
             "ticks": ""
            },
            "colorscale": [
             [
              0,
              "#0d0887"
             ],
             [
              0.1111111111111111,
              "#46039f"
             ],
             [
              0.2222222222222222,
              "#7201a8"
             ],
             [
              0.3333333333333333,
              "#9c179e"
             ],
             [
              0.4444444444444444,
              "#bd3786"
             ],
             [
              0.5555555555555556,
              "#d8576b"
             ],
             [
              0.6666666666666666,
              "#ed7953"
             ],
             [
              0.7777777777777778,
              "#fb9f3a"
             ],
             [
              0.8888888888888888,
              "#fdca26"
             ],
             [
              1,
              "#f0f921"
             ]
            ],
            "type": "histogram2d"
           }
          ],
          "histogram2dcontour": [
           {
            "colorbar": {
             "outlinewidth": 0,
             "ticks": ""
            },
            "colorscale": [
             [
              0,
              "#0d0887"
             ],
             [
              0.1111111111111111,
              "#46039f"
             ],
             [
              0.2222222222222222,
              "#7201a8"
             ],
             [
              0.3333333333333333,
              "#9c179e"
             ],
             [
              0.4444444444444444,
              "#bd3786"
             ],
             [
              0.5555555555555556,
              "#d8576b"
             ],
             [
              0.6666666666666666,
              "#ed7953"
             ],
             [
              0.7777777777777778,
              "#fb9f3a"
             ],
             [
              0.8888888888888888,
              "#fdca26"
             ],
             [
              1,
              "#f0f921"
             ]
            ],
            "type": "histogram2dcontour"
           }
          ],
          "mesh3d": [
           {
            "colorbar": {
             "outlinewidth": 0,
             "ticks": ""
            },
            "type": "mesh3d"
           }
          ],
          "parcoords": [
           {
            "line": {
             "colorbar": {
              "outlinewidth": 0,
              "ticks": ""
             }
            },
            "type": "parcoords"
           }
          ],
          "pie": [
           {
            "automargin": true,
            "type": "pie"
           }
          ],
          "scatter": [
           {
            "fillpattern": {
             "fillmode": "overlay",
             "size": 10,
             "solidity": 0.2
            },
            "type": "scatter"
           }
          ],
          "scatter3d": [
           {
            "line": {
             "colorbar": {
              "outlinewidth": 0,
              "ticks": ""
             }
            },
            "marker": {
             "colorbar": {
              "outlinewidth": 0,
              "ticks": ""
             }
            },
            "type": "scatter3d"
           }
          ],
          "scattercarpet": [
           {
            "marker": {
             "colorbar": {
              "outlinewidth": 0,
              "ticks": ""
             }
            },
            "type": "scattercarpet"
           }
          ],
          "scattergeo": [
           {
            "marker": {
             "colorbar": {
              "outlinewidth": 0,
              "ticks": ""
             }
            },
            "type": "scattergeo"
           }
          ],
          "scattergl": [
           {
            "marker": {
             "colorbar": {
              "outlinewidth": 0,
              "ticks": ""
             }
            },
            "type": "scattergl"
           }
          ],
          "scattermapbox": [
           {
            "marker": {
             "colorbar": {
              "outlinewidth": 0,
              "ticks": ""
             }
            },
            "type": "scattermapbox"
           }
          ],
          "scatterpolar": [
           {
            "marker": {
             "colorbar": {
              "outlinewidth": 0,
              "ticks": ""
             }
            },
            "type": "scatterpolar"
           }
          ],
          "scatterpolargl": [
           {
            "marker": {
             "colorbar": {
              "outlinewidth": 0,
              "ticks": ""
             }
            },
            "type": "scatterpolargl"
           }
          ],
          "scatterternary": [
           {
            "marker": {
             "colorbar": {
              "outlinewidth": 0,
              "ticks": ""
             }
            },
            "type": "scatterternary"
           }
          ],
          "surface": [
           {
            "colorbar": {
             "outlinewidth": 0,
             "ticks": ""
            },
            "colorscale": [
             [
              0,
              "#0d0887"
             ],
             [
              0.1111111111111111,
              "#46039f"
             ],
             [
              0.2222222222222222,
              "#7201a8"
             ],
             [
              0.3333333333333333,
              "#9c179e"
             ],
             [
              0.4444444444444444,
              "#bd3786"
             ],
             [
              0.5555555555555556,
              "#d8576b"
             ],
             [
              0.6666666666666666,
              "#ed7953"
             ],
             [
              0.7777777777777778,
              "#fb9f3a"
             ],
             [
              0.8888888888888888,
              "#fdca26"
             ],
             [
              1,
              "#f0f921"
             ]
            ],
            "type": "surface"
           }
          ],
          "table": [
           {
            "cells": {
             "fill": {
              "color": "#EBF0F8"
             },
             "line": {
              "color": "white"
             }
            },
            "header": {
             "fill": {
              "color": "#C8D4E3"
             },
             "line": {
              "color": "white"
             }
            },
            "type": "table"
           }
          ]
         },
         "layout": {
          "annotationdefaults": {
           "arrowcolor": "#2a3f5f",
           "arrowhead": 0,
           "arrowwidth": 1
          },
          "autotypenumbers": "strict",
          "coloraxis": {
           "colorbar": {
            "outlinewidth": 0,
            "ticks": ""
           }
          },
          "colorscale": {
           "diverging": [
            [
             0,
             "#8e0152"
            ],
            [
             0.1,
             "#c51b7d"
            ],
            [
             0.2,
             "#de77ae"
            ],
            [
             0.3,
             "#f1b6da"
            ],
            [
             0.4,
             "#fde0ef"
            ],
            [
             0.5,
             "#f7f7f7"
            ],
            [
             0.6,
             "#e6f5d0"
            ],
            [
             0.7,
             "#b8e186"
            ],
            [
             0.8,
             "#7fbc41"
            ],
            [
             0.9,
             "#4d9221"
            ],
            [
             1,
             "#276419"
            ]
           ],
           "sequential": [
            [
             0,
             "#0d0887"
            ],
            [
             0.1111111111111111,
             "#46039f"
            ],
            [
             0.2222222222222222,
             "#7201a8"
            ],
            [
             0.3333333333333333,
             "#9c179e"
            ],
            [
             0.4444444444444444,
             "#bd3786"
            ],
            [
             0.5555555555555556,
             "#d8576b"
            ],
            [
             0.6666666666666666,
             "#ed7953"
            ],
            [
             0.7777777777777778,
             "#fb9f3a"
            ],
            [
             0.8888888888888888,
             "#fdca26"
            ],
            [
             1,
             "#f0f921"
            ]
           ],
           "sequentialminus": [
            [
             0,
             "#0d0887"
            ],
            [
             0.1111111111111111,
             "#46039f"
            ],
            [
             0.2222222222222222,
             "#7201a8"
            ],
            [
             0.3333333333333333,
             "#9c179e"
            ],
            [
             0.4444444444444444,
             "#bd3786"
            ],
            [
             0.5555555555555556,
             "#d8576b"
            ],
            [
             0.6666666666666666,
             "#ed7953"
            ],
            [
             0.7777777777777778,
             "#fb9f3a"
            ],
            [
             0.8888888888888888,
             "#fdca26"
            ],
            [
             1,
             "#f0f921"
            ]
           ]
          },
          "colorway": [
           "#636efa",
           "#EF553B",
           "#00cc96",
           "#ab63fa",
           "#FFA15A",
           "#19d3f3",
           "#FF6692",
           "#B6E880",
           "#FF97FF",
           "#FECB52"
          ],
          "font": {
           "color": "#2a3f5f"
          },
          "geo": {
           "bgcolor": "white",
           "lakecolor": "white",
           "landcolor": "#E5ECF6",
           "showlakes": true,
           "showland": true,
           "subunitcolor": "white"
          },
          "hoverlabel": {
           "align": "left"
          },
          "hovermode": "closest",
          "mapbox": {
           "style": "light"
          },
          "paper_bgcolor": "white",
          "plot_bgcolor": "#E5ECF6",
          "polar": {
           "angularaxis": {
            "gridcolor": "white",
            "linecolor": "white",
            "ticks": ""
           },
           "bgcolor": "#E5ECF6",
           "radialaxis": {
            "gridcolor": "white",
            "linecolor": "white",
            "ticks": ""
           }
          },
          "scene": {
           "xaxis": {
            "backgroundcolor": "#E5ECF6",
            "gridcolor": "white",
            "gridwidth": 2,
            "linecolor": "white",
            "showbackground": true,
            "ticks": "",
            "zerolinecolor": "white"
           },
           "yaxis": {
            "backgroundcolor": "#E5ECF6",
            "gridcolor": "white",
            "gridwidth": 2,
            "linecolor": "white",
            "showbackground": true,
            "ticks": "",
            "zerolinecolor": "white"
           },
           "zaxis": {
            "backgroundcolor": "#E5ECF6",
            "gridcolor": "white",
            "gridwidth": 2,
            "linecolor": "white",
            "showbackground": true,
            "ticks": "",
            "zerolinecolor": "white"
           }
          },
          "shapedefaults": {
           "line": {
            "color": "#2a3f5f"
           }
          },
          "ternary": {
           "aaxis": {
            "gridcolor": "white",
            "linecolor": "white",
            "ticks": ""
           },
           "baxis": {
            "gridcolor": "white",
            "linecolor": "white",
            "ticks": ""
           },
           "bgcolor": "#E5ECF6",
           "caxis": {
            "gridcolor": "white",
            "linecolor": "white",
            "ticks": ""
           }
          },
          "title": {
           "x": 0.05
          },
          "xaxis": {
           "automargin": true,
           "gridcolor": "white",
           "linecolor": "white",
           "ticks": "",
           "title": {
            "standoff": 15
           },
           "zerolinecolor": "white",
           "zerolinewidth": 2
          },
          "yaxis": {
           "automargin": true,
           "gridcolor": "white",
           "linecolor": "white",
           "ticks": "",
           "title": {
            "standoff": 15
           },
           "zerolinecolor": "white",
           "zerolinewidth": 2
          }
         }
        },
        "title": {
         "text": "Histograms of Scaled Numerical Columns for Ticker SNAL"
        },
        "width": 600,
        "xaxis": {
         "anchor": "y",
         "domain": [
          0,
          1
         ]
        },
        "xaxis2": {
         "anchor": "y2",
         "domain": [
          0,
          1
         ]
        },
        "xaxis3": {
         "anchor": "y3",
         "domain": [
          0,
          1
         ]
        },
        "yaxis": {
         "anchor": "x",
         "domain": [
          0.7777777777777778,
          1
         ]
        },
        "yaxis2": {
         "anchor": "x2",
         "domain": [
          0.3888888888888889,
          0.6111111111111112
         ]
        },
        "yaxis3": {
         "anchor": "x3",
         "domain": [
          0,
          0.22222222222222224
         ]
        }
       }
      }
     },
     "metadata": {},
     "output_type": "display_data"
    },
    {
     "data": {
      "application/vnd.plotly.v1+json": {
       "config": {
        "plotlyServerURL": "https://plot.ly"
       },
       "data": [
        {
         "histnorm": "density",
         "name": "News Sentiment",
         "nbinsx": 15,
         "type": "histogram",
         "x": [
          -0.014427966147610423,
          0.43130588091547156,
          0.5124357343161251,
          0.6155735354180656,
          0.7838619736772681,
          0.8906103712861201,
          1.275195565271288,
          1.4882104740577824,
          1.5096459599049081,
          1.522827827329232,
          1.2937810814410136,
          1.1347778405540647,
          1.1126524434032363,
          1.0271263769690697,
          1.0503309036776516,
          1.101164915723722,
          1.2140016159747673,
          1.086604986668094,
          1.0395801530861022,
          1.228598547859742,
          1.4379545130508904,
          1.5562204089615033,
          1.4767647759410232,
          1.5025542624380155,
          1.4101520011775315,
          1.1000605370013852,
          0.8144653903504209,
          0.5643742186629727,
          0.2842741426398887,
          0.09156884345833734,
          -0.6117709323799534,
          -0.9161556685108219,
          -1.0882614605869212,
          -1.1476477679154167,
          -1.1571980772622312,
          -1.499138189400582,
          -1.7683759523171747,
          -1.8489835359361206,
          -1.9218268993600804,
          -1.7035083303915037,
          -1.3501046891899764,
          -1.1975036385549365,
          -1.2086565552538036,
          -1.1647532262076206,
          -0.7759159555081906,
          -0.785485865284655,
          -0.7368721718741846,
          -0.6628469297651669,
          -0.603681535612515,
          -0.41032669997062793,
          -0.30473836876314364,
          -0.3076618272910338,
          -0.24311802079686728,
          -0.3780912072439009,
          -0.3470501156989522,
          -0.45692712980506595,
          -0.5989167256103117,
          -0.6779942506897283,
          -0.7938163201139656,
          -1.0233079506674383,
          -1.1425756122871784,
          -1.2272968360788545,
          -1.2328630858711787,
          -1.4162969734861393,
          -1.5028361371278247,
          -1.6484156060690502,
          -1.8529117887117472,
          -1.9317833731657472,
          -2.111642360195155,
          -2.0683248662129463,
          -1.9515416951653997,
          -1.942578037567128,
          -1.9056856733153658,
          -1.8306280057973694,
          -2.0404176655864323,
          -2.0200672472744454,
          -2.1376287187159986,
          -2.2205861760673913,
          -2.3307473964034258,
          -2.5439763871396313,
          -2.685425337760373,
          -2.4743366050506386,
          -2.512543831458068,
          -2.2027903470864145,
          -2.2413471144892636,
          -2.2543421993470125,
          -2.2266533257285412,
          -2.289484136339781,
          -1.6068703176010017,
          -1.5538813727276157,
          -1.3280955845188838,
          -1.2474389998258135,
          -1.2065740096035231,
          -0.8384486762518414,
          -1.0685216501041601,
          -1.0218938613366695,
          -1.0086404319270101,
          -0.6499751642772974,
          -0.4675448458832203,
          -0.4247880058574499,
          -0.2893352894544727,
          -0.062063407558828255,
          0.5056458188116427,
          0.642061202150019,
          0.5457984559188519,
          0.6858711569271764,
          0.7359950702478606,
          0.7145650629930501,
          0.8507893081138183,
          0.8219573823558278,
          0.7740078916994068,
          1.0683617336432825,
          1.1209709201922056,
          1.1031146310317494,
          1.0814231400937173,
          1.154654615844708,
          1.1694410430076312,
          1.053217117986355,
          0.8348027417093081,
          0.8284831004023238,
          0.8730762216523764,
          0.8962295694613175,
          0.7535089388814806,
          0.5115074361896603,
          0.4438436224147275,
          0.4452596173428233,
          0.8000334510795498,
          0.6838231842569726,
          0.6296102333861915,
          0.6622420903569457,
          0.6685070478263485,
          0.5544268645016569,
          0.4877457264340573,
          0.4339143033709713,
          0.44382225250184554,
          0.47917577885496443,
          0.8234329612289177,
          0.8550408658930939,
          1.0313437190677675,
          1.0339659400896266,
          1.0497208743333284,
          1.14284116296522,
          1.184490425587426,
          1.1935695036845138,
          1.2890630564053287,
          1.4233922275199964,
          1.10232360396988,
          0.9687282409544847,
          0.8561517951062425,
          1.0140706192535685,
          1.2576264087937907,
          1.2709393094289594,
          1.2584598332694044,
          1.276616319939136,
          1.3932004879265345,
          1.03023602256437,
          0.9661828052963488,
          0.9665115038210038,
          0.9968379623397835,
          1.035181813269858,
          0.8100926910267826,
          0.7882239880444654,
          0.6931960348527054,
          0.5333026375607911,
          0.3306586955199905,
          -0.028467318340584767,
          -0.06026724596398522,
          0.21070447440613171,
          0.3557259436157676,
          0.3320627804647922,
          0.51448942377831,
          0.256746223938506,
          0.46520502816576403,
          0.5681628864343927,
          0.5663384811648808
         ],
         "xaxis": "x",
         "yaxis": "y"
        },
        {
         "histnorm": "density",
         "name": "close",
         "nbinsx": 15,
         "type": "histogram",
         "x": [
          -0.004257500534814588,
          -0.15699983149724792,
          -0.2196501039894255,
          -0.24372719637178242,
          -0.2676614274092241,
          -0.2570967481672817,
          -0.21882567258787203,
          -0.22009179935850026,
          -0.2103467972689616,
          -0.21474856647636423,
          -0.1735140624822462,
          -0.1770434891571404,
          -0.16835483939172827,
          -0.15175476220307044,
          -0.18725440909708554,
          -0.058363937223566704,
          -0.1745835857170627,
          -0.13972081627320268,
          -0.09871498488098165,
          -0.08645487116819169,
          -0.13355591048433804,
          -0.10679432360876734,
          -0.11868107420627708,
          -0.029307908991553864,
          -0.12581540295358032,
          -0.09989002483351009,
          -0.042128308197478676,
          -0.0032437416906269567,
          -0.027872421572940783,
          0.049774078038260165,
          0.14952629043028356,
          0.17550922981190864,
          0.08817705237822208,
          0.07589875587693713,
          0.0269027562425546,
          -0.034649299441303,
          -0.1864203488049613,
          -0.13843384577823856,
          -0.1598581167307187,
          -0.18808392456532386,
          -0.17435551519943954,
          -0.15316795576815084,
          -0.2025301175826877,
          -0.16409258305238908,
          -0.18480898869918033,
          -0.23015343878747133,
          -0.24003510474842435,
          -0.17149740561978907,
          -0.1179973533188489,
          -0.1723882668518185,
          -0.15329773266255528,
          -0.14065665595361349,
          -0.15729062982921033,
          -0.08637412165418072,
          -0.15331255485226766,
          -0.1382449299687331,
          -0.17237815504664808,
          -0.1872807873069304,
          -0.19038550822292447,
          -0.17599185757495098,
          -0.13535570544486178,
          -0.0999138222939748,
          -0.08583212434448795,
          -0.09466337053104877,
          -0.08303309733286446,
          -0.08213527434220183,
          -0.06276545070304484,
          -0.06496413866859979,
          -0.09131096177052822,
          -0.09335727282518785,
          -0.06308404411795898,
          -0.009481986899224575,
          -0.040712059039423654,
          -0.08087151424776892,
          -0.06580118914473733,
          -0.0059739079477855945,
          0.12620322802485298,
          0.14393035836899437,
          0.0403517252219401,
          0.10707535817183489,
          0.1476283010565236,
          0.04738652469936123,
          0.061397294054772955,
          0.09053934060242369,
          0.13044444085257317,
          0.2065567472926246,
          0.23541118146339468,
          0.1250992581784566,
          0.6647112115141437,
          0.44246377193611414,
          0.5529152112574176,
          0.5877584970377803,
          0.530651808219062,
          0.5685166066706672,
          0.9144049719729906,
          1.0609029170619664,
          1.137743362340804,
          0.7583101174816914,
          0.5170770902386999,
          0.09750865697349302,
          0.3712255211951104,
          0.30391651637163386,
          0.20877501331726392,
          0.1714668951394156,
          0.11945338292882182,
          -0.021752922168206068,
          -0.05717099250464888,
          -0.27268283842223046,
          -0.3522327662037002,
          -0.3364671675188644,
          -0.4019082735290586,
          -0.36042484500630684,
          -0.3872471023276225,
          -0.38278748398257467,
          -0.3721002496663697,
          -0.3123381783614143,
          -0.38416128497602886,
          -0.38084181846484416,
          -0.38678408109606605,
          -0.3809121989170052,
          -0.37684955334623366,
          -0.35396731350119087,
          -0.3747818810710791,
          -0.37288964765563476,
          -0.3498043999872132,
          -0.3402561301019788,
          -0.3291003522451296,
          -0.3494351092722636,
          -0.3424036648512529,
          -0.3885605384764982,
          -0.39780834335472764,
          -0.3871820489850552,
          -0.3784480833135027,
          -0.3893993046997814,
          -0.4130225982343624,
          -0.4239670346286867,
          -0.4304525895714947,
          -0.44171227945691993,
          -0.4442220770815469,
          -0.4439946910492707,
          -0.43830219934470377,
          -0.41380919526461973,
          -0.41247977788374296,
          -0.4050400950384168,
          -0.40335460564428954,
          -0.4131942194046003,
          -0.4237763177812282,
          -0.42243091565508817,
          -0.4097300116468131,
          -0.38336022042669643,
          -0.39746742100680016,
          -0.4216146581033279,
          -0.40243681086838196,
          -0.40221166873777764,
          -0.3945973493976129,
          -0.37721011087016176,
          -0.393328766237236,
          -0.3786897428415948,
          -0.37879551554835805,
          -0.4012046632274924,
          -0.40370602042144343,
          -0.4088453116163401,
          -0.38465085707404345,
          -0.4102667904569055,
          -0.4139670305370551,
          -0.40094352057457716,
          -0.41756738107584956,
          -0.44982372927034997,
          -0.4663551091527026,
          -0.4733912513028735,
          -0.483741197345991,
          -0.49857924679223525,
          -0.46006077221075725,
          -0.43101977561255683,
          -0.4164945992609873
         ],
         "xaxis": "x2",
         "yaxis": "y2"
        },
        {
         "histnorm": "density",
         "name": "volume",
         "nbinsx": 15,
         "type": "histogram",
         "x": [
          0.21456745810511108,
          -0.11896333265627644,
          -0.19406355058267374,
          -0.18293593069870376,
          -0.1557329821055648,
          -0.2056428248690583,
          -0.08352215124005802,
          -0.1806472775535785,
          -0.1861891848182466,
          -0.20658216711076363,
          -0.21325435850568225,
          -0.2136606178430125,
          -0.21365037304233198,
          -0.21446589450339884,
          -0.21374522576587388,
          0.3704519919906394,
          -0.08041267759903119,
          -0.06724528257267436,
          -0.1551341911692389,
          0.22722437944238771,
          -0.17054608071709812,
          -0.21018074166703718,
          -0.18886555067878047,
          -0.2161594660365825,
          -0.2017796518400366,
          -0.21390666969383904,
          -0.21141524014903765,
          -0.21851506365511997,
          -0.2132343988078047,
          -0.2011570152469544,
          -0.11342425154352025,
          -0.1871103337070193,
          -0.20565395284221125,
          -0.21281842457327743,
          -0.21218201048962487,
          -0.2037030248505536,
          -0.21089646463871636,
          -0.20725850059017126,
          -0.21380952072186876,
          -0.21014029236779863,
          -0.19183618960713705,
          -0.21289208115748035,
          -0.19233906801295408,
          -0.19381643892488026,
          -0.21465471677801015,
          -0.21638096569267473,
          -0.2151515896110145,
          -0.20668602819352458,
          -0.1755278799997339,
          -0.20534749199426866,
          -0.2094417029420851,
          -0.21773186630654506,
          -0.2071486339345976,
          1.9604844470968092,
          -0.10708042367386117,
          -0.13562031875580563,
          -0.2016300424232024,
          -0.18411037345257716,
          -0.20663780697652842,
          -0.2098472557414374,
          -0.2107784727963961,
          -0.19021574475467282,
          -0.20436469766691842,
          -0.21647988100958993,
          -0.21252856736781703,
          -0.20798747114893731,
          -0.13810697916925574,
          -0.19389451137144548,
          -0.20833261495117353,
          -0.21444522826754334,
          -0.21030102975778583,
          -0.21638732453447643,
          -0.2172388794324195,
          -0.212528920636806,
          -0.21486296884701553,
          -0.18723698063956964,
          -0.01462992925705589,
          -0.17199059761304888,
          -0.1911685112179595,
          -0.1831401201743358,
          -0.20747929370828552,
          -0.2099889166060195,
          -0.2132506491812979,
          -0.04697735750225723,
          -0.17625773373097242,
          -0.05867356382399509,
          0.06452140080050196,
          -0.10191245163403143,
          15.72212737058121,
          1.3495043175750576,
          1.0480477014958933,
          0.0007501660817948658,
          -0.10464834331920891,
          0.03757722174179292,
          0.5607443954996113,
          -0.06414022479400981,
          -0.1597356963852347,
          -0.08961321514809988,
          -0.18908033822408202,
          -0.13533593721967446,
          -0.1807467227739772,
          -0.18085588289157287,
          -0.20318389607124335,
          -0.17837452151295752,
          -0.190345571108124,
          -0.19509438949252564,
          -0.18067748205213655,
          -0.023787014720479695,
          -0.17467915125370267,
          -0.16445660651950667,
          -0.20184377016153698,
          -0.2090278483214917,
          -0.20458248799862636,
          -0.21113721745470818,
          -0.21479284495270246,
          -0.21577016361072343,
          -0.213064123155115,
          -0.21484230261116005,
          -0.20420413691142575,
          -0.2155774553772333,
          -0.2152671085704119,
          -0.20623455042560454,
          -0.20637656455917563,
          -0.21356293896755874,
          -0.21337093727204656,
          -0.2133723503480025,
          -0.21837552240447175,
          -0.21694195684717946,
          -0.21224913159753162,
          -0.21145056704793594,
          -0.21480732898125074,
          -0.21867350479667877,
          -0.20380423641589718,
          -0.20636137399264937,
          -0.20096624999290366,
          -0.20955633872901003,
          -0.2175949745733142,
          -0.21429897490610444,
          -0.21435814746175907,
          -0.21698116970495654,
          -0.21642777383371495,
          -0.21170050485764128,
          -0.21626950932665065,
          -0.21768028903415357,
          -0.2170444048539845,
          -0.2135887276037545,
          -0.20920995848531238,
          -0.2145471463708649,
          -0.2139688450359,
          -0.21886321024376254,
          -0.21742434565163551,
          -0.21982622150772974,
          -0.21908806595525013,
          -0.21514805692112468,
          -0.21585653787852974,
          -0.21183439380446578,
          -0.2178970195588945,
          -0.21714031738449333,
          -0.21965100008919425,
          -0.21117837329192468,
          -0.21712901277684588,
          -0.21812629113274437,
          -0.21043597851157728,
          -0.2000276142891763,
          -0.2097361526444023,
          -0.2120481215428004,
          -0.2088434419092427,
          -0.20550628640481644,
          -0.2068338712654139,
          -0.19908986175792137,
          -0.20159577533127104,
          -0.2015726362124927,
          -0.004418689130507337,
          -0.036618097669324876,
          -0.1317193459449628
         ],
         "xaxis": "x3",
         "yaxis": "y3"
        }
       ],
       "layout": {
        "annotations": [
         {
          "font": {
           "size": 16
          },
          "showarrow": false,
          "text": "News Sentiment",
          "x": 0.5,
          "xanchor": "center",
          "xref": "paper",
          "y": 1,
          "yanchor": "bottom",
          "yref": "paper"
         },
         {
          "font": {
           "size": 16
          },
          "showarrow": false,
          "text": "close",
          "x": 0.5,
          "xanchor": "center",
          "xref": "paper",
          "y": 0.6111111111111112,
          "yanchor": "bottom",
          "yref": "paper"
         },
         {
          "font": {
           "size": 16
          },
          "showarrow": false,
          "text": "volume",
          "x": 0.5,
          "xanchor": "center",
          "xref": "paper",
          "y": 0.22222222222222224,
          "yanchor": "bottom",
          "yref": "paper"
         }
        ],
        "height": 600,
        "template": {
         "data": {
          "bar": [
           {
            "error_x": {
             "color": "#2a3f5f"
            },
            "error_y": {
             "color": "#2a3f5f"
            },
            "marker": {
             "line": {
              "color": "#E5ECF6",
              "width": 0.5
             },
             "pattern": {
              "fillmode": "overlay",
              "size": 10,
              "solidity": 0.2
             }
            },
            "type": "bar"
           }
          ],
          "barpolar": [
           {
            "marker": {
             "line": {
              "color": "#E5ECF6",
              "width": 0.5
             },
             "pattern": {
              "fillmode": "overlay",
              "size": 10,
              "solidity": 0.2
             }
            },
            "type": "barpolar"
           }
          ],
          "carpet": [
           {
            "aaxis": {
             "endlinecolor": "#2a3f5f",
             "gridcolor": "white",
             "linecolor": "white",
             "minorgridcolor": "white",
             "startlinecolor": "#2a3f5f"
            },
            "baxis": {
             "endlinecolor": "#2a3f5f",
             "gridcolor": "white",
             "linecolor": "white",
             "minorgridcolor": "white",
             "startlinecolor": "#2a3f5f"
            },
            "type": "carpet"
           }
          ],
          "choropleth": [
           {
            "colorbar": {
             "outlinewidth": 0,
             "ticks": ""
            },
            "type": "choropleth"
           }
          ],
          "contour": [
           {
            "colorbar": {
             "outlinewidth": 0,
             "ticks": ""
            },
            "colorscale": [
             [
              0,
              "#0d0887"
             ],
             [
              0.1111111111111111,
              "#46039f"
             ],
             [
              0.2222222222222222,
              "#7201a8"
             ],
             [
              0.3333333333333333,
              "#9c179e"
             ],
             [
              0.4444444444444444,
              "#bd3786"
             ],
             [
              0.5555555555555556,
              "#d8576b"
             ],
             [
              0.6666666666666666,
              "#ed7953"
             ],
             [
              0.7777777777777778,
              "#fb9f3a"
             ],
             [
              0.8888888888888888,
              "#fdca26"
             ],
             [
              1,
              "#f0f921"
             ]
            ],
            "type": "contour"
           }
          ],
          "contourcarpet": [
           {
            "colorbar": {
             "outlinewidth": 0,
             "ticks": ""
            },
            "type": "contourcarpet"
           }
          ],
          "heatmap": [
           {
            "colorbar": {
             "outlinewidth": 0,
             "ticks": ""
            },
            "colorscale": [
             [
              0,
              "#0d0887"
             ],
             [
              0.1111111111111111,
              "#46039f"
             ],
             [
              0.2222222222222222,
              "#7201a8"
             ],
             [
              0.3333333333333333,
              "#9c179e"
             ],
             [
              0.4444444444444444,
              "#bd3786"
             ],
             [
              0.5555555555555556,
              "#d8576b"
             ],
             [
              0.6666666666666666,
              "#ed7953"
             ],
             [
              0.7777777777777778,
              "#fb9f3a"
             ],
             [
              0.8888888888888888,
              "#fdca26"
             ],
             [
              1,
              "#f0f921"
             ]
            ],
            "type": "heatmap"
           }
          ],
          "heatmapgl": [
           {
            "colorbar": {
             "outlinewidth": 0,
             "ticks": ""
            },
            "colorscale": [
             [
              0,
              "#0d0887"
             ],
             [
              0.1111111111111111,
              "#46039f"
             ],
             [
              0.2222222222222222,
              "#7201a8"
             ],
             [
              0.3333333333333333,
              "#9c179e"
             ],
             [
              0.4444444444444444,
              "#bd3786"
             ],
             [
              0.5555555555555556,
              "#d8576b"
             ],
             [
              0.6666666666666666,
              "#ed7953"
             ],
             [
              0.7777777777777778,
              "#fb9f3a"
             ],
             [
              0.8888888888888888,
              "#fdca26"
             ],
             [
              1,
              "#f0f921"
             ]
            ],
            "type": "heatmapgl"
           }
          ],
          "histogram": [
           {
            "marker": {
             "pattern": {
              "fillmode": "overlay",
              "size": 10,
              "solidity": 0.2
             }
            },
            "type": "histogram"
           }
          ],
          "histogram2d": [
           {
            "colorbar": {
             "outlinewidth": 0,
             "ticks": ""
            },
            "colorscale": [
             [
              0,
              "#0d0887"
             ],
             [
              0.1111111111111111,
              "#46039f"
             ],
             [
              0.2222222222222222,
              "#7201a8"
             ],
             [
              0.3333333333333333,
              "#9c179e"
             ],
             [
              0.4444444444444444,
              "#bd3786"
             ],
             [
              0.5555555555555556,
              "#d8576b"
             ],
             [
              0.6666666666666666,
              "#ed7953"
             ],
             [
              0.7777777777777778,
              "#fb9f3a"
             ],
             [
              0.8888888888888888,
              "#fdca26"
             ],
             [
              1,
              "#f0f921"
             ]
            ],
            "type": "histogram2d"
           }
          ],
          "histogram2dcontour": [
           {
            "colorbar": {
             "outlinewidth": 0,
             "ticks": ""
            },
            "colorscale": [
             [
              0,
              "#0d0887"
             ],
             [
              0.1111111111111111,
              "#46039f"
             ],
             [
              0.2222222222222222,
              "#7201a8"
             ],
             [
              0.3333333333333333,
              "#9c179e"
             ],
             [
              0.4444444444444444,
              "#bd3786"
             ],
             [
              0.5555555555555556,
              "#d8576b"
             ],
             [
              0.6666666666666666,
              "#ed7953"
             ],
             [
              0.7777777777777778,
              "#fb9f3a"
             ],
             [
              0.8888888888888888,
              "#fdca26"
             ],
             [
              1,
              "#f0f921"
             ]
            ],
            "type": "histogram2dcontour"
           }
          ],
          "mesh3d": [
           {
            "colorbar": {
             "outlinewidth": 0,
             "ticks": ""
            },
            "type": "mesh3d"
           }
          ],
          "parcoords": [
           {
            "line": {
             "colorbar": {
              "outlinewidth": 0,
              "ticks": ""
             }
            },
            "type": "parcoords"
           }
          ],
          "pie": [
           {
            "automargin": true,
            "type": "pie"
           }
          ],
          "scatter": [
           {
            "fillpattern": {
             "fillmode": "overlay",
             "size": 10,
             "solidity": 0.2
            },
            "type": "scatter"
           }
          ],
          "scatter3d": [
           {
            "line": {
             "colorbar": {
              "outlinewidth": 0,
              "ticks": ""
             }
            },
            "marker": {
             "colorbar": {
              "outlinewidth": 0,
              "ticks": ""
             }
            },
            "type": "scatter3d"
           }
          ],
          "scattercarpet": [
           {
            "marker": {
             "colorbar": {
              "outlinewidth": 0,
              "ticks": ""
             }
            },
            "type": "scattercarpet"
           }
          ],
          "scattergeo": [
           {
            "marker": {
             "colorbar": {
              "outlinewidth": 0,
              "ticks": ""
             }
            },
            "type": "scattergeo"
           }
          ],
          "scattergl": [
           {
            "marker": {
             "colorbar": {
              "outlinewidth": 0,
              "ticks": ""
             }
            },
            "type": "scattergl"
           }
          ],
          "scattermapbox": [
           {
            "marker": {
             "colorbar": {
              "outlinewidth": 0,
              "ticks": ""
             }
            },
            "type": "scattermapbox"
           }
          ],
          "scatterpolar": [
           {
            "marker": {
             "colorbar": {
              "outlinewidth": 0,
              "ticks": ""
             }
            },
            "type": "scatterpolar"
           }
          ],
          "scatterpolargl": [
           {
            "marker": {
             "colorbar": {
              "outlinewidth": 0,
              "ticks": ""
             }
            },
            "type": "scatterpolargl"
           }
          ],
          "scatterternary": [
           {
            "marker": {
             "colorbar": {
              "outlinewidth": 0,
              "ticks": ""
             }
            },
            "type": "scatterternary"
           }
          ],
          "surface": [
           {
            "colorbar": {
             "outlinewidth": 0,
             "ticks": ""
            },
            "colorscale": [
             [
              0,
              "#0d0887"
             ],
             [
              0.1111111111111111,
              "#46039f"
             ],
             [
              0.2222222222222222,
              "#7201a8"
             ],
             [
              0.3333333333333333,
              "#9c179e"
             ],
             [
              0.4444444444444444,
              "#bd3786"
             ],
             [
              0.5555555555555556,
              "#d8576b"
             ],
             [
              0.6666666666666666,
              "#ed7953"
             ],
             [
              0.7777777777777778,
              "#fb9f3a"
             ],
             [
              0.8888888888888888,
              "#fdca26"
             ],
             [
              1,
              "#f0f921"
             ]
            ],
            "type": "surface"
           }
          ],
          "table": [
           {
            "cells": {
             "fill": {
              "color": "#EBF0F8"
             },
             "line": {
              "color": "white"
             }
            },
            "header": {
             "fill": {
              "color": "#C8D4E3"
             },
             "line": {
              "color": "white"
             }
            },
            "type": "table"
           }
          ]
         },
         "layout": {
          "annotationdefaults": {
           "arrowcolor": "#2a3f5f",
           "arrowhead": 0,
           "arrowwidth": 1
          },
          "autotypenumbers": "strict",
          "coloraxis": {
           "colorbar": {
            "outlinewidth": 0,
            "ticks": ""
           }
          },
          "colorscale": {
           "diverging": [
            [
             0,
             "#8e0152"
            ],
            [
             0.1,
             "#c51b7d"
            ],
            [
             0.2,
             "#de77ae"
            ],
            [
             0.3,
             "#f1b6da"
            ],
            [
             0.4,
             "#fde0ef"
            ],
            [
             0.5,
             "#f7f7f7"
            ],
            [
             0.6,
             "#e6f5d0"
            ],
            [
             0.7,
             "#b8e186"
            ],
            [
             0.8,
             "#7fbc41"
            ],
            [
             0.9,
             "#4d9221"
            ],
            [
             1,
             "#276419"
            ]
           ],
           "sequential": [
            [
             0,
             "#0d0887"
            ],
            [
             0.1111111111111111,
             "#46039f"
            ],
            [
             0.2222222222222222,
             "#7201a8"
            ],
            [
             0.3333333333333333,
             "#9c179e"
            ],
            [
             0.4444444444444444,
             "#bd3786"
            ],
            [
             0.5555555555555556,
             "#d8576b"
            ],
            [
             0.6666666666666666,
             "#ed7953"
            ],
            [
             0.7777777777777778,
             "#fb9f3a"
            ],
            [
             0.8888888888888888,
             "#fdca26"
            ],
            [
             1,
             "#f0f921"
            ]
           ],
           "sequentialminus": [
            [
             0,
             "#0d0887"
            ],
            [
             0.1111111111111111,
             "#46039f"
            ],
            [
             0.2222222222222222,
             "#7201a8"
            ],
            [
             0.3333333333333333,
             "#9c179e"
            ],
            [
             0.4444444444444444,
             "#bd3786"
            ],
            [
             0.5555555555555556,
             "#d8576b"
            ],
            [
             0.6666666666666666,
             "#ed7953"
            ],
            [
             0.7777777777777778,
             "#fb9f3a"
            ],
            [
             0.8888888888888888,
             "#fdca26"
            ],
            [
             1,
             "#f0f921"
            ]
           ]
          },
          "colorway": [
           "#636efa",
           "#EF553B",
           "#00cc96",
           "#ab63fa",
           "#FFA15A",
           "#19d3f3",
           "#FF6692",
           "#B6E880",
           "#FF97FF",
           "#FECB52"
          ],
          "font": {
           "color": "#2a3f5f"
          },
          "geo": {
           "bgcolor": "white",
           "lakecolor": "white",
           "landcolor": "#E5ECF6",
           "showlakes": true,
           "showland": true,
           "subunitcolor": "white"
          },
          "hoverlabel": {
           "align": "left"
          },
          "hovermode": "closest",
          "mapbox": {
           "style": "light"
          },
          "paper_bgcolor": "white",
          "plot_bgcolor": "#E5ECF6",
          "polar": {
           "angularaxis": {
            "gridcolor": "white",
            "linecolor": "white",
            "ticks": ""
           },
           "bgcolor": "#E5ECF6",
           "radialaxis": {
            "gridcolor": "white",
            "linecolor": "white",
            "ticks": ""
           }
          },
          "scene": {
           "xaxis": {
            "backgroundcolor": "#E5ECF6",
            "gridcolor": "white",
            "gridwidth": 2,
            "linecolor": "white",
            "showbackground": true,
            "ticks": "",
            "zerolinecolor": "white"
           },
           "yaxis": {
            "backgroundcolor": "#E5ECF6",
            "gridcolor": "white",
            "gridwidth": 2,
            "linecolor": "white",
            "showbackground": true,
            "ticks": "",
            "zerolinecolor": "white"
           },
           "zaxis": {
            "backgroundcolor": "#E5ECF6",
            "gridcolor": "white",
            "gridwidth": 2,
            "linecolor": "white",
            "showbackground": true,
            "ticks": "",
            "zerolinecolor": "white"
           }
          },
          "shapedefaults": {
           "line": {
            "color": "#2a3f5f"
           }
          },
          "ternary": {
           "aaxis": {
            "gridcolor": "white",
            "linecolor": "white",
            "ticks": ""
           },
           "baxis": {
            "gridcolor": "white",
            "linecolor": "white",
            "ticks": ""
           },
           "bgcolor": "#E5ECF6",
           "caxis": {
            "gridcolor": "white",
            "linecolor": "white",
            "ticks": ""
           }
          },
          "title": {
           "x": 0.05
          },
          "xaxis": {
           "automargin": true,
           "gridcolor": "white",
           "linecolor": "white",
           "ticks": "",
           "title": {
            "standoff": 15
           },
           "zerolinecolor": "white",
           "zerolinewidth": 2
          },
          "yaxis": {
           "automargin": true,
           "gridcolor": "white",
           "linecolor": "white",
           "ticks": "",
           "title": {
            "standoff": 15
           },
           "zerolinecolor": "white",
           "zerolinewidth": 2
          }
         }
        },
        "title": {
         "text": "Histograms of Scaled Numerical Columns for Ticker ASST"
        },
        "width": 600,
        "xaxis": {
         "anchor": "y",
         "domain": [
          0,
          1
         ]
        },
        "xaxis2": {
         "anchor": "y2",
         "domain": [
          0,
          1
         ]
        },
        "xaxis3": {
         "anchor": "y3",
         "domain": [
          0,
          1
         ]
        },
        "yaxis": {
         "anchor": "x",
         "domain": [
          0.7777777777777778,
          1
         ]
        },
        "yaxis2": {
         "anchor": "x2",
         "domain": [
          0.3888888888888889,
          0.6111111111111112
         ]
        },
        "yaxis3": {
         "anchor": "x3",
         "domain": [
          0,
          0.22222222222222224
         ]
        }
       }
      }
     },
     "metadata": {},
     "output_type": "display_data"
    }
   ],
   "source": [
    "# Iterate over each unique ticker\n",
    "for ticker in joined_df_scaled['TickerName'].unique():\n",
    "    # Filter the scaled data based on the current ticker\n",
    "    filtered_data = joined_df_scaled[joined_df_scaled['TickerName'] == ticker]\n",
    "\n",
    "    # Create a subplot for each numerical column\n",
    "    fig = make_subplots(rows=len(numerical_cols), cols=1, subplot_titles=numerical_cols)\n",
    "    \n",
    "    # Iterate over each numerical column\n",
    "    for i, col in enumerate(numerical_cols):\n",
    "        # Create a histogram trace for the current column\n",
    "        hist_trace = go.Histogram(x=filtered_data[col], nbinsx=15, histnorm='density', name=col)\n",
    "        \n",
    "        # Add the histogram trace to the subplot\n",
    "        fig.add_trace(hist_trace, row=i+1, col=1)\n",
    "    \n",
    "    # Update the subplot layout and titles\n",
    "    fig.update_layout(height=600, width=600, title=f\"Histograms of Scaled Numerical Columns for Ticker {ticker}\")\n",
    "    \n",
    "    # Show the plot\n",
    "    fig.show()\n",
    "\n"
   ]
  },
  {
   "cell_type": "markdown",
   "metadata": {},
   "source": [
    "## Train-Test split"
   ]
  },
  {
   "cell_type": "markdown",
   "metadata": {},
   "source": [
    "In the data preparation phase, we need to divide our features into two subsets: the training set and the testing set. This division is crucial for evaluating our machine learning model's performance on unseen data. To achieve this, we will use a common practice of splitting the data with a 70/30 proportion, assigning 70% to the training set and 30% to the testing set.\n",
    "\n",
    "To accomplish this, we will utilize the following code snippet to perform the task of splitting our data into training and testing sets:"
   ]
  },
  {
   "cell_type": "code",
   "execution_count": 83,
   "metadata": {},
   "outputs": [],
   "source": [
    "# Initialize empty DataFrames for train and test data\n",
    "train = pd.DataFrame()\n",
    "test = pd.DataFrame()\n",
    "\n",
    "# Split data for each unique ticker\n",
    "for ticker in joined_df_scaled[\"TickerName\"].unique():\n",
    "\n",
    "    # Filter data for the current ticker\n",
    "    current_ticker_data = joined_df_scaled[joined_df_scaled[\"TickerName\"] == ticker]\n",
    "    \n",
    "    # Perform train-test split for the current ticker data\n",
    "    train_sub, test_sub = train_test_split(current_ticker_data, test_size=0.3, shuffle=False)\n",
    "    \n",
    "    # Concatenate the current ticker train and test data to the overall train and test data\n",
    "    train = pd.concat([train, train_sub], ignore_index=True)\n",
    "    test = pd.concat([test, test_sub], ignore_index=True)"
   ]
  },
  {
   "cell_type": "code",
   "execution_count": 79,
   "metadata": {},
   "outputs": [
    {
     "name": "stdout",
     "output_type": "stream",
     "text": [
      "Train set shape: (1001, 5)\n",
      "Test set shape: (432, 5)\n",
      "0.43156843156843155\n",
      "Our latest training date is 2023-07-31 00:00:00\n"
     ]
    }
   ],
   "source": [
    "# Print the shape of the train set\n",
    "print(f\"Train set shape: {train.shape}\")\n",
    "\n",
    "# Print the shape of the test set\n",
    "print(f\"Test set shape: {test.shape}\")\n",
    "\n",
    "# Calculate and print the ratio of the test set size to the train set size\n",
    "print(test.shape[0] / train.shape[0])\n",
    "\n",
    "# Print the latest training date\n",
    "print(f\"Our latest training date is {train['date'].max()}\")"
   ]
  },
  {
   "cell_type": "markdown",
   "metadata": {},
   "source": [
    "In the following bar plot we will show the distribution of samples between the train and test sets, providing a visual representation of the train-test split for tickers."
   ]
  },
  {
   "cell_type": "code",
   "execution_count": 86,
   "metadata": {},
   "outputs": [
    {
     "data": {
      "image/png": "[encoded data removed]",
      "text/plain": [
       "<Figure size 640x480 with 1 Axes>"
      ]
     },
     "metadata": {},
     "output_type": "display_data"
    }
   ],
   "source": [
    "import matplotlib.pyplot as plt\n",
    "\n",
    "# Calculate the number of samples in the original dataset\n",
    "total_samples = len(joined_df_scaled)\n",
    "\n",
    "# Calculate the number of training samples based on the desired train-test split ratio\n",
    "train_samples = int(total_samples * 0.7)  # 70% for training\n",
    "\n",
    "# Calculate the number of testing samples\n",
    "test_samples = total_samples - train_samples\n",
    "\n",
    "# Create a bar plot to visualize the train-test split\n",
    "plt.bar(['Train Set', 'Test Set'], [train_samples, test_samples])\n",
    "\n",
    "# Add labels to the bars\n",
    "plt.text(0, train_samples, str(train_samples), ha='center', va='bottom')\n",
    "plt.text(1, test_samples, str(test_samples), ha='center', va='bottom')\n",
    "\n",
    "# Add a title to the plot\n",
    "plt.title('Train-Test Split of Tickers')\n",
    "\n",
    "# Display the plot\n",
    "plt.show()"
   ]
  },
  {
   "cell_type": "markdown",
   "metadata": {},
   "source": [
    "Plot interpretation: \n",
    "As we can observe in the bar plot that it indicates that the train set contains a larger number of samples compared to the test set, illustrating the train-test split for tickers. "
   ]
  }
 ],
 "metadata": {
  "kernelspec": {
   "display_name": "base",
   "language": "python",
   "name": "python3"
  },
  "language_info": {
   "codemirror_mode": {
    "name": "ipython",
    "version": 3
   },
   "file_extension": ".py",
   "mimetype": "text/x-python",
   "name": "python",
   "nbconvert_exporter": "python",
   "pygments_lexer": "ipython3",
   "version": "3.11.5"
  }
 },
 "nbformat": 4,
 "nbformat_minor": 2
}
